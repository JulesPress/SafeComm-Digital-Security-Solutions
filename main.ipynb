{
  "cells": [
    {
      "cell_type": "markdown",
      "metadata": {
        "id": "zLXNWWdwhgVd"
      },
      "source": [
        "# SafeComm-Digital-Security-Solutions\n",
        "\n",
        "Welcome to SafeComm Digital Security Solutions! In the modern digital age, people across the globe\n",
        "communicate largely through text messages. SMSs have become an integral part of our daily lives.\n",
        "However, with this ease of communication, there comes a dark side: SMS-based fraud. Unsuspecting\n",
        "individuals often receive malicious or scam texts intending to deceive or cause harm.\n",
        "SafeComm has recently partnered with a major telecom provider that has shared anonymized SMS\n",
        "data. This dataset comprises a mix of regular day-to-day messages and some potentially fraudulent\n",
        "ones. The objective is to design a mechanism that identifies and flags these fraudulent messages\n",
        "automatically. This way, we can warn users or even prevent these messages from being delivered\n",
        "altogether.\n",
        "\n",
        "# *Dataset features*\n",
        "\n",
        "• Fraudulent: Binary indicator if the SMS is fraudulent (1 for Yes, 0 for No)\n",
        "\n",
        "• SMS Text: The content of the SMS\n",
        "\n",
        "• ID: A unique identifier for each SMS\n",
        "\n",
        "• Date and Time: Timestamp indicating when the SMS was sent\n",
        "\n",
        "# *Assignment*\n",
        "\n",
        "• Perform an Explanatory data analysis (EDA) with visualization using the entire dataset..\n",
        "\n",
        "• Preprocess the dataset (impute missing values, encode categorical features with one-hot\n",
        "encoding). Your goal is to estimate whether an SMS is fraudulent\n",
        "\n",
        "• Define whether this is a regression, classification or clustering problem, explain why and\n",
        "choose your model design accordingly. Test at least 3 different models. First, create a\n",
        "validation set from the training set to analyze the behaviour with the default\n",
        "hyperparameters. Then use cross-validation to find the best set of hyperparameters. You\n",
        "must describe every hyperparameter tuned (the more, the better)\n",
        "\n",
        "• Select the best architecture using the right metric\n",
        "\n",
        "• Compute the performances of the test set\n",
        "\n",
        "• Explain your results"
      ]
    },
    {
      "cell_type": "markdown",
      "metadata": {},
      "source": [
        "First, lets begin by importing all the necessary libraries we will be utilising."
      ]
    },
    {
      "cell_type": "code",
      "execution_count": 8,
      "metadata": {
        "id": "HJuWXEAVSoMp"
      },
      "outputs": [],
      "source": [
        "import numpy as np\n",
        "import sklearn as skl\n",
        "import pandas as pd\n",
        "import matplotlib.pyplot as plt\n",
        "import seaborn as sns\n",
        "from sklearn.preprocessing import OneHotEncoder\n",
        "from sklearn.preprocessing import StandardScaler\n",
        "import requests\n",
        "import zipfile\n",
        "import os\n",
        "\n",
        "from nltk.tokenize import word_tokenize\n",
        "import nltk, spacy\n",
        "import re, string, unicodedata\n",
        "from bs4 import BeautifulSoup\n",
        "from sklearn.linear_model import LogisticRegression, SGDClassifier\n",
        "from sklearn.model_selection import train_test_split\n",
        "from sklearn.svm import SVC\n",
        "from sklearn.metrics import classification_report,confusion_matrix,accuracy_score\n",
        "from sklearn.feature_extraction.text import CountVectorizer\n",
        "from sklearn.feature_extraction.text import TfidfVectorizer\n",
        "from sklearn.preprocessing import LabelBinarizer\n",
        "from nltk.corpus import stopwords\n",
        "from nltk.stem.porter import PorterStemmer\n",
        "from nltk.stem import WordNetLemmatizer\n",
        "from nltk.tokenize.toktok import ToktokTokenizer\n",
        "from nltk.stem import LancasterStemmer,WordNetLemmatizer\n",
        "from wordcloud import WordCloud,STOPWORDS\n",
        "from sklearn import svm\n",
        "from sklearn.naive_bayes import MultinomialNB\n",
        "from sklearn.metrics import f1_score, precision_score, recall_score\n",
        "from sklearn.model_selection import train_test_split\n",
        "from sklearn.model_selection import RandomizedSearchCV\n",
        "from sklearn.ensemble import RandomForestClassifier\n",
        "from sklearn.model_selection import GridSearchCV\n",
        "from sklearn.metrics import confusion_matrix\n",
        "\n",
        "from imblearn.over_sampling import RandomOverSampler\n",
        "\n",
        "from tensorflow.keras.models import Sequential\n",
        "from tensorflow.keras.layers import Dense, Embedding, Flatten\n",
        "from tensorflow.keras.preprocessing.text import Tokenizer\n"
      ]
    },
    {
      "cell_type": "markdown",
      "metadata": {
        "id": "jLmGXXJFqkrF"
      },
      "source": [
        "## EDA analysis ##\n",
        "\n",
        "* Understanding the Dataset: We use python libraries to scan the dataset and gain insight of its structure\n",
        "\n",
        "* Checking for Integrity: We scan the dataset to identify NaN values and check if the dataset is consistent\n",
        "\n",
        "* Visualize Distribution of Data: using sns and matplotlib we can see how the data is structured in the cartesian plane\n",
        "\n",
        "* Use pairplots for identify relationships: Apparently not necessary"
      ]
    },
    {
      "cell_type": "markdown",
      "metadata": {
        "id": "yEh2tBbc65bh"
      },
      "source": [
        "# Showing the dataframe\n",
        "\n",
        "* here we display the complete dataset in a dataframe with 4 columns:\n",
        "  - *Fraudolent*: a binary value, that acts like a boolean, that assumes the value of 0 when the sms is not spam; 1 when it is fraudolent.\n",
        "  - *SMS test*: a string of text, representing an sms.\n",
        "  - *ID*: a unique alphanumeric code of 7 digits that represents the sms message.\n",
        "  - *Date and Time*: time in which the message has been sent (it is formatted as date and time)\n",
        "\n",
        "* Plus, for operational purposes, we needed to reformat the name of the *SMS test* and *Date and Time* columns."
      ]
    },
    {
      "cell_type": "code",
      "execution_count": 9,
      "metadata": {
        "colab": {
          "base_uri": "https://localhost:8080/",
          "height": 206
        },
        "id": "Qm9lUowvwMUc",
        "outputId": "9dce754c-4da5-4021-994a-222d74658881"
      },
      "outputs": [
        {
          "ename": "FileNotFoundError",
          "evalue": "[Errno 2] No such file or directory: 'sms.csv'",
          "output_type": "error",
          "traceback": [
            "\u001b[1;31m---------------------------------------------------------------------------\u001b[0m",
            "\u001b[1;31mFileNotFoundError\u001b[0m                         Traceback (most recent call last)",
            "\u001b[1;32mc:\\University\\Second Year\\Artificial Intelligence and Machine Learning\\Project\\SafeComm-Digital-Security-Solutions-1\\main.ipynb Cell 6\u001b[0m line \u001b[0;36m1\n\u001b[1;32m----> <a href='vscode-notebook-cell:/c%3A/University/Second%20Year/Artificial%20Intelligence%20and%20Machine%20Learning/Project/SafeComm-Digital-Security-Solutions-1/main.ipynb#W4sZmlsZQ%3D%3D?line=0'>1</a>\u001b[0m sms_df \u001b[39m=\u001b[39m pd\u001b[39m.\u001b[39mread_csv(\u001b[39m\"\u001b[39m\u001b[39msms.csv\u001b[39m\u001b[39m\"\u001b[39m)\n\u001b[0;32m      <a href='vscode-notebook-cell:/c%3A/University/Second%20Year/Artificial%20Intelligence%20and%20Machine%20Learning/Project/SafeComm-Digital-Security-Solutions-1/main.ipynb#W4sZmlsZQ%3D%3D?line=1'>2</a>\u001b[0m sms_df\u001b[39m.\u001b[39mrename(columns\u001b[39m=\u001b[39m{\u001b[39m'\u001b[39m\u001b[39mSMS test\u001b[39m\u001b[39m'\u001b[39m: \u001b[39m'\u001b[39m\u001b[39mSMS_test\u001b[39m\u001b[39m'\u001b[39m}, inplace\u001b[39m=\u001b[39m\u001b[39mTrue\u001b[39;00m)\n\u001b[0;32m      <a href='vscode-notebook-cell:/c%3A/University/Second%20Year/Artificial%20Intelligence%20and%20Machine%20Learning/Project/SafeComm-Digital-Security-Solutions-1/main.ipynb#W4sZmlsZQ%3D%3D?line=2'>3</a>\u001b[0m sms_df\u001b[39m.\u001b[39mrename(columns\u001b[39m=\u001b[39m{\u001b[39m'\u001b[39m\u001b[39mDate and Time\u001b[39m\u001b[39m'\u001b[39m: \u001b[39m'\u001b[39m\u001b[39mDate_and_Time\u001b[39m\u001b[39m'\u001b[39m}, inplace\u001b[39m=\u001b[39m\u001b[39mTrue\u001b[39;00m)\n",
            "File \u001b[1;32mc:\\University\\Second Year\\Artificial Intelligence and Machine Learning\\Project\\SafeComm-Digital-Security-Solutions-1\\.conda\\lib\\site-packages\\pandas\\io\\parsers\\readers.py:948\u001b[0m, in \u001b[0;36mread_csv\u001b[1;34m(filepath_or_buffer, sep, delimiter, header, names, index_col, usecols, dtype, engine, converters, true_values, false_values, skipinitialspace, skiprows, skipfooter, nrows, na_values, keep_default_na, na_filter, verbose, skip_blank_lines, parse_dates, infer_datetime_format, keep_date_col, date_parser, date_format, dayfirst, cache_dates, iterator, chunksize, compression, thousands, decimal, lineterminator, quotechar, quoting, doublequote, escapechar, comment, encoding, encoding_errors, dialect, on_bad_lines, delim_whitespace, low_memory, memory_map, float_precision, storage_options, dtype_backend)\u001b[0m\n\u001b[0;32m    935\u001b[0m kwds_defaults \u001b[39m=\u001b[39m _refine_defaults_read(\n\u001b[0;32m    936\u001b[0m     dialect,\n\u001b[0;32m    937\u001b[0m     delimiter,\n\u001b[1;32m   (...)\u001b[0m\n\u001b[0;32m    944\u001b[0m     dtype_backend\u001b[39m=\u001b[39mdtype_backend,\n\u001b[0;32m    945\u001b[0m )\n\u001b[0;32m    946\u001b[0m kwds\u001b[39m.\u001b[39mupdate(kwds_defaults)\n\u001b[1;32m--> 948\u001b[0m \u001b[39mreturn\u001b[39;00m _read(filepath_or_buffer, kwds)\n",
            "File \u001b[1;32mc:\\University\\Second Year\\Artificial Intelligence and Machine Learning\\Project\\SafeComm-Digital-Security-Solutions-1\\.conda\\lib\\site-packages\\pandas\\io\\parsers\\readers.py:611\u001b[0m, in \u001b[0;36m_read\u001b[1;34m(filepath_or_buffer, kwds)\u001b[0m\n\u001b[0;32m    608\u001b[0m _validate_names(kwds\u001b[39m.\u001b[39mget(\u001b[39m\"\u001b[39m\u001b[39mnames\u001b[39m\u001b[39m\"\u001b[39m, \u001b[39mNone\u001b[39;00m))\n\u001b[0;32m    610\u001b[0m \u001b[39m# Create the parser.\u001b[39;00m\n\u001b[1;32m--> 611\u001b[0m parser \u001b[39m=\u001b[39m TextFileReader(filepath_or_buffer, \u001b[39m*\u001b[39m\u001b[39m*\u001b[39mkwds)\n\u001b[0;32m    613\u001b[0m \u001b[39mif\u001b[39;00m chunksize \u001b[39mor\u001b[39;00m iterator:\n\u001b[0;32m    614\u001b[0m     \u001b[39mreturn\u001b[39;00m parser\n",
            "File \u001b[1;32mc:\\University\\Second Year\\Artificial Intelligence and Machine Learning\\Project\\SafeComm-Digital-Security-Solutions-1\\.conda\\lib\\site-packages\\pandas\\io\\parsers\\readers.py:1448\u001b[0m, in \u001b[0;36mTextFileReader.__init__\u001b[1;34m(self, f, engine, **kwds)\u001b[0m\n\u001b[0;32m   1445\u001b[0m     \u001b[39mself\u001b[39m\u001b[39m.\u001b[39moptions[\u001b[39m\"\u001b[39m\u001b[39mhas_index_names\u001b[39m\u001b[39m\"\u001b[39m] \u001b[39m=\u001b[39m kwds[\u001b[39m\"\u001b[39m\u001b[39mhas_index_names\u001b[39m\u001b[39m\"\u001b[39m]\n\u001b[0;32m   1447\u001b[0m \u001b[39mself\u001b[39m\u001b[39m.\u001b[39mhandles: IOHandles \u001b[39m|\u001b[39m \u001b[39mNone\u001b[39;00m \u001b[39m=\u001b[39m \u001b[39mNone\u001b[39;00m\n\u001b[1;32m-> 1448\u001b[0m \u001b[39mself\u001b[39m\u001b[39m.\u001b[39m_engine \u001b[39m=\u001b[39m \u001b[39mself\u001b[39;49m\u001b[39m.\u001b[39;49m_make_engine(f, \u001b[39mself\u001b[39;49m\u001b[39m.\u001b[39;49mengine)\n",
            "File \u001b[1;32mc:\\University\\Second Year\\Artificial Intelligence and Machine Learning\\Project\\SafeComm-Digital-Security-Solutions-1\\.conda\\lib\\site-packages\\pandas\\io\\parsers\\readers.py:1705\u001b[0m, in \u001b[0;36mTextFileReader._make_engine\u001b[1;34m(self, f, engine)\u001b[0m\n\u001b[0;32m   1703\u001b[0m     \u001b[39mif\u001b[39;00m \u001b[39m\"\u001b[39m\u001b[39mb\u001b[39m\u001b[39m\"\u001b[39m \u001b[39mnot\u001b[39;00m \u001b[39min\u001b[39;00m mode:\n\u001b[0;32m   1704\u001b[0m         mode \u001b[39m+\u001b[39m\u001b[39m=\u001b[39m \u001b[39m\"\u001b[39m\u001b[39mb\u001b[39m\u001b[39m\"\u001b[39m\n\u001b[1;32m-> 1705\u001b[0m \u001b[39mself\u001b[39m\u001b[39m.\u001b[39mhandles \u001b[39m=\u001b[39m get_handle(\n\u001b[0;32m   1706\u001b[0m     f,\n\u001b[0;32m   1707\u001b[0m     mode,\n\u001b[0;32m   1708\u001b[0m     encoding\u001b[39m=\u001b[39;49m\u001b[39mself\u001b[39;49m\u001b[39m.\u001b[39;49moptions\u001b[39m.\u001b[39;49mget(\u001b[39m\"\u001b[39;49m\u001b[39mencoding\u001b[39;49m\u001b[39m\"\u001b[39;49m, \u001b[39mNone\u001b[39;49;00m),\n\u001b[0;32m   1709\u001b[0m     compression\u001b[39m=\u001b[39;49m\u001b[39mself\u001b[39;49m\u001b[39m.\u001b[39;49moptions\u001b[39m.\u001b[39;49mget(\u001b[39m\"\u001b[39;49m\u001b[39mcompression\u001b[39;49m\u001b[39m\"\u001b[39;49m, \u001b[39mNone\u001b[39;49;00m),\n\u001b[0;32m   1710\u001b[0m     memory_map\u001b[39m=\u001b[39;49m\u001b[39mself\u001b[39;49m\u001b[39m.\u001b[39;49moptions\u001b[39m.\u001b[39;49mget(\u001b[39m\"\u001b[39;49m\u001b[39mmemory_map\u001b[39;49m\u001b[39m\"\u001b[39;49m, \u001b[39mFalse\u001b[39;49;00m),\n\u001b[0;32m   1711\u001b[0m     is_text\u001b[39m=\u001b[39;49mis_text,\n\u001b[0;32m   1712\u001b[0m     errors\u001b[39m=\u001b[39;49m\u001b[39mself\u001b[39;49m\u001b[39m.\u001b[39;49moptions\u001b[39m.\u001b[39;49mget(\u001b[39m\"\u001b[39;49m\u001b[39mencoding_errors\u001b[39;49m\u001b[39m\"\u001b[39;49m, \u001b[39m\"\u001b[39;49m\u001b[39mstrict\u001b[39;49m\u001b[39m\"\u001b[39;49m),\n\u001b[0;32m   1713\u001b[0m     storage_options\u001b[39m=\u001b[39;49m\u001b[39mself\u001b[39;49m\u001b[39m.\u001b[39;49moptions\u001b[39m.\u001b[39;49mget(\u001b[39m\"\u001b[39;49m\u001b[39mstorage_options\u001b[39;49m\u001b[39m\"\u001b[39;49m, \u001b[39mNone\u001b[39;49;00m),\n\u001b[0;32m   1714\u001b[0m )\n\u001b[0;32m   1715\u001b[0m \u001b[39massert\u001b[39;00m \u001b[39mself\u001b[39m\u001b[39m.\u001b[39mhandles \u001b[39mis\u001b[39;00m \u001b[39mnot\u001b[39;00m \u001b[39mNone\u001b[39;00m\n\u001b[0;32m   1716\u001b[0m f \u001b[39m=\u001b[39m \u001b[39mself\u001b[39m\u001b[39m.\u001b[39mhandles\u001b[39m.\u001b[39mhandle\n",
            "File \u001b[1;32mc:\\University\\Second Year\\Artificial Intelligence and Machine Learning\\Project\\SafeComm-Digital-Security-Solutions-1\\.conda\\lib\\site-packages\\pandas\\io\\common.py:863\u001b[0m, in \u001b[0;36mget_handle\u001b[1;34m(path_or_buf, mode, encoding, compression, memory_map, is_text, errors, storage_options)\u001b[0m\n\u001b[0;32m    858\u001b[0m \u001b[39melif\u001b[39;00m \u001b[39misinstance\u001b[39m(handle, \u001b[39mstr\u001b[39m):\n\u001b[0;32m    859\u001b[0m     \u001b[39m# Check whether the filename is to be opened in binary mode.\u001b[39;00m\n\u001b[0;32m    860\u001b[0m     \u001b[39m# Binary mode does not support 'encoding' and 'newline'.\u001b[39;00m\n\u001b[0;32m    861\u001b[0m     \u001b[39mif\u001b[39;00m ioargs\u001b[39m.\u001b[39mencoding \u001b[39mand\u001b[39;00m \u001b[39m\"\u001b[39m\u001b[39mb\u001b[39m\u001b[39m\"\u001b[39m \u001b[39mnot\u001b[39;00m \u001b[39min\u001b[39;00m ioargs\u001b[39m.\u001b[39mmode:\n\u001b[0;32m    862\u001b[0m         \u001b[39m# Encoding\u001b[39;00m\n\u001b[1;32m--> 863\u001b[0m         handle \u001b[39m=\u001b[39m \u001b[39mopen\u001b[39;49m(\n\u001b[0;32m    864\u001b[0m             handle,\n\u001b[0;32m    865\u001b[0m             ioargs\u001b[39m.\u001b[39;49mmode,\n\u001b[0;32m    866\u001b[0m             encoding\u001b[39m=\u001b[39;49mioargs\u001b[39m.\u001b[39;49mencoding,\n\u001b[0;32m    867\u001b[0m             errors\u001b[39m=\u001b[39;49merrors,\n\u001b[0;32m    868\u001b[0m             newline\u001b[39m=\u001b[39;49m\u001b[39m\"\u001b[39;49m\u001b[39m\"\u001b[39;49m,\n\u001b[0;32m    869\u001b[0m         )\n\u001b[0;32m    870\u001b[0m     \u001b[39melse\u001b[39;00m:\n\u001b[0;32m    871\u001b[0m         \u001b[39m# Binary mode\u001b[39;00m\n\u001b[0;32m    872\u001b[0m         handle \u001b[39m=\u001b[39m \u001b[39mopen\u001b[39m(handle, ioargs\u001b[39m.\u001b[39mmode)\n",
            "\u001b[1;31mFileNotFoundError\u001b[0m: [Errno 2] No such file or directory: 'sms.csv'"
          ]
        }
      ],
      "source": [
        "sms_df = pd.read_csv(\"sms.csv\")\n",
        "sms_df.rename(columns={'SMS test': 'SMS_test'}, inplace=True)\n",
        "sms_df.rename(columns={'Date and Time': 'Date_and_Time'}, inplace=True)\n",
        "sms_df.head()"
      ]
    },
    {
      "cell_type": "markdown",
      "metadata": {},
      "source": [
        "Let's display the number of rows present in our dataset to gain an understanding of just how many fields we are working with."
      ]
    },
    {
      "cell_type": "code",
      "execution_count": null,
      "metadata": {
        "colab": {
          "base_uri": "https://localhost:8080/"
        },
        "id": "jy6wNauLxN0r",
        "outputId": "b6b2cd2b-7d5c-4ab1-bfef-1c7945fbc1a4"
      },
      "outputs": [
        {
          "name": "stdout",
          "output_type": "stream",
          "text": [
            "Rows: 5572\n"
          ]
        }
      ],
      "source": [
        "print(\"Rows:\",sms_df.shape[0])"
      ]
    },
    {
      "cell_type": "markdown",
      "metadata": {},
      "source": [
        "Now let's count the number of NaN values we have in our dataset."
      ]
    },
    {
      "cell_type": "code",
      "execution_count": null,
      "metadata": {
        "colab": {
          "base_uri": "https://localhost:8080/"
        },
        "id": "6noBNCcVxLq0",
        "outputId": "1f9ede03-9c89-46b4-9537-0aa78749db09"
      },
      "outputs": [
        {
          "name": "stdout",
          "output_type": "stream",
          "text": [
            "NaN values in each column:\n",
            "Fraudolent       0\n",
            "SMS_test         0\n",
            "ID               0\n",
            "Date_and_Time    0\n",
            "dtype: int64\n"
          ]
        }
      ],
      "source": [
        "nan_count = sms_df.isna().sum()\n",
        "\n",
        "# Display the count of NaN values for each column\n",
        "print(\"NaN values in each column:\")\n",
        "print(nan_count)"
      ]
    },
    {
      "cell_type": "markdown",
      "metadata": {
        "id": "K-LoLD7zxXJj"
      },
      "source": [
        "Fortunately we don't have NaN values in the dataset, so it is consistent and we do not need to impute missing values."
      ]
    },
    {
      "cell_type": "markdown",
      "metadata": {},
      "source": [
        "Next, we need a clear understanding of just how many of the SMS's in our dataset are actually Fraudulent."
      ]
    },
    {
      "cell_type": "code",
      "execution_count": null,
      "metadata": {
        "colab": {
          "base_uri": "https://localhost:8080/"
        },
        "id": "-euOcDyu2JVY",
        "outputId": "ad644d24-c65f-473b-9972-d52f926bd64d"
      },
      "outputs": [
        {
          "name": "stdout",
          "output_type": "stream",
          "text": [
            "\n",
            "Fraudolent column summary:\n",
            "0    4825\n",
            "1     747\n",
            "Name: Fraudolent, dtype: int64\n",
            "Percentage of fraudolent messages: 13.406317300789663 %\n",
            "Percentage of non-fraudolent messages: 86.59368269921033 %\n"
          ]
        }
      ],
      "source": [
        "print(\"\\nFraudolent column summary:\")\n",
        "print(sms_df['Fraudolent'].value_counts())\n",
        "fraudolent_count = sms_df['Fraudolent'].value_counts()[1]\n",
        "non_fraudolent_count = sms_df['Fraudolent'].value_counts()[0]\n",
        "percentage_fraudolent = (fraudolent_count / (fraudolent_count + non_fraudolent_count)) * 100\n",
        "percentage_non_fraudolent = (non_fraudolent_count / (fraudolent_count + non_fraudolent_count)) * 100\n",
        "print(\"Percentage of fraudolent messages:\", percentage_fraudolent,'%')\n",
        "print(\"Percentage of non-fraudolent messages:\", percentage_non_fraudolent,'%')"
      ]
    },
    {
      "cell_type": "markdown",
      "metadata": {
        "id": "1uP7aZYV3E2O"
      },
      "source": [
        "* Here we can clearly see that there are 4825 Non-Fraudulent messages and 747 Fraudulent messages.\n",
        "\n",
        "* Furthermore we have displayed the percentage of fraudulent and non-fraudulent messages in the dataset. We can see that the dataset is unbalanced, favouring non-fraudulent messages."
      ]
    },
    {
      "cell_type": "markdown",
      "metadata": {
        "id": "zeMleYnc59Vb"
      },
      "source": [
        "## Data Distribution and Correlations ##\n",
        "\n",
        "* In this section, we are analyzing the distribution of data in te cartesian plane utilizing sns and matplotlib tools.\n",
        "\n",
        "* In particular, it seems that the most interesting feature to study in the dataset (in terms of distribution analysis) is the *Fraudolent* column."
      ]
    },
    {
      "cell_type": "markdown",
      "metadata": {},
      "source": [
        "## Let's Get Plotting!\n",
        "* Create a distribution plot (histogram) to visualize the data\n"
      ]
    },
    {
      "cell_type": "code",
      "execution_count": null,
      "metadata": {
        "colab": {
          "base_uri": "https://localhost:8080/",
          "height": 564
        },
        "id": "59KwlqWh57pd",
        "outputId": "8623d94c-06e2-4d3b-ae8d-286b10deb8b0"
      },
      "outputs": [
        {
          "data": {
            "image/png": "[encoded data removed]",
            "text/plain": [
              "<Figure size 1000x600 with 1 Axes>"
            ]
          },
          "metadata": {},
          "output_type": "display_data"
        }
      ],
      "source": [
        "\n",
        "column_to_analyze = 'Fraudolent'\n",
        "plt.figure(figsize=(10, 6))\n",
        "sns.histplot(sms_df[column_to_analyze], kde=True, bins=20, color='skyblue')\n",
        "plt.title(f'Distribution of {column_to_analyze}')\n",
        "plt.xlabel(column_to_analyze)\n",
        "plt.ylabel('Frequency')\n",
        "plt.grid(True)\n",
        "# Show the plot\n",
        "plt.show()"
      ]
    },
    {
      "cell_type": "markdown",
      "metadata": {},
      "source": [
        "Considering the histogram plotted, it's now clearer than ever just how unbalanced our dataset truly is.\n",
        "\n",
        "*We will definitely need to fix this further down the line*"
      ]
    },
    {
      "cell_type": "markdown",
      "metadata": {},
      "source": [
        "For now let's graphically visualise the difference of Fraudulent Vs. Non-Fraudulent text messages:"
      ]
    },
    {
      "cell_type": "code",
      "execution_count": null,
      "metadata": {
        "colab": {
          "base_uri": "https://localhost:8080/",
          "height": 472
        },
        "id": "NBsXYPk2IigI",
        "outputId": "5e9c410b-7618-48d4-cf72-5093b85f131a"
      },
      "outputs": [
        {
          "data": {
            "image/png": "[encoded data removed]",
            "text/plain": [
              "<Figure size 640x480 with 1 Axes>"
            ]
          },
          "metadata": {},
          "output_type": "display_data"
        }
      ],
      "source": [
        "# Visualize the distribution of Fraudolent\n",
        "sns.countplot(data=sms_df, x='Fraudolent')\n",
        "plt.title('Distribution of Fraudolent')\n",
        "plt.xlabel('Fraudolent')\n",
        "plt.ylabel('Count')\n",
        "plt.show()"
      ]
    },
    {
      "cell_type": "markdown",
      "metadata": {},
      "source": [
        "It's also important for us to visualize the text length distribution graphically to see if there is any correlation between:\n",
        "* Text Length\n",
        "* Count of Fraudulent Messages"
      ]
    },
    {
      "cell_type": "code",
      "execution_count": null,
      "metadata": {
        "colab": {
          "base_uri": "https://localhost:8080/",
          "height": 564
        },
        "id": "qRPtVeNS5F4d",
        "outputId": "f02c19cf-88a0-48fb-e101-b916cfe3b626"
      },
      "outputs": [
        {
          "data": {
            "image/png": "[encoded data removed]",
            "text/plain": [
              "<Figure size 1000x600 with 1 Axes>"
            ]
          },
          "metadata": {},
          "output_type": "display_data"
        }
      ],
      "source": [
        "sms_df['text_length'] = sms_df['SMS_test'].apply(len)\n",
        "plt.figure(figsize=(10, 6))\n",
        "sns.histplot(data=sms_df, x='text_length', kde=True, bins=50, color='skyblue')\n",
        "plt.title('Distribution of SMS Text Length')\n",
        "plt.xlabel('Text Length')\n",
        "plt.ylabel('Count')\n",
        "plt.show()"
      ]
    },
    {
      "cell_type": "markdown",
      "metadata": {},
      "source": [
        "While we're visualising our data, let's also consider the Temporal Distribution of the SMS's.\n",
        "\n",
        "We examine the graph to inspect whether the given data is skewed towards a specific year."
      ]
    },
    {
      "cell_type": "code",
      "execution_count": null,
      "metadata": {
        "colab": {
          "base_uri": "https://localhost:8080/",
          "height": 564
        },
        "id": "cPhiAGKZ5M0z",
        "outputId": "5ca3df07-49e4-44e7-e3fb-1479946d83c6"
      },
      "outputs": [
        {
          "data": {
            "image/png": "[encoded data removed]",
            "text/plain": [
              "<Figure size 1200x600 with 1 Axes>"
            ]
          },
          "metadata": {},
          "output_type": "display_data"
        }
      ],
      "source": [
        "# Assuming the Date and Time column is named 'Date_and_Time'\n",
        "sms_df['Date_and_Time'] = pd.to_datetime(sms_df['Date_and_Time'])\n",
        "\n",
        "# Extract date and time components\n",
        "sms_df['Year'] = sms_df['Date_and_Time'].dt.year\n",
        "sms_df['Month'] = sms_df['Date_and_Time'].dt.month\n",
        "sms_df['Day'] = sms_df['Date_and_Time'].dt.day\n",
        "\n",
        "# Visualize temporal distribution\n",
        "plt.figure(figsize=(12, 6))\n",
        "sns.countplot(x='Year', hue='Fraudolent', data=sms_df)\n",
        "plt.title('Temporal Distribution of SMS')\n",
        "plt.xlabel('Year')\n",
        "plt.ylabel('Count')\n",
        "plt.show()"
      ]
    },
    {
      "cell_type": "markdown",
      "metadata": {},
      "source": [
        "Luckily as shown in the graph, there is no strong correlation between the number of fraudulent messages when looking at individual years.\n",
        "\n",
        "They seem to be fairly well-dispersed across the years."
      ]
    },
    {
      "cell_type": "markdown",
      "metadata": {},
      "source": [
        "Now lets build a correlation matrix to see exactly what columns are correlated (if any)\n",
        "\n",
        "__Building the correlation matrix, we need only to correlate the Fraudulent feature with the text length, so we can drop the other columns (ID, Date_and_Time, Year, Month, Day)__"
      ]
    },
    {
      "cell_type": "code",
      "execution_count": null,
      "metadata": {
        "colab": {
          "base_uri": "https://localhost:8080/",
          "height": 507
        },
        "id": "54UBJou85cWz",
        "outputId": "da769557-a36e-45c4-f448-b9b8ffe5a830"
      },
      "outputs": [
        {
          "name": "stderr",
          "output_type": "stream",
          "text": [
            "<ipython-input-12-43d728a11383>:3: FutureWarning: The default value of numeric_only in DataFrame.corr is deprecated. In a future version, it will default to False. Select only valid columns or specify the value of numeric_only to silence this warning.\n",
            "  correlation_matrix = df_dropped.corr()\n"
          ]
        },
        {
          "data": {
            "image/png": "[encoded data removed]",
            "text/plain": [
              "<Figure size 640x480 with 2 Axes>"
            ]
          },
          "metadata": {},
          "output_type": "display_data"
        }
      ],
      "source": [
        "df_dropped = sms_df.drop(['Year', 'Month', 'Day', 'ID', 'Date_and_Time'], axis=1, inplace=False)\n",
        "correlation_matrix = df_dropped.corr()\n",
        "sns.heatmap(correlation_matrix, annot=True, cmap='coolwarm')\n",
        "plt.title('Correlation Matrix')\n",
        "plt.show()"
      ]
    },
    {
      "cell_type": "markdown",
      "metadata": {},
      "source": [
        "Given the correlations calculated, we can see that there is no strong correlation whatsoever between text_length and Fraudolent values.\n",
        "\n",
        "*This means that we can use all of them for our analysis.*\n",
        "* We can also see that the correlation between the variables is not strong enough to cause multicollinearity issues.\n",
        "* We can interpet the correlation between Fraudolent and text_length as as weak correlation at most."
      ]
    },
    {
      "cell_type": "markdown",
      "metadata": {},
      "source": [
        "### By splitting the date into its components, we can analyze the temporal distribution of the messages.\n",
        "* This allows us to see that in our dataset the range of years for which we are viewing sent SMS Messages is from 2016 to 2018."
      ]
    },
    {
      "cell_type": "code",
      "execution_count": null,
      "metadata": {
        "colab": {
          "base_uri": "https://localhost:8080/",
          "height": 296
        },
        "id": "ISJiUBf43j_l",
        "outputId": "b1905c47-7a31-4d44-fdfc-abf78c426977"
      },
      "outputs": [
        {
          "name": "stdout",
          "output_type": "stream",
          "text": [
            "Earliest date of an SMS message sent: 2016-02-15 00:00:00\n",
            "Latest date of an SMS message sent: 2018-09-19 00:00:00\n"
          ]
        },
        {
          "name": "stderr",
          "output_type": "stream",
          "text": [
            "<ipython-input-13-4f45f72fddba>:9: FutureWarning: The default value of numeric_only in DataFrame.corr is deprecated. In a future version, it will default to False. Select only valid columns or specify the value of numeric_only to silence this warning.\n",
            "  sms_df.corr()\n"
          ]
        },
        {
          "data": {
            "text/html": [
              "\n",
              "  <div id=\"df-f1edb6c6-2558-4094-bc18-9e29e9dc8957\" class=\"colab-df-container\">\n",
              "    <div>\n",
              "<style scoped>\n",
              "    .dataframe tbody tr th:only-of-type {\n",
              "        vertical-align: middle;\n",
              "    }\n",
              "\n",
              "    .dataframe tbody tr th {\n",
              "        vertical-align: top;\n",
              "    }\n",
              "\n",
              "    .dataframe thead th {\n",
              "        text-align: right;\n",
              "    }\n",
              "</style>\n",
              "<table border=\"1\" class=\"dataframe\">\n",
              "  <thead>\n",
              "    <tr style=\"text-align: right;\">\n",
              "      <th></th>\n",
              "      <th>Fraudolent</th>\n",
              "      <th>text_length</th>\n",
              "      <th>Year</th>\n",
              "      <th>Month</th>\n",
              "      <th>Day</th>\n",
              "    </tr>\n",
              "  </thead>\n",
              "  <tbody>\n",
              "    <tr>\n",
              "      <th>Fraudolent</th>\n",
              "      <td>1.000000</td>\n",
              "      <td>0.378359</td>\n",
              "      <td>0.004349</td>\n",
              "      <td>-0.004380</td>\n",
              "      <td>-0.004535</td>\n",
              "    </tr>\n",
              "    <tr>\n",
              "      <th>text_length</th>\n",
              "      <td>0.378359</td>\n",
              "      <td>1.000000</td>\n",
              "      <td>0.029498</td>\n",
              "      <td>-0.010077</td>\n",
              "      <td>0.014077</td>\n",
              "    </tr>\n",
              "    <tr>\n",
              "      <th>Year</th>\n",
              "      <td>0.004349</td>\n",
              "      <td>0.029498</td>\n",
              "      <td>1.000000</td>\n",
              "      <td>-0.304300</td>\n",
              "      <td>-0.054934</td>\n",
              "    </tr>\n",
              "    <tr>\n",
              "      <th>Month</th>\n",
              "      <td>-0.004380</td>\n",
              "      <td>-0.010077</td>\n",
              "      <td>-0.304300</td>\n",
              "      <td>1.000000</td>\n",
              "      <td>0.007355</td>\n",
              "    </tr>\n",
              "    <tr>\n",
              "      <th>Day</th>\n",
              "      <td>-0.004535</td>\n",
              "      <td>0.014077</td>\n",
              "      <td>-0.054934</td>\n",
              "      <td>0.007355</td>\n",
              "      <td>1.000000</td>\n",
              "    </tr>\n",
              "  </tbody>\n",
              "</table>\n",
              "</div>\n",
              "    <div class=\"colab-df-buttons\">\n",
              "\n",
              "  <div class=\"colab-df-container\">\n",
              "    <button class=\"colab-df-convert\" onclick=\"convertToInteractive('df-f1edb6c6-2558-4094-bc18-9e29e9dc8957')\"\n",
              "            title=\"Convert this dataframe to an interactive table.\"\n",
              "            style=\"display:none;\">\n",
              "\n",
              "  <svg xmlns=\"http://www.w3.org/2000/svg\" height=\"24px\" viewBox=\"0 -960 960 960\">\n",
              "    <path d=\"M120-120v-720h720v720H120Zm60-500h600v-160H180v160Zm220 220h160v-160H400v160Zm0 220h160v-160H400v160ZM180-400h160v-160H180v160Zm440 0h160v-160H620v160ZM180-180h160v-160H180v160Zm440 0h160v-160H620v160Z\"/>\n",
              "  </svg>\n",
              "    </button>\n",
              "\n",
              "  <style>\n",
              "    .colab-df-container {\n",
              "      display:flex;\n",
              "      gap: 12px;\n",
              "    }\n",
              "\n",
              "    .colab-df-convert {\n",
              "      background-color: #E8F0FE;\n",
              "      border: none;\n",
              "      border-radius: 50%;\n",
              "      cursor: pointer;\n",
              "      display: none;\n",
              "      fill: #1967D2;\n",
              "      height: 32px;\n",
              "      padding: 0 0 0 0;\n",
              "      width: 32px;\n",
              "    }\n",
              "\n",
              "    .colab-df-convert:hover {\n",
              "      background-color: #E2EBFA;\n",
              "      box-shadow: 0px 1px 2px rgba(60, 64, 67, 0.3), 0px 1px 3px 1px rgba(60, 64, 67, 0.15);\n",
              "      fill: #174EA6;\n",
              "    }\n",
              "\n",
              "    .colab-df-buttons div {\n",
              "      margin-bottom: 4px;\n",
              "    }\n",
              "\n",
              "    [theme=dark] .colab-df-convert {\n",
              "      background-color: #3B4455;\n",
              "      fill: #D2E3FC;\n",
              "    }\n",
              "\n",
              "    [theme=dark] .colab-df-convert:hover {\n",
              "      background-color: #434B5C;\n",
              "      box-shadow: 0px 1px 3px 1px rgba(0, 0, 0, 0.15);\n",
              "      filter: drop-shadow(0px 1px 2px rgba(0, 0, 0, 0.3));\n",
              "      fill: #FFFFFF;\n",
              "    }\n",
              "  </style>\n",
              "\n",
              "    <script>\n",
              "      const buttonEl =\n",
              "        document.querySelector('#df-f1edb6c6-2558-4094-bc18-9e29e9dc8957 button.colab-df-convert');\n",
              "      buttonEl.style.display =\n",
              "        google.colab.kernel.accessAllowed ? 'block' : 'none';\n",
              "\n",
              "      async function convertToInteractive(key) {\n",
              "        const element = document.querySelector('#df-f1edb6c6-2558-4094-bc18-9e29e9dc8957');\n",
              "        const dataTable =\n",
              "          await google.colab.kernel.invokeFunction('convertToInteractive',\n",
              "                                                    [key], {});\n",
              "        if (!dataTable) return;\n",
              "\n",
              "        const docLinkHtml = 'Like what you see? Visit the ' +\n",
              "          '<a target=\"_blank\" href=https://colab.research.google.com/notebooks/data_table.ipynb>data table notebook</a>'\n",
              "          + ' to learn more about interactive tables.';\n",
              "        element.innerHTML = '';\n",
              "        dataTable['output_type'] = 'display_data';\n",
              "        await google.colab.output.renderOutput(dataTable, element);\n",
              "        const docLink = document.createElement('div');\n",
              "        docLink.innerHTML = docLinkHtml;\n",
              "        element.appendChild(docLink);\n",
              "      }\n",
              "    </script>\n",
              "  </div>\n",
              "\n",
              "\n",
              "<div id=\"df-bfca602f-d2d1-46a5-b2f5-f13185772ef8\">\n",
              "  <button class=\"colab-df-quickchart\" onclick=\"quickchart('df-bfca602f-d2d1-46a5-b2f5-f13185772ef8')\"\n",
              "            title=\"Suggest charts\"\n",
              "            style=\"display:none;\">\n",
              "\n",
              "<svg xmlns=\"http://www.w3.org/2000/svg\" height=\"24px\"viewBox=\"0 0 24 24\"\n",
              "     width=\"24px\">\n",
              "    <g>\n",
              "        <path d=\"M19 3H5c-1.1 0-2 .9-2 2v14c0 1.1.9 2 2 2h14c1.1 0 2-.9 2-2V5c0-1.1-.9-2-2-2zM9 17H7v-7h2v7zm4 0h-2V7h2v10zm4 0h-2v-4h2v4z\"/>\n",
              "    </g>\n",
              "</svg>\n",
              "  </button>\n",
              "\n",
              "<style>\n",
              "  .colab-df-quickchart {\n",
              "      --bg-color: #E8F0FE;\n",
              "      --fill-color: #1967D2;\n",
              "      --hover-bg-color: #E2EBFA;\n",
              "      --hover-fill-color: #174EA6;\n",
              "      --disabled-fill-color: #AAA;\n",
              "      --disabled-bg-color: #DDD;\n",
              "  }\n",
              "\n",
              "  [theme=dark] .colab-df-quickchart {\n",
              "      --bg-color: #3B4455;\n",
              "      --fill-color: #D2E3FC;\n",
              "      --hover-bg-color: #434B5C;\n",
              "      --hover-fill-color: #FFFFFF;\n",
              "      --disabled-bg-color: #3B4455;\n",
              "      --disabled-fill-color: #666;\n",
              "  }\n",
              "\n",
              "  .colab-df-quickchart {\n",
              "    background-color: var(--bg-color);\n",
              "    border: none;\n",
              "    border-radius: 50%;\n",
              "    cursor: pointer;\n",
              "    display: none;\n",
              "    fill: var(--fill-color);\n",
              "    height: 32px;\n",
              "    padding: 0;\n",
              "    width: 32px;\n",
              "  }\n",
              "\n",
              "  .colab-df-quickchart:hover {\n",
              "    background-color: var(--hover-bg-color);\n",
              "    box-shadow: 0 1px 2px rgba(60, 64, 67, 0.3), 0 1px 3px 1px rgba(60, 64, 67, 0.15);\n",
              "    fill: var(--button-hover-fill-color);\n",
              "  }\n",
              "\n",
              "  .colab-df-quickchart-complete:disabled,\n",
              "  .colab-df-quickchart-complete:disabled:hover {\n",
              "    background-color: var(--disabled-bg-color);\n",
              "    fill: var(--disabled-fill-color);\n",
              "    box-shadow: none;\n",
              "  }\n",
              "\n",
              "  .colab-df-spinner {\n",
              "    border: 2px solid var(--fill-color);\n",
              "    border-color: transparent;\n",
              "    border-bottom-color: var(--fill-color);\n",
              "    animation:\n",
              "      spin 1s steps(1) infinite;\n",
              "  }\n",
              "\n",
              "  @keyframes spin {\n",
              "    0% {\n",
              "      border-color: transparent;\n",
              "      border-bottom-color: var(--fill-color);\n",
              "      border-left-color: var(--fill-color);\n",
              "    }\n",
              "    20% {\n",
              "      border-color: transparent;\n",
              "      border-left-color: var(--fill-color);\n",
              "      border-top-color: var(--fill-color);\n",
              "    }\n",
              "    30% {\n",
              "      border-color: transparent;\n",
              "      border-left-color: var(--fill-color);\n",
              "      border-top-color: var(--fill-color);\n",
              "      border-right-color: var(--fill-color);\n",
              "    }\n",
              "    40% {\n",
              "      border-color: transparent;\n",
              "      border-right-color: var(--fill-color);\n",
              "      border-top-color: var(--fill-color);\n",
              "    }\n",
              "    60% {\n",
              "      border-color: transparent;\n",
              "      border-right-color: var(--fill-color);\n",
              "    }\n",
              "    80% {\n",
              "      border-color: transparent;\n",
              "      border-right-color: var(--fill-color);\n",
              "      border-bottom-color: var(--fill-color);\n",
              "    }\n",
              "    90% {\n",
              "      border-color: transparent;\n",
              "      border-bottom-color: var(--fill-color);\n",
              "    }\n",
              "  }\n",
              "</style>\n",
              "\n",
              "  <script>\n",
              "    async function quickchart(key) {\n",
              "      const quickchartButtonEl =\n",
              "        document.querySelector('#' + key + ' button');\n",
              "      quickchartButtonEl.disabled = true;  // To prevent multiple clicks.\n",
              "      quickchartButtonEl.classList.add('colab-df-spinner');\n",
              "      try {\n",
              "        const charts = await google.colab.kernel.invokeFunction(\n",
              "            'suggestCharts', [key], {});\n",
              "      } catch (error) {\n",
              "        console.error('Error during call to suggestCharts:', error);\n",
              "      }\n",
              "      quickchartButtonEl.classList.remove('colab-df-spinner');\n",
              "      quickchartButtonEl.classList.add('colab-df-quickchart-complete');\n",
              "    }\n",
              "    (() => {\n",
              "      let quickchartButtonEl =\n",
              "        document.querySelector('#df-bfca602f-d2d1-46a5-b2f5-f13185772ef8 button');\n",
              "      quickchartButtonEl.style.display =\n",
              "        google.colab.kernel.accessAllowed ? 'block' : 'none';\n",
              "    })();\n",
              "  </script>\n",
              "</div>\n",
              "    </div>\n",
              "  </div>\n"
            ],
            "text/plain": [
              "             Fraudolent  text_length      Year     Month       Day\n",
              "Fraudolent     1.000000     0.378359  0.004349 -0.004380 -0.004535\n",
              "text_length    0.378359     1.000000  0.029498 -0.010077  0.014077\n",
              "Year           0.004349     0.029498  1.000000 -0.304300 -0.054934\n",
              "Month         -0.004380    -0.010077 -0.304300  1.000000  0.007355\n",
              "Day           -0.004535     0.014077 -0.054934  0.007355  1.000000"
            ]
          },
          "execution_count": 13,
          "metadata": {},
          "output_type": "execute_result"
        }
      ],
      "source": [
        "sms_df.columns\n",
        "earliest_date = sms_df['Date_and_Time'].min()\n",
        "latest_date = sms_df['Date_and_Time'].max()\n",
        "print(\"Earliest date of an SMS message sent:\", earliest_date)\n",
        "print(\"Latest date of an SMS message sent:\", latest_date)\n",
        "sms_df.corr()"
      ]
    },
    {
      "cell_type": "markdown",
      "metadata": {
        "id": "pPT7EasT4nRE"
      },
      "source": [
        "* By analyzing the correlation matrix, we can determine the following:\n",
        "    \n",
        "    • The correlation coefficient ranges from -1 to 1. A value of 1 indicates a perfect positive correlation, -1 indicates a perfect negative correlation, and 0 indicates no correlation.\n",
        "    \n",
        "    • Positive correlation coefficients indicate that the variables tend to increase or decrease together.\n",
        "    \n",
        "    • Negative correlation coefficients indicate that as one variable increases, the other tends to decrease.\n",
        "   \n",
        "    • The closer the correlation coefficient is to 1 or -1, the stronger the correlation.\n",
        "    \n",
        "    • A correlation coefficient close to O indicates no or weak correlation.\n",
        "\n",
        "* Based on the correlation matrix, we can conclude that there is no strong correlation between the two most importanto variables in the dataset. This means that all variables can be used for analysis without causing multicollinearity issues."
      ]
    },
    {
      "cell_type": "markdown",
      "metadata": {},
      "source": [
        "Now let us tokenize the text and count word frequencies.\n",
        "We will need to create a datafrom formed from the word counts.\n",
        "\n",
        "We then can plot the top N words we need, \n",
        "\n",
        "__N being a variable that is completely interchangeable depending on our needs.__"
      ]
    },
    {
      "cell_type": "code",
      "execution_count": null,
      "metadata": {
        "colab": {
          "base_uri": "https://localhost:8080/"
        },
        "id": "78gO5t3YOJd8",
        "outputId": "8e9fc20c-7456-462c-bae2-1e98a7350392"
      },
      "outputs": [
        {
          "ename": "NameError",
          "evalue": "name 'df_dropped' is not defined",
          "output_type": "error",
          "traceback": [
            "\u001b[1;31m---------------------------------------------------------------------------\u001b[0m",
            "\u001b[1;31mNameError\u001b[0m                                 Traceback (most recent call last)",
            "\u001b[1;32mc:\\University\\Second Year\\Artificial Intelligence and Machine Learning\\Project\\SafeComm-Digital-Security-Solutions-1\\main.ipynb Cell 33\u001b[0m line \u001b[0;36m1\n\u001b[1;32m----> <a href='vscode-notebook-cell:/c%3A/University/Second%20Year/Artificial%20Intelligence%20and%20Machine%20Learning/Project/SafeComm-Digital-Security-Solutions-1/main.ipynb#X24sZmlsZQ%3D%3D?line=0'>1</a>\u001b[0m fraudulent_text \u001b[39m=\u001b[39m \u001b[39m'\u001b[39m\u001b[39m \u001b[39m\u001b[39m'\u001b[39m\u001b[39m.\u001b[39mjoin(df_dropped[df_dropped[\u001b[39m'\u001b[39m\u001b[39mFraudolent\u001b[39m\u001b[39m'\u001b[39m] \u001b[39m==\u001b[39m \u001b[39m1\u001b[39m][\u001b[39m'\u001b[39m\u001b[39mSMS_test\u001b[39m\u001b[39m'\u001b[39m])\n\u001b[0;32m      <a href='vscode-notebook-cell:/c%3A/University/Second%20Year/Artificial%20Intelligence%20and%20Machine%20Learning/Project/SafeComm-Digital-Security-Solutions-1/main.ipynb#X24sZmlsZQ%3D%3D?line=1'>2</a>\u001b[0m words \u001b[39m=\u001b[39m fraudulent_text\u001b[39m.\u001b[39msplit()\n\u001b[0;32m      <a href='vscode-notebook-cell:/c%3A/University/Second%20Year/Artificial%20Intelligence%20and%20Machine%20Learning/Project/SafeComm-Digital-Security-Solutions-1/main.ipynb#X24sZmlsZQ%3D%3D?line=2'>3</a>\u001b[0m word_counts \u001b[39m=\u001b[39m pd\u001b[39m.\u001b[39mSeries(words)\u001b[39m.\u001b[39mvalue_counts()\n",
            "\u001b[1;31mNameError\u001b[0m: name 'df_dropped' is not defined"
          ]
        }
      ],
      "source": [
        "fraudulent_text = ' '.join(df_dropped[df_dropped['Fraudolent'] == 1]['SMS_test'])\n",
        "words = fraudulent_text.split()\n",
        "word_counts = pd.Series(words).value_counts()\n",
        "word_df = pd.DataFrame({'Word': word_counts.index, 'Count': word_counts.values})\n",
        "plt.figure(figsize=(10, 5))\n",
        "sns.barplot(x='Count', y='Word', data=word_df.head(10), palette='viridis')\n",
        "plt.title('Top 10 Words in Fraudulent Rows')\n",
        "plt.show()"
      ]
    },
    {
      "cell_type": "markdown",
      "metadata": {
        "id": "IANKuBYtqmT4"
      },
      "source": [
        "# Preprocessing\n",
        "\n",
        "* In this section we will try to transform the data into a more suitable format for machine learning Algorithms, using various methods: cleaning data, encoding categorial features, scaling numerical features.\n",
        "\n",
        "\n"
      ]
    },
    {
      "cell_type": "markdown",
      "metadata": {},
      "source": [
        "### Coming back to our problem regarding our unbalanced dataset:\n",
        "* We combat and adjust the balance problem \n",
        "* This can be simply achieved by oversampliny the Fraudulent part of our X_train variable\n",
        "* We use RandomOverSampler to get the results we need.\n"
      ]
    },
    {
      "cell_type": "code",
      "execution_count": null,
      "metadata": {
        "colab": {
          "base_uri": "https://localhost:8080/"
        },
        "id": "l85SoklC5Isa",
        "outputId": "119b2fcf-c241-4370-ef9d-d28bad0075f1"
      },
      "outputs": [
        {
          "data": {
            "text/plain": [
              "0    4825\n",
              "1    4825\n",
              "Name: Fraudolent, dtype: int64"
            ]
          },
          "execution_count": 14,
          "metadata": {},
          "output_type": "execute_result"
        }
      ],
      "source": [
        "oversampler = RandomOverSampler(random_state=42)\n",
        "X=df_dropped\n",
        "y=df_dropped['Fraudolent']\n",
        "df_X, df_y = oversampler.fit_resample(X, y)\n",
        "df_X['Fraudolent'].value_counts()"
      ]
    },
    {
      "cell_type": "markdown",
      "metadata": {},
      "source": [
        "__Now that our data is perfectly balanced__\n",
        "\n",
        "Let's further halve our data."
      ]
    },
    {
      "cell_type": "code",
      "execution_count": null,
      "metadata": {
        "colab": {
          "base_uri": "https://localhost:8080/"
        },
        "id": "7ulcN5G1du1w",
        "outputId": "8a928a0d-6336-464c-9b80-d1f0356062bc"
      },
      "outputs": [
        {
          "name": "stdout",
          "output_type": "stream",
          "text": [
            "1    2433\n",
            "0    2392\n",
            "Name: Fraudolent, dtype: int64\n"
          ]
        }
      ],
      "source": [
        "df_X_halved, _, df_y_halved, _ = train_test_split(df_X, df_y, test_size=0.5, random_state=42)\n",
        "\n",
        "print(df_X_halved['Fraudolent'].value_counts())"
      ]
    },
    {
      "cell_type": "markdown",
      "metadata": {},
      "source": [
        "We're going to setup the figure with subplots.\n",
        "\n",
        "These will be divided as follow:\n",
        "1. Our Original Dataset Histogram\n",
        "2. Our Balanced Dataset Histogram\n",
        "3. Our Final Dataset Histogram\n",
        "\n",
        "_We will also adjust the layout of the subplots for better spacing._"
      ]
    },
    {
      "cell_type": "code",
      "execution_count": null,
      "metadata": {
        "colab": {
          "base_uri": "https://localhost:8080/",
          "height": 614
        },
        "id": "B1cqeLJO5yIB",
        "outputId": "66001602-b66c-4623-8e7b-b3113488a730"
      },
      "outputs": [
        {
          "data": {
            "image/png": "[encoded data removed]",
            "text/plain": [
              "<Figure size 1600x800 with 3 Axes>"
            ]
          },
          "metadata": {},
          "output_type": "display_data"
        }
      ],
      "source": [
        "fig, axes = plt.subplots(nrows=1, ncols=3, figsize=(16, 8))\n",
        "# Original dataset histogram\n",
        "sns.countplot(x='Fraudolent', data=df_dropped, ax=axes[0])\n",
        "axes[0].set_title('Original Dataset - Distribution of Fraudulent Transactions')\n",
        "axes[0].set_xlabel('Fraudolent')\n",
        "axes[0].set_ylabel('Count')\n",
        "# Balanced dataset histogram\n",
        "sns.countplot(x='Fraudolent', data=df_X, ax=axes[1])\n",
        "axes[1].set_title('Balanced Dataset - Distribution of Fraudulent Transactions')\n",
        "axes[1].set_xlabel('Fraudolent')\n",
        "axes[1].set_ylabel('Count')\n",
        "# Final dataset histogram\n",
        "sns.countplot(x='Fraudolent', data=df_X_halved, ax=axes[2])\n",
        "axes[2].set_title('Final Dataset - Distribution of Fraudulent Transactions')\n",
        "axes[2].set_xlabel('Fraudolent')\n",
        "axes[2].set_ylabel('Count')\n",
        "plt.tight_layout()\n",
        "plt.show()"
      ]
    },
    {
      "cell_type": "markdown",
      "metadata": {},
      "source": [
        "### __Look just how beautiful our subplots are__"
      ]
    },
    {
      "cell_type": "markdown",
      "metadata": {},
      "source": [
        "Now, considering we imported nltk earlier, we will begin utilising our tokenizer.\n",
        "\n",
        "* We download our stopwords\n",
        "* We tokenize the text\n",
        "* We set English stopwords specifically "
      ]
    },
    {
      "cell_type": "code",
      "execution_count": null,
      "metadata": {
        "colab": {
          "base_uri": "https://localhost:8080/"
        },
        "id": "0rZs6EGHsX31",
        "outputId": "d22224de-1458-4eb4-f964-ab7156fe2673"
      },
      "outputs": [
        {
          "name": "stderr",
          "output_type": "stream",
          "text": [
            "[nltk_data] Downloading package stopwords to /root/nltk_data...\n",
            "[nltk_data]   Unzipping corpora/stopwords.zip.\n"
          ]
        }
      ],
      "source": [
        "nltk.download('stopwords')\n",
        "tokenizer=ToktokTokenizer()\n",
        "stopword_list=nltk.corpus.stopwords.words('english')"
      ]
    },
    {
      "cell_type": "code",
      "execution_count": null,
      "metadata": {},
      "outputs": [],
      "source": []
    },
    {
      "cell_type": "markdown",
      "metadata": {},
      "source": [
        "Now we need to proceed with a big portion of code to further simplify our dataset:\n",
        "\n",
        "It will consist of the following:\n",
        "1. Removing the HTML strips\n",
        " * We are able to do this thanks to the BeautifulSoup library that we imported earlier\n",
        " * We need to apply this function on our SMS_test column\n",
        "2. Removing the square brackets\n",
        " * We need to once again apply the function to the SMS_test column\n",
        "3. Removing the noisy text\n",
        " * Also applying the function to the SMS_test column\n",
        "4. Defining a function to remove the special characters\n",
        " * Once again applying the function to the SMS_test column.\n",
        "5. Next we will stemm the text \n",
        " * As always not forgetting to apply the function to the SMS_test column\n",
        "6. Then we need to set our stopwords to English\n",
        "\n",
        "7. Finaly we remove the stopwords from our dataset\n",
        " * Concluding by also removing the stopwords from the SMS_test column"
      ]
    },
    {
      "cell_type": "code",
      "execution_count": null,
      "metadata": {
        "colab": {
          "base_uri": "https://localhost:8080/"
        },
        "id": "jvuIOMoksecR",
        "outputId": "9b5c4f81-f86c-4702-cf93-b8544858e7a8"
      },
      "outputs": [
        {
          "name": "stderr",
          "output_type": "stream",
          "text": [
            "<ipython-input-89-73483a2a4a88>:3: MarkupResemblesLocatorWarning: The input looks more like a filename than markup. You may want to open this file and pass the filehandle into Beautiful Soup.\n",
            "  soup = BeautifulSoup(text, \"html.parser\")\n"
          ]
        },
        {
          "name": "stdout",
          "output_type": "stream",
          "text": [
            "{'can', 'herself', 'did', 'this', \"weren't\", \"needn't\", 'further', 'such', 'up', 'off', 'no', 'whom', 'being', 'for', 'they', 'has', 'yourselves', 'other', \"hasn't\", 'shouldn', 'should', 'out', 'few', 'itself', 'while', 'your', 'same', 'wasn', 'all', \"you'd\", 'nor', 'until', 'ourselves', \"won't\", 'than', 'o', 'the', 'me', 'ma', 'there', 'she', 'aren', 'shan', 'our', 'so', 'm', 'its', 'once', 'only', 'hadn', 'having', 're', 'needn', 'and', 'against', 'if', 'don', \"it's\", \"wasn't\", 'by', 'before', \"couldn't\", 'about', 'these', \"mightn't\", \"mustn't\", 'under', 'where', 'it', \"isn't\", 'will', \"don't\", 'after', 'couldn', \"doesn't\", 'in', 'does', 'now', 'hers', 'but', \"didn't\", 'my', 'ours', 'y', 'been', \"hadn't\", 'below', 'theirs', 'those', 't', \"haven't\", 'was', \"shan't\", 'over', 'why', 'yours', 'are', 've', 'at', 'very', 'weren', 'each', 'am', 'which', 'again', 'then', 'them', 'of', \"shouldn't\", \"she's\", 'himself', 'him', 'from', 'mustn', 'how', \"should've\", 'd', 'doing', 'both', 'some', \"that'll\", 'most', 'mightn', 'with', 'what', 'because', 'more', 'through', 'down', 'doesn', 'ain', 'wouldn', 'haven', 'his', 'too', 'as', 'above', 'myself', 'her', 'be', 'have', 'an', 'own', 'when', 'didn', 'isn', 'between', 'hasn', 'here', 'you', 'he', 'themselves', 'i', 'not', \"you'll\", 'any', 'during', 'do', 'yourself', 'won', 'll', \"you're\", 'a', \"you've\", 'who', 'into', 'we', 'or', 'that', 's', 'were', 'just', 'had', \"aren't\", \"wouldn't\", 'their', 'is', 'on', 'to'}\n"
          ]
        }
      ],
      "source": [
        "#Removing the html strips\n",
        "def strip_html(text):\n",
        "    soup = BeautifulSoup(text, \"html.parser\")\n",
        "    return soup.get_text()\n",
        "df_X_halved['SMS_test']=df_X_halved['SMS_test'].apply(strip_html)\n",
        "#Removing the square brackets\n",
        "def remove_between_square_brackets(text):\n",
        "    return re.sub('\\[[^]]*\\]', '', text)\n",
        "df_X_halved['SMS_test']=df_X_halved['SMS_test'].apply(remove_between_square_brackets)\n",
        "\n",
        "#Removing the noisy text\n",
        "def denoise_text(text):\n",
        "    text = strip_html(text)\n",
        "    text = remove_between_square_brackets(text)\n",
        "    return text\n",
        "df_X_halved['SMS_test']=df_X_halved['SMS_test'].apply(denoise_text)\n",
        "#Define function for removing special characters\n",
        "def remove_special_characters(text):\n",
        "    pattern=r'[^a-zA-z0-9\\s]'\n",
        "    text=re.sub(pattern,'',text)\n",
        "    return text\n",
        "df_X_halved['SMS_test']=df_X_halved['SMS_test'].apply(remove_special_characters)\n",
        "#stemming the text\n",
        "def simple_stemmer(text):\n",
        "    ps=nltk.porter.PorterStemmer()\n",
        "    text= ' '.join([ps.stem(word) for word in text.split()])\n",
        "    return text\n",
        "def stem_text(text):\n",
        "  stemmer = PorterStemmer()\n",
        "  words = word_tokenize(text.lower())\n",
        "  stemmed_words = [stemmer.stem(word) for word in words if word.isalpha()]\n",
        "  return \" \".join(stemmed_words)\n",
        "df_X_halved['SMS_test']=df_X_halved['SMS_test'].apply(simple_stemmer)\n",
        "df_X_halved['SMS_test']=df_X_halved['SMS_test'].apply(stem_text)\n",
        "#set stopwords to english\n",
        "stop=set(stopwords.words('english'))\n",
        "print(stop)\n",
        "#removing the stopwords\n",
        "def remove_stopwords(text, is_lower_case=False):\n",
        "    tokens = tokenizer.tokenize(text)\n",
        "    tokens = [token.strip() for token in tokens]\n",
        "    if is_lower_case:\n",
        "        filtered_tokens = [token for token in tokens if token not in stopword_list]\n",
        "    else:\n",
        "        filtered_tokens = [token for token in tokens if token.lower() not in stopword_list]\n",
        "    filtered_text = ' '.join(filtered_tokens)\n",
        "    return filtered_text\n",
        "df_X_halved['SMS_test']=df_X_halved['SMS_test'].apply(remove_stopwords)\n"
      ]
    },
    {
      "cell_type": "markdown",
      "metadata": {
        "id": "SrF9dAoJv4Ef"
      },
      "source": [
        "# Bag of Words"
      ]
    },
    {
      "cell_type": "markdown",
      "metadata": {},
      "source": [
        "We use Bag of Words (BoW) because it is a popular method used in Natural Language Processing (NLP) to convert text data into numerical features that can be used by machine learning algorithms."
      ]
    },
    {
      "cell_type": "code",
      "execution_count": null,
      "metadata": {
        "colab": {
          "base_uri": "https://localhost:8080/"
        },
        "id": "ze2e3jxuyRmx",
        "outputId": "62799460-3444-46e5-ed30-04b788c18375"
      },
      "outputs": [
        {
          "name": "stdout",
          "output_type": "stream",
          "text": [
            "BOW_cv_train: (4825, 27655)\n"
          ]
        }
      ],
      "source": [
        "#Count vectorizer for bag of words\n",
        "cv=CountVectorizer(min_df=0,max_df=1,binary=False,ngram_range=(1,3))\n",
        "BoW_X=cv.fit_transform(df_X_halved['SMS_test'])\n",
        "print('BOW_cv_train:', BoW_X.shape)\n",
        "\n"
      ]
    },
    {
      "cell_type": "markdown",
      "metadata": {},
      "source": [
        "We used BoW for a variety of reasons, the top 3 being:\n",
        "1. Simplicity\n",
        "2. Efficiency\n",
        "3. Effectiveness"
      ]
    },
    {
      "cell_type": "code",
      "execution_count": null,
      "metadata": {
        "colab": {
          "base_uri": "https://localhost:8080/",
          "height": 1000
        },
        "id": "6XdHAK098j-3",
        "outputId": "306d40c9-13d2-4e3d-f012-cea3a940b4e9"
      },
      "outputs": [
        {
          "name": "stdout",
          "output_type": "stream",
          "text": [
            "  (0, 27570)\t1\n",
            "  (0, 27571)\t1\n",
            "  (0, 27572)\t1\n",
            "  (2, 22163)\t1\n",
            "  (2, 11487)\t1\n",
            "  (2, 14802)\t1\n",
            "  (2, 11725)\t1\n",
            "  (2, 6409)\t1\n",
            "  (2, 7865)\t1\n",
            "  (2, 17088)\t1\n",
            "  (2, 19663)\t1\n",
            "  (2, 24336)\t1\n",
            "  (2, 1669)\t1\n",
            "  (2, 22164)\t1\n",
            "  (2, 11488)\t1\n",
            "  (2, 26141)\t1\n",
            "  (2, 12139)\t1\n",
            "  (2, 14803)\t1\n",
            "  (2, 11726)\t1\n",
            "  (2, 17147)\t1\n",
            "  (2, 9001)\t1\n",
            "  (2, 6410)\t1\n",
            "  (2, 7866)\t1\n",
            "  (2, 17089)\t1\n",
            "  (2, 19664)\t1\n",
            "  :\t:\n",
            "  (3849, 15001)\t1\n",
            "  (3849, 2005)\t1\n",
            "  (3849, 9082)\t1\n",
            "  (3849, 19593)\t1\n",
            "  (3849, 10870)\t1\n",
            "  (3849, 2001)\t1\n",
            "  (3849, 5850)\t1\n",
            "  (3850, 25625)\t1\n",
            "  (3850, 7098)\t1\n",
            "  (3850, 13997)\t1\n",
            "  (3850, 25626)\t1\n",
            "  (3850, 7099)\t1\n",
            "  (3852, 27596)\t1\n",
            "  (3852, 23007)\t1\n",
            "  (3852, 18565)\t1\n",
            "  (3852, 27597)\t1\n",
            "  (3852, 503)\t1\n",
            "  (3852, 23008)\t1\n",
            "  (3857, 4449)\t1\n",
            "  (3857, 4450)\t1\n",
            "  (3857, 23941)\t1\n",
            "  (3857, 4451)\t1\n",
            "  (3859, 24657)\t1\n",
            "  (3859, 14817)\t1\n",
            "  (3859, 24658)\t1\n"
          ]
        },
        {
          "ename": "ValueError",
          "evalue": "ignored",
          "output_type": "error",
          "traceback": [
            "\u001b[0;31m---------------------------------------------------------------------------\u001b[0m",
            "\u001b[0;31mValueError\u001b[0m                                Traceback (most recent call last)",
            "\u001b[0;32m<ipython-input-139-af123d00b5b6>\u001b[0m in \u001b[0;36m<cell line: 3>\u001b[0;34m()\u001b[0m\n\u001b[1;32m      1\u001b[0m \u001b[0mscaler\u001b[0m \u001b[0;34m=\u001b[0m \u001b[0mStandardScaler\u001b[0m\u001b[0;34m(\u001b[0m\u001b[0;34m)\u001b[0m\u001b[0;34m\u001b[0m\u001b[0;34m\u001b[0m\u001b[0m\n\u001b[1;32m      2\u001b[0m \u001b[0mprint\u001b[0m\u001b[0;34m(\u001b[0m\u001b[0mX_train\u001b[0m\u001b[0;34m)\u001b[0m\u001b[0;34m\u001b[0m\u001b[0;34m\u001b[0m\u001b[0m\n\u001b[0;32m----> 3\u001b[0;31m \u001b[0mscaler\u001b[0m\u001b[0;34m.\u001b[0m\u001b[0mfit\u001b[0m\u001b[0;34m(\u001b[0m\u001b[0mX_train\u001b[0m\u001b[0;34m)\u001b[0m\u001b[0;34m\u001b[0m\u001b[0;34m\u001b[0m\u001b[0m\n\u001b[0m\u001b[1;32m      4\u001b[0m \u001b[0mX_train\u001b[0m \u001b[0;34m=\u001b[0m \u001b[0mscaler\u001b[0m\u001b[0;34m.\u001b[0m\u001b[0mtransform\u001b[0m\u001b[0;34m(\u001b[0m\u001b[0mX_train\u001b[0m\u001b[0;34m)\u001b[0m\u001b[0;34m\u001b[0m\u001b[0;34m\u001b[0m\u001b[0m\n\u001b[1;32m      5\u001b[0m \u001b[0mX_test\u001b[0m \u001b[0;34m=\u001b[0m \u001b[0mscaler\u001b[0m\u001b[0;34m.\u001b[0m\u001b[0mtransform\u001b[0m\u001b[0;34m(\u001b[0m\u001b[0mX_test\u001b[0m\u001b[0;34m)\u001b[0m\u001b[0;34m\u001b[0m\u001b[0;34m\u001b[0m\u001b[0m\n",
            "\u001b[0;32m/usr/local/lib/python3.10/dist-packages/sklearn/preprocessing/_data.py\u001b[0m in \u001b[0;36mfit\u001b[0;34m(self, X, y, sample_weight)\u001b[0m\n\u001b[1;32m    822\u001b[0m         \u001b[0;31m# Reset internal state before fitting\u001b[0m\u001b[0;34m\u001b[0m\u001b[0;34m\u001b[0m\u001b[0m\n\u001b[1;32m    823\u001b[0m         \u001b[0mself\u001b[0m\u001b[0;34m.\u001b[0m\u001b[0m_reset\u001b[0m\u001b[0;34m(\u001b[0m\u001b[0;34m)\u001b[0m\u001b[0;34m\u001b[0m\u001b[0;34m\u001b[0m\u001b[0m\n\u001b[0;32m--> 824\u001b[0;31m         \u001b[0;32mreturn\u001b[0m \u001b[0mself\u001b[0m\u001b[0;34m.\u001b[0m\u001b[0mpartial_fit\u001b[0m\u001b[0;34m(\u001b[0m\u001b[0mX\u001b[0m\u001b[0;34m,\u001b[0m \u001b[0my\u001b[0m\u001b[0;34m,\u001b[0m \u001b[0msample_weight\u001b[0m\u001b[0;34m)\u001b[0m\u001b[0;34m\u001b[0m\u001b[0;34m\u001b[0m\u001b[0m\n\u001b[0m\u001b[1;32m    825\u001b[0m \u001b[0;34m\u001b[0m\u001b[0m\n\u001b[1;32m    826\u001b[0m     \u001b[0;32mdef\u001b[0m \u001b[0mpartial_fit\u001b[0m\u001b[0;34m(\u001b[0m\u001b[0mself\u001b[0m\u001b[0;34m,\u001b[0m \u001b[0mX\u001b[0m\u001b[0;34m,\u001b[0m \u001b[0my\u001b[0m\u001b[0;34m=\u001b[0m\u001b[0;32mNone\u001b[0m\u001b[0;34m,\u001b[0m \u001b[0msample_weight\u001b[0m\u001b[0;34m=\u001b[0m\u001b[0;32mNone\u001b[0m\u001b[0;34m)\u001b[0m\u001b[0;34m:\u001b[0m\u001b[0;34m\u001b[0m\u001b[0;34m\u001b[0m\u001b[0m\n",
            "\u001b[0;32m/usr/local/lib/python3.10/dist-packages/sklearn/preprocessing/_data.py\u001b[0m in \u001b[0;36mpartial_fit\u001b[0;34m(self, X, y, sample_weight)\u001b[0m\n\u001b[1;32m    887\u001b[0m         \u001b[0;32mif\u001b[0m \u001b[0msparse\u001b[0m\u001b[0;34m.\u001b[0m\u001b[0missparse\u001b[0m\u001b[0;34m(\u001b[0m\u001b[0mX\u001b[0m\u001b[0;34m)\u001b[0m\u001b[0;34m:\u001b[0m\u001b[0;34m\u001b[0m\u001b[0;34m\u001b[0m\u001b[0m\n\u001b[1;32m    888\u001b[0m             \u001b[0;32mif\u001b[0m \u001b[0mself\u001b[0m\u001b[0;34m.\u001b[0m\u001b[0mwith_mean\u001b[0m\u001b[0;34m:\u001b[0m\u001b[0;34m\u001b[0m\u001b[0;34m\u001b[0m\u001b[0m\n\u001b[0;32m--> 889\u001b[0;31m                 raise ValueError(\n\u001b[0m\u001b[1;32m    890\u001b[0m                     \u001b[0;34m\"Cannot center sparse matrices: pass `with_mean=False` \"\u001b[0m\u001b[0;34m\u001b[0m\u001b[0;34m\u001b[0m\u001b[0m\n\u001b[1;32m    891\u001b[0m                     \u001b[0;34m\"instead. See docstring for motivation and alternatives.\"\u001b[0m\u001b[0;34m\u001b[0m\u001b[0;34m\u001b[0m\u001b[0m\n",
            "\u001b[0;31mValueError\u001b[0m: Cannot center sparse matrices: pass `with_mean=False` instead. See docstring for motivation and alternatives."
          ]
        }
      ],
      "source": [
        "scaler = StandardScaler()\n",
        "print(BoW_X)\n",
        "scaler.fit_transform(BoW_X)\n",
        "print(BoW_X)"
      ]
    },
    {
      "cell_type": "markdown",
      "metadata": {},
      "source": [
        "Trying to implement a standardscaler on the processed data (BoW_X)\n",
        "\n",
        " **error message: Cannot center sparse matrices: pass `with_mean=False` instead. See docstring for motivation and alternatives.**"
      ]
    },
    {
      "cell_type": "markdown",
      "metadata": {
        "id": "f0JSHRD1NypT"
      },
      "source": [
        "# Models"
      ]
    },
    {
      "cell_type": "markdown",
      "metadata": {},
      "source": [
        "To work on our models let's split the dataset into Train and Test sets."
      ]
    },
    {
      "cell_type": "code",
      "execution_count": null,
      "metadata": {
        "colab": {
          "base_uri": "https://localhost:8080/"
        },
        "id": "MMwIXPt1rB1l",
        "outputId": "19fa323f-55da-4791-c590-5e5a60e3df63"
      },
      "outputs": [
        {
          "name": "stdout",
          "output_type": "stream",
          "text": [
            "X_train shape: (3860, 27655), y_train_tmp shape: (3860,)\n",
            "X_test shape: (965, 27655), y_test shape: (965,)\n"
          ]
        }
      ],
      "source": [
        "X = BoW_X\n",
        "y = df_X_halved['Fraudolent']\n",
        "X_train, X_test, y_train, y_test = train_test_split(X, y, test_size=0.2, random_state=42, stratify=y)\n",
        "print(f\"X_train shape: {X_train.shape}, y_train_tmp shape: {y_train.shape}\")\n",
        "print(f\"X_test shape: {X_test.shape}, y_test shape: {y_test.shape}\")"
      ]
    },
    {
      "cell_type": "markdown",
      "metadata": {
        "id": "F92cF2UKk1WF"
      },
      "source": [
        "# SVC"
      ]
    },
    {
      "cell_type": "markdown",
      "metadata": {},
      "source": [
        "First let's start with our SVM model. \n",
        "\n",
        "We need to calculate the evaluation metrics that we used, those being:\n",
        "1. Accuracy\n",
        "2. Precision\n",
        "3. Recall\n",
        "4. F1 Score"
      ]
    },
    {
      "cell_type": "code",
      "execution_count": null,
      "metadata": {
        "colab": {
          "base_uri": "https://localhost:8080/"
        },
        "id": "tFqWXCbVN9Vq",
        "outputId": "f56ddacc-3d8d-4afe-f3f4-bd54bd5d2c1c"
      },
      "outputs": [
        {
          "name": "stdout",
          "output_type": "stream",
          "text": [
            "0.9316062176165804\n",
            "0.917098445595855\n",
            "Accuracy:  0.917098445595855\n",
            "Precision:  0.8653500897666068\n",
            "Recall:  0.9897330595482546\n",
            "F1 Score:  0.9233716475095786\n"
          ]
        }
      ],
      "source": [
        "model_svc = SVC()\n",
        "\n",
        "model_svc.fit(X_train, y_train)\n",
        "print(model_svc.score(X_train, y_train))\n",
        "\n",
        "y_pred = model_svc.predict(X_test)\n",
        "\n",
        "print(model_svc.score(X_test, y_test))\n",
        "\n",
        "# Calculate evaluation metrics\n",
        "accuracy_rf = accuracy_score(y_test, y_pred)\n",
        "precision_rf = precision_score(y_test, y_pred)\n",
        "recall_rf = recall_score(y_test, y_pred)\n",
        "f1_rf = f1_score(y_test, y_pred)\n",
        "\n",
        "# Print the metrics\n",
        "print(\"Accuracy: \", accuracy_rf)\n",
        "print(\"Precision: \", precision_rf)\n",
        "print(\"Recall: \", recall_rf)\n",
        "print(\"F1 Score: \", f1_rf)\n"
      ]
    },
    {
      "cell_type": "markdown",
      "metadata": {},
      "source": [
        "### Let's fine-tune our model with HyperParameters!\n",
        "We use these hyperparameters to better the values of our outputted performance metrics that we obtained from the previous SVM model "
      ]
    },
    {
      "cell_type": "code",
      "execution_count": null,
      "metadata": {
        "colab": {
          "base_uri": "https://localhost:8080/"
        },
        "id": "blPr-yEDo7-h",
        "outputId": "69230b6d-9b34-4415-957c-17c157296526"
      },
      "outputs": [
        {
          "name": "stdout",
          "output_type": "stream",
          "text": [
            "SVC(C=0.1, gamma=1)\n",
            "{'C': 0.1, 'gamma': 1, 'kernel': 'rbf'}\n"
          ]
        }
      ],
      "source": [
        "\n",
        "param_grid = {\n",
        "    'C': [0.1, 1, 10],\n",
        "    'kernel': ['linear', 'rbf', 'poly'],\n",
        "    'gamma': ['scale', 'auto', 0.1, 1],\n",
        "}\n",
        "\n",
        "grid_search = GridSearchCV(model_svc, param_grid, cv=5, scoring='accuracy', n_jobs=-1)\n",
        "\n",
        "grid_search.fit(X_train, y_train)\n",
        "\n",
        "best_params = grid_search.best_params_\n",
        "best_model = grid_search.best_estimator_\n",
        "\n",
        "print(best_model)\n",
        "print(best_params)\n"
      ]
    },
    {
      "cell_type": "markdown",
      "metadata": {},
      "source": [
        "### Now lets construct our model once again after the hyperparameters have been tuned."
      ]
    },
    {
      "cell_type": "code",
      "execution_count": null,
      "metadata": {
        "colab": {
          "base_uri": "https://localhost:8080/"
        },
        "id": "SAe6pr5jqbkn",
        "outputId": "bad99521-127d-4b72-fa1c-3309990642fd"
      },
      "outputs": [
        {
          "name": "stdout",
          "output_type": "stream",
          "text": [
            "0.9308290155440414\n",
            "0.9367875647668393\n",
            "Accuracy:  0.9367875647668393\n",
            "Precision:  0.895910780669145\n",
            "Recall:  0.9897330595482546\n",
            "F1 Score:  0.9404878048780487\n"
          ]
        }
      ],
      "source": [
        "model_svc_upd = SVC(C=0.1, gamma=1, kernel='rbf')\n",
        "\n",
        "model_svc_upd.fit(X_train, y_train)\n",
        "print(model_svc_upd.score(X_train, y_train))\n",
        "\n",
        "y_pred = model_svc_upd.predict(X_test)\n",
        "\n",
        "print(model_svc_upd.score(X_test, y_test))\n",
        "\n",
        "# Calculate evaluation metrics\n",
        "accuracy_rf = accuracy_score(y_test, y_pred)\n",
        "precision_rf = precision_score(y_test, y_pred)\n",
        "recall_rf = recall_score(y_test, y_pred)\n",
        "f1_rf = f1_score(y_test, y_pred)\n",
        "\n",
        "# Print the metrics\n",
        "print(\"Accuracy: \", accuracy_rf)\n",
        "print(\"Precision: \", precision_rf)\n",
        "print(\"Recall: \", recall_rf)\n",
        "print(\"F1 Score: \", f1_rf)"
      ]
    },
    {
      "cell_type": "markdown",
      "metadata": {},
      "source": [
        "We can clearly see how our hyperparameters have improved every single one of our precision metric values compared to the first model.\n",
        "\n",
        "In essence:\n",
        "\n",
        "__The hyperparameters did their job in ensuring our results are tuned and fitted to our dataset__\n",
        "\n",
        "We observe that the results are rather high in regards to all our performance metrics.\n",
        "\n",
        "This shows us that SVM classification model is an amazing model to use based on our dataset in detecting Fraudulent Vs. Non-Fraudulent text messages."
      ]
    },
    {
      "cell_type": "markdown",
      "metadata": {},
      "source": [
        "Now let's plot a confusion Matrix once again based on our SVM model:"
      ]
    },
    {
      "cell_type": "code",
      "execution_count": null,
      "metadata": {
        "colab": {
          "base_uri": "https://localhost:8080/",
          "height": 564
        },
        "id": "xI3gnmELtFoW",
        "outputId": "15ba9293-b1f5-49a5-dd5e-1b85c17109eb"
      },
      "outputs": [
        {
          "data": {
            "image/png": "[encoded data removed]",
            "text/plain": [
              "<Figure size 800x600 with 2 Axes>"
            ]
          },
          "metadata": {},
          "output_type": "display_data"
        }
      ],
      "source": [
        "conf_matrix = confusion_matrix(y_test, y_pred)\n",
        "plt.figure(figsize=(8, 6))\n",
        "sns.heatmap(conf_matrix, annot=True, fmt='d', cmap='Blues',\n",
        "            xticklabels=['Predicted 0', 'Predicted 1'],\n",
        "            yticklabels=['Actual 0', 'Actual 1'])\n",
        "plt.title('SVC Confusion Matrix')\n",
        "plt.xlabel('Predicted label')\n",
        "plt.ylabel('True label')\n",
        "plt.show()"
      ]
    },
    {
      "cell_type": "markdown",
      "metadata": {
        "id": "yTQkKbSvmQqt"
      },
      "source": [
        "# Random Forest"
      ]
    },
    {
      "cell_type": "markdown",
      "metadata": {},
      "source": [
        "Our next model we will be using is Random Forests.\n",
        "\n",
        "This is usuallty a decent model to use when considering classification problems."
      ]
    },
    {
      "cell_type": "code",
      "execution_count": null,
      "metadata": {
        "colab": {
          "base_uri": "https://localhost:8080/"
        },
        "id": "WhBymEZguL19",
        "outputId": "411fda61-ca28-4b55-a96e-1d5cb525e172"
      },
      "outputs": [
        {
          "name": "stdout",
          "output_type": "stream",
          "text": [
            "0.9422279792746114\n",
            "0.5046632124352332\n",
            "Accuracy:  0.5046632124352332\n",
            "Precision:  0.5046632124352332\n",
            "Recall:  1.0\n",
            "F1 Score:  0.6707988980716253\n"
          ]
        }
      ],
      "source": [
        "model_RFC = RandomForestClassifier()\n",
        "model_RFC.fit(X_train, y_train)\n",
        "print(model_RFC.score(X_train, y_train))\n",
        "y_pred = model_RFC.predict(X_test)\n",
        "print(model_RFC.score(X_test, y_test))\n",
        "# Calculate evaluation metrics\n",
        "accuracy_rf = accuracy_score(y_test, y_pred)\n",
        "precision_rf = precision_score(y_test, y_pred)\n",
        "recall_rf = recall_score(y_test, y_pred)\n",
        "f1_rf = f1_score(y_test, y_pred)\n",
        "# Print the metrics\n",
        "print(\"Accuracy: \", accuracy_rf)\n",
        "print(\"Precision: \", precision_rf)\n",
        "print(\"Recall: \", recall_rf)\n",
        "print(\"F1 Score: \", f1_rf)"
      ]
    },
    {
      "cell_type": "markdown",
      "metadata": {},
      "source": [
        "After the first analyses of our performance metrics we can definiely see a recognisable difference between the results obtained using our SVM model compared to our Random Forest Model.\n",
        "\n",
        "__However__\n",
        "\n",
        "Let's fine-tune our hyperparameters and see if that changes our results."
      ]
    },
    {
      "cell_type": "code",
      "execution_count": null,
      "metadata": {
        "colab": {
          "base_uri": "https://localhost:8080/",
          "height": 390
        },
        "id": "ZXfjJ8agmn68",
        "outputId": "9b66309c-a4fc-4290-d7c0-34b4c6a86718"
      },
      "outputs": [
        {
          "ename": "KeyboardInterrupt",
          "evalue": "ignored",
          "output_type": "error",
          "traceback": [
            "\u001b[0;31m---------------------------------------------------------------------------\u001b[0m",
            "\u001b[0;31mKeyboardInterrupt\u001b[0m                         Traceback (most recent call last)",
            "\u001b[0;32m<ipython-input-144-af8104395317>\u001b[0m in \u001b[0;36m<cell line: 13>\u001b[0;34m()\u001b[0m\n\u001b[1;32m     11\u001b[0m \u001b[0mrandom_search\u001b[0m \u001b[0;34m=\u001b[0m \u001b[0mRandomizedSearchCV\u001b[0m\u001b[0;34m(\u001b[0m\u001b[0mmodel_RFC\u001b[0m\u001b[0;34m,\u001b[0m \u001b[0mparam_distributions\u001b[0m\u001b[0;34m=\u001b[0m\u001b[0mparam_dist\u001b[0m\u001b[0;34m,\u001b[0m \u001b[0mn_iter\u001b[0m\u001b[0;34m=\u001b[0m\u001b[0;36m10\u001b[0m\u001b[0;34m,\u001b[0m \u001b[0mcv\u001b[0m\u001b[0;34m=\u001b[0m\u001b[0;36m5\u001b[0m\u001b[0;34m,\u001b[0m \u001b[0mscoring\u001b[0m\u001b[0;34m=\u001b[0m\u001b[0;34m'accuracy'\u001b[0m\u001b[0;34m,\u001b[0m \u001b[0mrandom_state\u001b[0m\u001b[0;34m=\u001b[0m\u001b[0;36m42\u001b[0m\u001b[0;34m,\u001b[0m \u001b[0mn_jobs\u001b[0m\u001b[0;34m=\u001b[0m\u001b[0;34m-\u001b[0m\u001b[0;36m1\u001b[0m\u001b[0;34m)\u001b[0m\u001b[0;34m\u001b[0m\u001b[0;34m\u001b[0m\u001b[0m\n\u001b[1;32m     12\u001b[0m \u001b[0;34m\u001b[0m\u001b[0m\n\u001b[0;32m---> 13\u001b[0;31m \u001b[0mrandom_search\u001b[0m\u001b[0;34m.\u001b[0m\u001b[0mfit\u001b[0m\u001b[0;34m(\u001b[0m\u001b[0mX_train\u001b[0m\u001b[0;34m,\u001b[0m \u001b[0my_train\u001b[0m\u001b[0;34m)\u001b[0m\u001b[0;34m\u001b[0m\u001b[0;34m\u001b[0m\u001b[0m\n\u001b[0m\u001b[1;32m     14\u001b[0m \u001b[0;34m\u001b[0m\u001b[0m\n\u001b[1;32m     15\u001b[0m \u001b[0mbest_params\u001b[0m \u001b[0;34m=\u001b[0m \u001b[0mrandom_search\u001b[0m\u001b[0;34m.\u001b[0m\u001b[0mbest_params_\u001b[0m\u001b[0;34m\u001b[0m\u001b[0;34m\u001b[0m\u001b[0m\n",
            "\u001b[0;32m/usr/local/lib/python3.10/dist-packages/sklearn/model_selection/_search.py\u001b[0m in \u001b[0;36mfit\u001b[0;34m(self, X, y, groups, **fit_params)\u001b[0m\n\u001b[1;32m    872\u001b[0m                 \u001b[0;32mreturn\u001b[0m \u001b[0mresults\u001b[0m\u001b[0;34m\u001b[0m\u001b[0;34m\u001b[0m\u001b[0m\n\u001b[1;32m    873\u001b[0m \u001b[0;34m\u001b[0m\u001b[0m\n\u001b[0;32m--> 874\u001b[0;31m             \u001b[0mself\u001b[0m\u001b[0;34m.\u001b[0m\u001b[0m_run_search\u001b[0m\u001b[0;34m(\u001b[0m\u001b[0mevaluate_candidates\u001b[0m\u001b[0;34m)\u001b[0m\u001b[0;34m\u001b[0m\u001b[0;34m\u001b[0m\u001b[0m\n\u001b[0m\u001b[1;32m    875\u001b[0m \u001b[0;34m\u001b[0m\u001b[0m\n\u001b[1;32m    876\u001b[0m             \u001b[0;31m# multimetric is determined here because in the case of a callable\u001b[0m\u001b[0;34m\u001b[0m\u001b[0;34m\u001b[0m\u001b[0m\n",
            "\u001b[0;32m/usr/local/lib/python3.10/dist-packages/sklearn/model_selection/_search.py\u001b[0m in \u001b[0;36m_run_search\u001b[0;34m(self, evaluate_candidates)\u001b[0m\n\u001b[1;32m   1766\u001b[0m     \u001b[0;32mdef\u001b[0m \u001b[0m_run_search\u001b[0m\u001b[0;34m(\u001b[0m\u001b[0mself\u001b[0m\u001b[0;34m,\u001b[0m \u001b[0mevaluate_candidates\u001b[0m\u001b[0;34m)\u001b[0m\u001b[0;34m:\u001b[0m\u001b[0;34m\u001b[0m\u001b[0;34m\u001b[0m\u001b[0m\n\u001b[1;32m   1767\u001b[0m         \u001b[0;34m\"\"\"Search n_iter candidates from param_distributions\"\"\"\u001b[0m\u001b[0;34m\u001b[0m\u001b[0;34m\u001b[0m\u001b[0m\n\u001b[0;32m-> 1768\u001b[0;31m         evaluate_candidates(\n\u001b[0m\u001b[1;32m   1769\u001b[0m             ParameterSampler(\n\u001b[1;32m   1770\u001b[0m                 \u001b[0mself\u001b[0m\u001b[0;34m.\u001b[0m\u001b[0mparam_distributions\u001b[0m\u001b[0;34m,\u001b[0m \u001b[0mself\u001b[0m\u001b[0;34m.\u001b[0m\u001b[0mn_iter\u001b[0m\u001b[0;34m,\u001b[0m \u001b[0mrandom_state\u001b[0m\u001b[0;34m=\u001b[0m\u001b[0mself\u001b[0m\u001b[0;34m.\u001b[0m\u001b[0mrandom_state\u001b[0m\u001b[0;34m\u001b[0m\u001b[0;34m\u001b[0m\u001b[0m\n",
            "\u001b[0;32m/usr/local/lib/python3.10/dist-packages/sklearn/model_selection/_search.py\u001b[0m in \u001b[0;36mevaluate_candidates\u001b[0;34m(candidate_params, cv, more_results)\u001b[0m\n\u001b[1;32m    819\u001b[0m                     )\n\u001b[1;32m    820\u001b[0m \u001b[0;34m\u001b[0m\u001b[0m\n\u001b[0;32m--> 821\u001b[0;31m                 out = parallel(\n\u001b[0m\u001b[1;32m    822\u001b[0m                     delayed(_fit_and_score)(\n\u001b[1;32m    823\u001b[0m                         \u001b[0mclone\u001b[0m\u001b[0;34m(\u001b[0m\u001b[0mbase_estimator\u001b[0m\u001b[0;34m)\u001b[0m\u001b[0;34m,\u001b[0m\u001b[0;34m\u001b[0m\u001b[0;34m\u001b[0m\u001b[0m\n",
            "\u001b[0;32m/usr/local/lib/python3.10/dist-packages/sklearn/utils/parallel.py\u001b[0m in \u001b[0;36m__call__\u001b[0;34m(self, iterable)\u001b[0m\n\u001b[1;32m     61\u001b[0m             \u001b[0;32mfor\u001b[0m \u001b[0mdelayed_func\u001b[0m\u001b[0;34m,\u001b[0m \u001b[0margs\u001b[0m\u001b[0;34m,\u001b[0m \u001b[0mkwargs\u001b[0m \u001b[0;32min\u001b[0m \u001b[0miterable\u001b[0m\u001b[0;34m\u001b[0m\u001b[0;34m\u001b[0m\u001b[0m\n\u001b[1;32m     62\u001b[0m         )\n\u001b[0;32m---> 63\u001b[0;31m         \u001b[0;32mreturn\u001b[0m \u001b[0msuper\u001b[0m\u001b[0;34m(\u001b[0m\u001b[0;34m)\u001b[0m\u001b[0;34m.\u001b[0m\u001b[0m__call__\u001b[0m\u001b[0;34m(\u001b[0m\u001b[0miterable_with_config\u001b[0m\u001b[0;34m)\u001b[0m\u001b[0;34m\u001b[0m\u001b[0;34m\u001b[0m\u001b[0m\n\u001b[0m\u001b[1;32m     64\u001b[0m \u001b[0;34m\u001b[0m\u001b[0m\n\u001b[1;32m     65\u001b[0m \u001b[0;34m\u001b[0m\u001b[0m\n",
            "\u001b[0;32m/usr/local/lib/python3.10/dist-packages/joblib/parallel.py\u001b[0m in \u001b[0;36m__call__\u001b[0;34m(self, iterable)\u001b[0m\n\u001b[1;32m   1950\u001b[0m         \u001b[0mnext\u001b[0m\u001b[0;34m(\u001b[0m\u001b[0moutput\u001b[0m\u001b[0;34m)\u001b[0m\u001b[0;34m\u001b[0m\u001b[0;34m\u001b[0m\u001b[0m\n\u001b[1;32m   1951\u001b[0m \u001b[0;34m\u001b[0m\u001b[0m\n\u001b[0;32m-> 1952\u001b[0;31m         \u001b[0;32mreturn\u001b[0m \u001b[0moutput\u001b[0m \u001b[0;32mif\u001b[0m \u001b[0mself\u001b[0m\u001b[0;34m.\u001b[0m\u001b[0mreturn_generator\u001b[0m \u001b[0;32melse\u001b[0m \u001b[0mlist\u001b[0m\u001b[0;34m(\u001b[0m\u001b[0moutput\u001b[0m\u001b[0;34m)\u001b[0m\u001b[0;34m\u001b[0m\u001b[0;34m\u001b[0m\u001b[0m\n\u001b[0m\u001b[1;32m   1953\u001b[0m \u001b[0;34m\u001b[0m\u001b[0m\n\u001b[1;32m   1954\u001b[0m     \u001b[0;32mdef\u001b[0m \u001b[0m__repr__\u001b[0m\u001b[0;34m(\u001b[0m\u001b[0mself\u001b[0m\u001b[0;34m)\u001b[0m\u001b[0;34m:\u001b[0m\u001b[0;34m\u001b[0m\u001b[0;34m\u001b[0m\u001b[0m\n",
            "\u001b[0;32m/usr/local/lib/python3.10/dist-packages/joblib/parallel.py\u001b[0m in \u001b[0;36m_get_outputs\u001b[0;34m(self, iterator, pre_dispatch)\u001b[0m\n\u001b[1;32m   1593\u001b[0m \u001b[0;34m\u001b[0m\u001b[0m\n\u001b[1;32m   1594\u001b[0m             \u001b[0;32mwith\u001b[0m \u001b[0mself\u001b[0m\u001b[0;34m.\u001b[0m\u001b[0m_backend\u001b[0m\u001b[0;34m.\u001b[0m\u001b[0mretrieval_context\u001b[0m\u001b[0;34m(\u001b[0m\u001b[0;34m)\u001b[0m\u001b[0;34m:\u001b[0m\u001b[0;34m\u001b[0m\u001b[0;34m\u001b[0m\u001b[0m\n\u001b[0;32m-> 1595\u001b[0;31m                 \u001b[0;32myield\u001b[0m \u001b[0;32mfrom\u001b[0m \u001b[0mself\u001b[0m\u001b[0;34m.\u001b[0m\u001b[0m_retrieve\u001b[0m\u001b[0;34m(\u001b[0m\u001b[0;34m)\u001b[0m\u001b[0;34m\u001b[0m\u001b[0;34m\u001b[0m\u001b[0m\n\u001b[0m\u001b[1;32m   1596\u001b[0m \u001b[0;34m\u001b[0m\u001b[0m\n\u001b[1;32m   1597\u001b[0m         \u001b[0;32mexcept\u001b[0m \u001b[0mGeneratorExit\u001b[0m\u001b[0;34m:\u001b[0m\u001b[0;34m\u001b[0m\u001b[0;34m\u001b[0m\u001b[0m\n",
            "\u001b[0;32m/usr/local/lib/python3.10/dist-packages/joblib/parallel.py\u001b[0m in \u001b[0;36m_retrieve\u001b[0;34m(self)\u001b[0m\n\u001b[1;32m   1705\u001b[0m                 (self._jobs[0].get_status(\n\u001b[1;32m   1706\u001b[0m                     timeout=self.timeout) == TASK_PENDING)):\n\u001b[0;32m-> 1707\u001b[0;31m                 \u001b[0mtime\u001b[0m\u001b[0;34m.\u001b[0m\u001b[0msleep\u001b[0m\u001b[0;34m(\u001b[0m\u001b[0;36m0.01\u001b[0m\u001b[0;34m)\u001b[0m\u001b[0;34m\u001b[0m\u001b[0;34m\u001b[0m\u001b[0m\n\u001b[0m\u001b[1;32m   1708\u001b[0m                 \u001b[0;32mcontinue\u001b[0m\u001b[0;34m\u001b[0m\u001b[0;34m\u001b[0m\u001b[0m\n\u001b[1;32m   1709\u001b[0m \u001b[0;34m\u001b[0m\u001b[0m\n",
            "\u001b[0;31mKeyboardInterrupt\u001b[0m: "
          ]
        }
      ],
      "source": [
        "\n",
        "param_dist = {\n",
        "    'n_estimators': [50, 100, 200],\n",
        "    'max_depth': [3, 4, 5],\n",
        "    'min_samples_split': [2, 5, 10],\n",
        "    'min_samples_leaf': [1, 2, 4],\n",
        "    'max_features': ['auto', 'sqrt', 'log2', None]\n",
        "\n",
        "}\n",
        "\n",
        "random_search = RandomizedSearchCV(model_RFC, param_distributions=param_dist, n_iter=10, cv=5, scoring='accuracy', random_state=42, n_jobs=-1)\n",
        "\n",
        "random_search.fit(X_train, y_train)\n",
        "\n",
        "best_params = random_search.best_params_\n",
        "best_model = random_search.best_estimator_\n",
        "\n",
        "print(f'Best Parameters: {best_params}')"
      ]
    },
    {
      "cell_type": "code",
      "execution_count": null,
      "metadata": {
        "id": "bjldqFzLveTK"
      },
      "outputs": [],
      "source": [
        "\n",
        "param_grid = {\n",
        "    'n_estimators': [50, 100, 200],\n",
        "    'learning_rate': [0.01, 0.1, 0.2],\n",
        "    'max_depth': [3, 4, 5],\n",
        "    'min_samples_split': [2, 5, 10],\n",
        "    'min_samples_leaf': [1, 2, 4],\n",
        "    'subsample': [0.8, 1.0],\n",
        "    'max_features': ['auto', 'sqrt', 'log2', None]\n",
        "}\n",
        "\n",
        "grid_search = GridSearchCV(model_RFC, param_grid, cv=5, scoring='accuracy', n_jobs=-1)\n",
        "\n",
        "grid_search.fit(X_train, y_train)\n",
        "\n",
        "best_params = grid_search.best_params_\n",
        "best_model = grid_search.best_estimator_\n",
        "\n",
        "print(best_model)\n",
        "print(best_params)"
      ]
    },
    {
      "cell_type": "markdown",
      "metadata": {},
      "source": [
        "### Now let's construct our model again after fine-tuning:"
      ]
    },
    {
      "cell_type": "code",
      "execution_count": null,
      "metadata": {
        "colab": {
          "base_uri": "https://localhost:8080/",
          "height": 668
        },
        "id": "f2DE-RG7vgK_",
        "outputId": "47e36c43-bc7f-4241-8b09-f7578f10328f"
      },
      "outputs": [
        {
          "name": "stdout",
          "output_type": "stream",
          "text": [
            "0.5041450777202072\n",
            "0.5046632124352332\n",
            "Accuracy:  0.5046632124352332\n",
            "Precision:  0.5046632124352332\n",
            "Recall:  1.0\n",
            "F1 Score:  0.6707988980716253\n"
          ]
        },
        {
          "data": {
            "image/png": "[encoded data removed]",
            "text/plain": [
              "<Figure size 800x600 with 2 Axes>"
            ]
          },
          "metadata": {},
          "output_type": "display_data"
        }
      ],
      "source": [
        "\n",
        "model_RFC_upd = RandomForestClassifier(n_estimators= 100, min_samples_split=2, min_samples_leaf= 4, max_features= None, max_depth= 30)\n",
        "\n",
        "model_RFC_upd.fit(X_train, y_train)\n",
        "print(model_RFC_upd.score(X_train, y_train))\n",
        "\n",
        "y_pred = model_RFC_upd.predict(X_test)\n",
        "\n",
        "print(model_RFC_upd.score(X_test, y_test))\n",
        "\n",
        "# Calculate evaluation metrics\n",
        "accuracy_rf = accuracy_score(y_test, y_pred)\n",
        "precision_rf = precision_score(y_test, y_pred)\n",
        "recall_rf = recall_score(y_test, y_pred)\n",
        "f1_rf = f1_score(y_test, y_pred)\n",
        "\n",
        "# Print the metrics\n",
        "print(\"Accuracy: \", accuracy_rf)\n",
        "print(\"Precision: \", precision_rf)\n",
        "print(\"Recall: \", recall_rf)\n",
        "print(\"F1 Score: \", f1_rf)\n",
        "\n",
        "\n",
        "# Create a confusion matrix\n",
        "conf_matrix = confusion_matrix(y_test, y_pred)\n",
        "\n",
        "# Plot the confusion matrix using seaborn\n",
        "plt.figure(figsize=(8, 6))\n",
        "sns.heatmap(conf_matrix, annot=True, fmt='d', cmap='Blues',\n",
        "            xticklabels=['Predicted 0', 'Predicted 1'],\n",
        "            yticklabels=['Actual 0', 'Actual 1'])\n",
        "plt.title('RandomForest Confusion Matrix')\n",
        "plt.xlabel('Predicted label')\n",
        "plt.ylabel('True label')\n",
        "plt.show()"
      ]
    },
    {
      "cell_type": "markdown",
      "metadata": {},
      "source": [
        "Interestingly enough, even after we have fine-tuned our hyperparameters our results are still uncomparable to those obtained from our SVM model.\n",
        "\n",
        "With this analyses we can conclude that using the SVM model over our Random Forest model is definitely the better classification model alternative.\n",
        "\n",
        "__However, why stop there?__\n",
        "\n",
        "Let's test another model!"
      ]
    },
    {
      "cell_type": "code",
      "execution_count": null,
      "metadata": {
        "colab": {
          "base_uri": "https://localhost:8080/",
          "height": 564
        },
        "id": "2nlI4r_xsBCG",
        "outputId": "c61a6e3c-8fd5-45d4-a508-5e169817b13f"
      },
      "outputs": [
        {
          "data": {
            "image/png": "[encoded data removed]",
            "text/plain": [
              "<Figure size 800x600 with 2 Axes>"
            ]
          },
          "metadata": {},
          "output_type": "display_data"
        }
      ],
      "source": [
        "\n",
        "conf_matrix = confusion_matrix(y_test, y_pred)\n",
        "\n",
        "plt.figure(figsize=(8, 6))\n",
        "sns.heatmap(conf_matrix, annot=True, fmt='d', cmap='Blues',\n",
        "            xticklabels=['Predicted 0', 'Predicted 1'],\n",
        "            yticklabels=['Actual 0', 'Actual 1'])\n",
        "plt.title('RandomForest Confusion Matrix')\n",
        "plt.xlabel('Predicted label')\n",
        "plt.ylabel('True label')\n",
        "plt.show()"
      ]
    },
    {
      "cell_type": "markdown",
      "metadata": {
        "id": "KCTzcN1RmWqj"
      },
      "source": [
        "# Multinomial NB"
      ]
    },
    {
      "cell_type": "markdown",
      "metadata": {},
      "source": [
        "Now we will be constructing a MultinomialNB model and observe the obtained results."
      ]
    },
    {
      "cell_type": "code",
      "execution_count": null,
      "metadata": {
        "colab": {
          "base_uri": "https://localhost:8080/"
        },
        "id": "qOQHCRswzJ1Q",
        "outputId": "ce0e95bd-f78d-4542-e78d-fa4fb60ae44e"
      },
      "outputs": [
        {
          "name": "stdout",
          "output_type": "stream",
          "text": [
            "0.9422279792746114\n",
            "0.5046632124352332\n"
          ]
        }
      ],
      "source": [
        "model_MNB = MultinomialNB()\n",
        "model_MNB.fit(X_train, y_train)\n",
        "print(model_MNB.score(X_train, y_train))\n",
        "y_pred = model_MNB.predict(X_test)\n",
        "print(model_MNB.score(X_test, y_test))"
      ]
    },
    {
      "cell_type": "markdown",
      "metadata": {},
      "source": [
        "### After constructing the classification model:\n",
        "The results obtained even though are better in some aspects compared to our Random Forest model, and worse in others. \n",
        "There is no comparison whatsoever still between this model and our previous SVM Model.\n",
        "\n",
        "__Let's not jump the gun though!__\n",
        "\n",
        "we should fine-tune our hyperparameters to see if the obtained results change in any way."
      ]
    },
    {
      "cell_type": "code",
      "execution_count": null,
      "metadata": {
        "colab": {
          "base_uri": "https://localhost:8080/"
        },
        "id": "LVpAxcuX1LTP",
        "outputId": "ceb24a47-2656-43ef-ee5b-f028ba9fb634"
      },
      "outputs": [
        {
          "name": "stdout",
          "output_type": "stream",
          "text": [
            "MultinomialNB(alpha=0.1)\n",
            "{'alpha': 0.1}\n"
          ]
        }
      ],
      "source": [
        "\n",
        "param_grid = {\n",
        "    'alpha': [0.1, 0.5, 1.0, 2.0],\n",
        "}\n",
        "\n",
        "grid_search = GridSearchCV(model_MNB, param_grid, cv=5, scoring='accuracy', n_jobs=-1)\n",
        "\n",
        "grid_search.fit(X_train, y_train)\n",
        "\n",
        "best_params = grid_search.best_params_\n",
        "best_model = grid_search.best_estimator_\n",
        "\n",
        "print(best_model)\n",
        "print(best_params)"
      ]
    },
    {
      "cell_type": "code",
      "execution_count": null,
      "metadata": {
        "colab": {
          "base_uri": "https://localhost:8080/",
          "height": 599
        },
        "id": "iSh6eU7S1NAS",
        "outputId": "e5ff4c2e-d203-473c-be69-f32d29aece58"
      },
      "outputs": [
        {
          "name": "stdout",
          "output_type": "stream",
          "text": [
            "0.9422279792746114\n",
            "0.5046632124352332\n"
          ]
        },
        {
          "data": {
            "image/png": "[encoded data removed]",
            "text/plain": [
              "<Figure size 800x600 with 2 Axes>"
            ]
          },
          "metadata": {},
          "output_type": "display_data"
        }
      ],
      "source": [
        "model_MNB_upd = MultinomialNB(alpha=0.1)\n",
        "\n",
        "model_MNB_upd.fit(X_train, y_train)\n",
        "print(model_MNB_upd.score(X_train, y_train))\n",
        "\n",
        "y_pred = model_MNB_upd.predict(X_test)\n",
        "\n",
        "print(model_MNB_upd.score(X_test, y_test))\n"
      ]
    },
    {
      "cell_type": "markdown",
      "metadata": {},
      "source": [
        "### Alas based on our found values:\n",
        "Even with hyperparameter fine-tuning, MultinomialNB seems to be no match to our SVM model.\n",
        "The results obtained just do not come close to the performance metric scores obtained in our SVM classification model.\n",
        "\n",
        "__This is rather interesting__"
      ]
    },
    {
      "cell_type": "code",
      "execution_count": null,
      "metadata": {
        "colab": {
          "base_uri": "https://localhost:8080/",
          "height": 564
        },
        "id": "M3Gsd6bk0w04",
        "outputId": "6c30359b-3842-451e-fee6-23ad6f85c6af"
      },
      "outputs": [
        {
          "data": {
            "image/png": "[encoded data removed]",
            "text/plain": [
              "<Figure size 800x600 with 2 Axes>"
            ]
          },
          "metadata": {},
          "output_type": "display_data"
        }
      ],
      "source": [
        "# Create a confusion matrix\n",
        "conf_matrix = confusion_matrix(y_test, y_pred)\n",
        "# Plot the confusion matrix using seaborn\n",
        "plt.figure(figsize=(8, 6))\n",
        "sns.heatmap(conf_matrix, annot=True, fmt='d', cmap='Blues',\n",
        "            xticklabels=['Predicted 0', 'Predicted 1'],\n",
        "            yticklabels=['Actual 0', 'Actual 1'])\n",
        "plt.title('RandomForest Confusion Matrix')\n",
        "plt.xlabel('Predicted label')\n",
        "plt.ylabel('True label')\n",
        "plt.show()"
      ]
    },
    {
      "cell_type": "markdown",
      "metadata": {},
      "source": [
        "## Concluding Results:\n",
        "After testing a whopping 3 Classification models, fine-tuning hyperparameters and observing performance metric scores, there is __one clear winner__\n",
        "\n",
        "Our Random Forest and MultinomialNB model are no match for the SVM Classification model.\n",
        "\n",
        "### What a Journey this has been!\n"
      ]
    }
  ],
  "metadata": {
    "colab": {
      "authorship_tag": "ABX9TyNja/Klu40SXUoJqFUMLKxB",
      "provenance": []
    },
    "kernelspec": {
      "display_name": "Python 3",
      "name": "python3"
    },
    "language_info": {
      "codemirror_mode": {
        "name": "ipython",
        "version": 3
      },
      "file_extension": ".py",
      "mimetype": "text/x-python",
      "name": "python",
      "nbconvert_exporter": "python",
      "pygments_lexer": "ipython3",
      "version": "3.10.13"
    }
  },
  "nbformat": 4,
  "nbformat_minor": 0
}
