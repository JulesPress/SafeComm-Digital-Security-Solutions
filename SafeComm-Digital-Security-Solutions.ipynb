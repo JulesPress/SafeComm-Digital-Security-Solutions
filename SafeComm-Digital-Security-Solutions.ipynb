{
  "nbformat": 4,
  "nbformat_minor": 0,
  "metadata": {
    "colab": {
      "provenance": [],
      "authorship_tag": "ABX9TyOIg8Tw4PcAMMsmOBpaaIGB"
    },
    "kernelspec": {
      "name": "python3",
      "display_name": "Python 3"
    },
    "language_info": {
      "name": "python"
    }
  },
  "cells": [
    {
      "cell_type": "markdown",
      "source": [
        "# SafeComm-Digital-Security-Solutions\n",
        "\n",
        "Welcome to SafeComm Digital Security Solutions! In the modern digital age, people across the globe\n",
        "communicate largely through text messages. SMSs have become an integral part of our daily lives.\n",
        "However, with this ease of communication, there comes a dark side: SMS-based fraud. Unsuspecting\n",
        "individuals often receive malicious or scam texts intending to deceive or cause harm.\n",
        "SafeComm has recently partnered with a major telecom provider that has shared anonymized SMS\n",
        "data. This dataset comprises a mix of regular day-to-day messages and some potentially fraudulent\n",
        "ones. The objective is to design a mechanism that identifies and flags these fraudulent messages\n",
        "automatically. This way, we can warn users or even prevent these messages from being delivered\n",
        "altogether.\n",
        "\n",
        "# *Dataset features*\n",
        "\n",
        "• Fraudulent: Binary indicator if the SMS is fraudulent (1 for Yes, 0 for No)\n",
        "\n",
        "• SMS Text: The content of the SMS\n",
        "\n",
        "• ID: A unique identifier for each SMS\n",
        "\n",
        "• Date and Time: Timestamp indicating when the SMS was sent\n",
        "\n",
        "# *Assignment*\n",
        "\n",
        "• Perform an Explanatory data analysis (EDA) with visualization using the entire dataset..\n",
        "\n",
        "• Preprocess the dataset (impute missing values, encode categorical features with one-hot\n",
        "encoding). Your goal is to estimate whether an SMS is fraudulent\n",
        "\n",
        "• Define whether this is a regression, classification or clustering problem, explain why and\n",
        "choose your model design accordingly. Test at least 3 different models. First, create a\n",
        "validation set from the training set to analyze the behaviour with the default\n",
        "hyperparameters. Then use cross-validation to find the best set of hyperparameters. You\n",
        "must describe every hyperparameter tuned (the more, the better)\n",
        "\n",
        "• Select the best architecture using the right metric\n",
        "\n",
        "• Compute the performances of the test set\n",
        "\n",
        "• Explain your results"
      ],
      "metadata": {
        "id": "zLXNWWdwhgVd"
      }
    },
    {
      "cell_type": "code",
      "execution_count": 2,
      "metadata": {
        "id": "HJuWXEAVSoMp"
      },
      "outputs": [],
      "source": [
        "import numpy as np\n",
        "import sklearn as skl\n",
        "import pandas as pd\n",
        "import matplotlib.pyplot as plt\n",
        "import seaborn as sns\n",
        "from sklearn.preprocessing import OneHotEncoder\n",
        "from sklearn.preprocessing import StandardScaler\n",
        "import requests\n",
        "import zipfile\n",
        "import os\n",
        "\n",
        "import nltk, spacy\n",
        "import re, string, unicodedata\n",
        "from bs4 import BeautifulSoup\n",
        "from sklearn.linear_model import LogisticRegression,SGDClassifier\n",
        "from sklearn.naive_bayes import MultinomialNB\n",
        "from sklearn.model_selection import train_test_split\n",
        "from sklearn.svm import SVC\n",
        "from sklearn.metrics import classification_report,confusion_matrix,accuracy_score\n",
        "from sklearn.feature_extraction.text import CountVectorizer\n",
        "from sklearn.feature_extraction.text import TfidfVectorizer\n",
        "from sklearn.preprocessing import LabelBinarizer\n",
        "from textblob import TextBlob\n",
        "from textblob import Word\n",
        "from nltk.corpus import stopwords\n",
        "from nltk.stem.porter import PorterStemmer\n",
        "from nltk.stem import WordNetLemmatizer\n",
        "from nltk.tokenize import word_tokenize,sent_tokenize\n",
        "from nltk.tokenize.toktok import ToktokTokenizer\n",
        "from nltk.stem import LancasterStemmer,WordNetLemmatizer\n",
        "from wordcloud import WordCloud,STOPWORDS\n",
        "from plotly import graph_objs as go\n",
        "import plotly.express as px\n",
        "import plotly.figure_factory as ff\n",
        "\n",
        "import warnings"
      ]
    },
    {
      "cell_type": "markdown",
      "source": [
        "## EDA analysis ##\n",
        "\n",
        "* Understanding the Dataset: We use python libraries to scan the dataset and gain insight of its structure\n",
        "\n",
        "* Checking for Integrity: We scan the dataset to identify NaN values and check if the dataset is consistent\n",
        "\n",
        "* Visualize Distribution of Data: using sns and matplotlib we can see how the data is structured in the cartesian plane\n",
        "\n",
        "* Use pairplots for identify relationships: Apparently not necessary"
      ],
      "metadata": {
        "id": "jLmGXXJFqkrF"
      }
    },
    {
      "cell_type": "markdown",
      "source": [
        "# Showing the dataframe\n",
        "\n",
        "* here we display the complete dataset in a dataframe with 4 columns:\n",
        "  - *Fraudolent*: a binary value, that acts like a boolean, that assumes the value of 0 when the sms is not spam; 1 when it is fraudolent.\n",
        "  - *SMS test*: a string of text, representing an sms.\n",
        "  - *ID*: a unique alphanumeric code of 7 digits that represents the sms message.\n",
        "  - *Date and Time*: time in which the message has been sent (it is formatted as date and time)\n",
        "\n",
        "* Plus, for operational purposes, we needed to reformat the name of the *SMS test* and *Date and Time* columns."
      ],
      "metadata": {
        "id": "yEh2tBbc65bh"
      }
    },
    {
      "cell_type": "code",
      "source": [
        "sms_df = pd.read_csv(\"sms.csv\")\n",
        "sms_df.rename(columns={'SMS test': 'SMS_test'}, inplace=True)\n",
        "sms_df.rename(columns={'Date and Time': 'Date_and_Time'}, inplace=True)\n",
        "sms_df.head()"
      ],
      "metadata": {
        "colab": {
          "base_uri": "https://localhost:8080/",
          "height": 206
        },
        "id": "Qm9lUowvwMUc",
        "outputId": "527ab3d2-d19d-494a-aae0-ab5901ecde68"
      },
      "execution_count": 6,
      "outputs": [
        {
          "output_type": "execute_result",
          "data": {
            "text/plain": [
              "   Fraudolent                                           SMS_test       ID  \\\n",
              "0           0  Squeeeeeze!! This is christmas hug.. If u lik ...  1EWYRBL   \n",
              "1           0  And also I've sorta blown him off a couple tim...  ZY4PDK7   \n",
              "2           0  Mmm thats better now i got a roast down me! i...  KLUX2C6   \n",
              "3           0      Mm have some kanji dont eat anything heavy ok  955HXJ0   \n",
              "4           0  So there's a ring that comes with the guys cos...  00Q6EUC   \n",
              "\n",
              "  Date_and_Time  \n",
              "0    2017-12-02  \n",
              "1    2018-03-23  \n",
              "2    2016-10-29  \n",
              "3    2018-04-12  \n",
              "4    2016-08-01  "
            ],
            "text/html": [
              "\n",
              "  <div id=\"df-e6aa77e4-77c4-4725-843b-d68534d0c85c\" class=\"colab-df-container\">\n",
              "    <div>\n",
              "<style scoped>\n",
              "    .dataframe tbody tr th:only-of-type {\n",
              "        vertical-align: middle;\n",
              "    }\n",
              "\n",
              "    .dataframe tbody tr th {\n",
              "        vertical-align: top;\n",
              "    }\n",
              "\n",
              "    .dataframe thead th {\n",
              "        text-align: right;\n",
              "    }\n",
              "</style>\n",
              "<table border=\"1\" class=\"dataframe\">\n",
              "  <thead>\n",
              "    <tr style=\"text-align: right;\">\n",
              "      <th></th>\n",
              "      <th>Fraudolent</th>\n",
              "      <th>SMS_test</th>\n",
              "      <th>ID</th>\n",
              "      <th>Date_and_Time</th>\n",
              "    </tr>\n",
              "  </thead>\n",
              "  <tbody>\n",
              "    <tr>\n",
              "      <th>0</th>\n",
              "      <td>0</td>\n",
              "      <td>Squeeeeeze!! This is christmas hug.. If u lik ...</td>\n",
              "      <td>1EWYRBL</td>\n",
              "      <td>2017-12-02</td>\n",
              "    </tr>\n",
              "    <tr>\n",
              "      <th>1</th>\n",
              "      <td>0</td>\n",
              "      <td>And also I've sorta blown him off a couple tim...</td>\n",
              "      <td>ZY4PDK7</td>\n",
              "      <td>2018-03-23</td>\n",
              "    </tr>\n",
              "    <tr>\n",
              "      <th>2</th>\n",
              "      <td>0</td>\n",
              "      <td>Mmm thats better now i got a roast down me! i...</td>\n",
              "      <td>KLUX2C6</td>\n",
              "      <td>2016-10-29</td>\n",
              "    </tr>\n",
              "    <tr>\n",
              "      <th>3</th>\n",
              "      <td>0</td>\n",
              "      <td>Mm have some kanji dont eat anything heavy ok</td>\n",
              "      <td>955HXJ0</td>\n",
              "      <td>2018-04-12</td>\n",
              "    </tr>\n",
              "    <tr>\n",
              "      <th>4</th>\n",
              "      <td>0</td>\n",
              "      <td>So there's a ring that comes with the guys cos...</td>\n",
              "      <td>00Q6EUC</td>\n",
              "      <td>2016-08-01</td>\n",
              "    </tr>\n",
              "  </tbody>\n",
              "</table>\n",
              "</div>\n",
              "    <div class=\"colab-df-buttons\">\n",
              "\n",
              "  <div class=\"colab-df-container\">\n",
              "    <button class=\"colab-df-convert\" onclick=\"convertToInteractive('df-e6aa77e4-77c4-4725-843b-d68534d0c85c')\"\n",
              "            title=\"Convert this dataframe to an interactive table.\"\n",
              "            style=\"display:none;\">\n",
              "\n",
              "  <svg xmlns=\"http://www.w3.org/2000/svg\" height=\"24px\" viewBox=\"0 -960 960 960\">\n",
              "    <path d=\"M120-120v-720h720v720H120Zm60-500h600v-160H180v160Zm220 220h160v-160H400v160Zm0 220h160v-160H400v160ZM180-400h160v-160H180v160Zm440 0h160v-160H620v160ZM180-180h160v-160H180v160Zm440 0h160v-160H620v160Z\"/>\n",
              "  </svg>\n",
              "    </button>\n",
              "\n",
              "  <style>\n",
              "    .colab-df-container {\n",
              "      display:flex;\n",
              "      gap: 12px;\n",
              "    }\n",
              "\n",
              "    .colab-df-convert {\n",
              "      background-color: #E8F0FE;\n",
              "      border: none;\n",
              "      border-radius: 50%;\n",
              "      cursor: pointer;\n",
              "      display: none;\n",
              "      fill: #1967D2;\n",
              "      height: 32px;\n",
              "      padding: 0 0 0 0;\n",
              "      width: 32px;\n",
              "    }\n",
              "\n",
              "    .colab-df-convert:hover {\n",
              "      background-color: #E2EBFA;\n",
              "      box-shadow: 0px 1px 2px rgba(60, 64, 67, 0.3), 0px 1px 3px 1px rgba(60, 64, 67, 0.15);\n",
              "      fill: #174EA6;\n",
              "    }\n",
              "\n",
              "    .colab-df-buttons div {\n",
              "      margin-bottom: 4px;\n",
              "    }\n",
              "\n",
              "    [theme=dark] .colab-df-convert {\n",
              "      background-color: #3B4455;\n",
              "      fill: #D2E3FC;\n",
              "    }\n",
              "\n",
              "    [theme=dark] .colab-df-convert:hover {\n",
              "      background-color: #434B5C;\n",
              "      box-shadow: 0px 1px 3px 1px rgba(0, 0, 0, 0.15);\n",
              "      filter: drop-shadow(0px 1px 2px rgba(0, 0, 0, 0.3));\n",
              "      fill: #FFFFFF;\n",
              "    }\n",
              "  </style>\n",
              "\n",
              "    <script>\n",
              "      const buttonEl =\n",
              "        document.querySelector('#df-e6aa77e4-77c4-4725-843b-d68534d0c85c button.colab-df-convert');\n",
              "      buttonEl.style.display =\n",
              "        google.colab.kernel.accessAllowed ? 'block' : 'none';\n",
              "\n",
              "      async function convertToInteractive(key) {\n",
              "        const element = document.querySelector('#df-e6aa77e4-77c4-4725-843b-d68534d0c85c');\n",
              "        const dataTable =\n",
              "          await google.colab.kernel.invokeFunction('convertToInteractive',\n",
              "                                                    [key], {});\n",
              "        if (!dataTable) return;\n",
              "\n",
              "        const docLinkHtml = 'Like what you see? Visit the ' +\n",
              "          '<a target=\"_blank\" href=https://colab.research.google.com/notebooks/data_table.ipynb>data table notebook</a>'\n",
              "          + ' to learn more about interactive tables.';\n",
              "        element.innerHTML = '';\n",
              "        dataTable['output_type'] = 'display_data';\n",
              "        await google.colab.output.renderOutput(dataTable, element);\n",
              "        const docLink = document.createElement('div');\n",
              "        docLink.innerHTML = docLinkHtml;\n",
              "        element.appendChild(docLink);\n",
              "      }\n",
              "    </script>\n",
              "  </div>\n",
              "\n",
              "\n",
              "<div id=\"df-be6b490b-dbb8-4006-9ba5-3609a9d4ff59\">\n",
              "  <button class=\"colab-df-quickchart\" onclick=\"quickchart('df-be6b490b-dbb8-4006-9ba5-3609a9d4ff59')\"\n",
              "            title=\"Suggest charts\"\n",
              "            style=\"display:none;\">\n",
              "\n",
              "<svg xmlns=\"http://www.w3.org/2000/svg\" height=\"24px\"viewBox=\"0 0 24 24\"\n",
              "     width=\"24px\">\n",
              "    <g>\n",
              "        <path d=\"M19 3H5c-1.1 0-2 .9-2 2v14c0 1.1.9 2 2 2h14c1.1 0 2-.9 2-2V5c0-1.1-.9-2-2-2zM9 17H7v-7h2v7zm4 0h-2V7h2v10zm4 0h-2v-4h2v4z\"/>\n",
              "    </g>\n",
              "</svg>\n",
              "  </button>\n",
              "\n",
              "<style>\n",
              "  .colab-df-quickchart {\n",
              "      --bg-color: #E8F0FE;\n",
              "      --fill-color: #1967D2;\n",
              "      --hover-bg-color: #E2EBFA;\n",
              "      --hover-fill-color: #174EA6;\n",
              "      --disabled-fill-color: #AAA;\n",
              "      --disabled-bg-color: #DDD;\n",
              "  }\n",
              "\n",
              "  [theme=dark] .colab-df-quickchart {\n",
              "      --bg-color: #3B4455;\n",
              "      --fill-color: #D2E3FC;\n",
              "      --hover-bg-color: #434B5C;\n",
              "      --hover-fill-color: #FFFFFF;\n",
              "      --disabled-bg-color: #3B4455;\n",
              "      --disabled-fill-color: #666;\n",
              "  }\n",
              "\n",
              "  .colab-df-quickchart {\n",
              "    background-color: var(--bg-color);\n",
              "    border: none;\n",
              "    border-radius: 50%;\n",
              "    cursor: pointer;\n",
              "    display: none;\n",
              "    fill: var(--fill-color);\n",
              "    height: 32px;\n",
              "    padding: 0;\n",
              "    width: 32px;\n",
              "  }\n",
              "\n",
              "  .colab-df-quickchart:hover {\n",
              "    background-color: var(--hover-bg-color);\n",
              "    box-shadow: 0 1px 2px rgba(60, 64, 67, 0.3), 0 1px 3px 1px rgba(60, 64, 67, 0.15);\n",
              "    fill: var(--button-hover-fill-color);\n",
              "  }\n",
              "\n",
              "  .colab-df-quickchart-complete:disabled,\n",
              "  .colab-df-quickchart-complete:disabled:hover {\n",
              "    background-color: var(--disabled-bg-color);\n",
              "    fill: var(--disabled-fill-color);\n",
              "    box-shadow: none;\n",
              "  }\n",
              "\n",
              "  .colab-df-spinner {\n",
              "    border: 2px solid var(--fill-color);\n",
              "    border-color: transparent;\n",
              "    border-bottom-color: var(--fill-color);\n",
              "    animation:\n",
              "      spin 1s steps(1) infinite;\n",
              "  }\n",
              "\n",
              "  @keyframes spin {\n",
              "    0% {\n",
              "      border-color: transparent;\n",
              "      border-bottom-color: var(--fill-color);\n",
              "      border-left-color: var(--fill-color);\n",
              "    }\n",
              "    20% {\n",
              "      border-color: transparent;\n",
              "      border-left-color: var(--fill-color);\n",
              "      border-top-color: var(--fill-color);\n",
              "    }\n",
              "    30% {\n",
              "      border-color: transparent;\n",
              "      border-left-color: var(--fill-color);\n",
              "      border-top-color: var(--fill-color);\n",
              "      border-right-color: var(--fill-color);\n",
              "    }\n",
              "    40% {\n",
              "      border-color: transparent;\n",
              "      border-right-color: var(--fill-color);\n",
              "      border-top-color: var(--fill-color);\n",
              "    }\n",
              "    60% {\n",
              "      border-color: transparent;\n",
              "      border-right-color: var(--fill-color);\n",
              "    }\n",
              "    80% {\n",
              "      border-color: transparent;\n",
              "      border-right-color: var(--fill-color);\n",
              "      border-bottom-color: var(--fill-color);\n",
              "    }\n",
              "    90% {\n",
              "      border-color: transparent;\n",
              "      border-bottom-color: var(--fill-color);\n",
              "    }\n",
              "  }\n",
              "</style>\n",
              "\n",
              "  <script>\n",
              "    async function quickchart(key) {\n",
              "      const quickchartButtonEl =\n",
              "        document.querySelector('#' + key + ' button');\n",
              "      quickchartButtonEl.disabled = true;  // To prevent multiple clicks.\n",
              "      quickchartButtonEl.classList.add('colab-df-spinner');\n",
              "      try {\n",
              "        const charts = await google.colab.kernel.invokeFunction(\n",
              "            'suggestCharts', [key], {});\n",
              "      } catch (error) {\n",
              "        console.error('Error during call to suggestCharts:', error);\n",
              "      }\n",
              "      quickchartButtonEl.classList.remove('colab-df-spinner');\n",
              "      quickchartButtonEl.classList.add('colab-df-quickchart-complete');\n",
              "    }\n",
              "    (() => {\n",
              "      let quickchartButtonEl =\n",
              "        document.querySelector('#df-be6b490b-dbb8-4006-9ba5-3609a9d4ff59 button');\n",
              "      quickchartButtonEl.style.display =\n",
              "        google.colab.kernel.accessAllowed ? 'block' : 'none';\n",
              "    })();\n",
              "  </script>\n",
              "</div>\n",
              "    </div>\n",
              "  </div>\n"
            ]
          },
          "metadata": {},
          "execution_count": 6
        }
      ]
    },
    {
      "cell_type": "code",
      "source": [
        "print(\"Rows:\",sms_df.shape[0]) # In this way we gain knowledge about the real dimensions of the dataset in terms of rows"
      ],
      "metadata": {
        "colab": {
          "base_uri": "https://localhost:8080/"
        },
        "id": "jy6wNauLxN0r",
        "outputId": "a9487eba-ebb6-46bd-c927-2887961ffa38"
      },
      "execution_count": 8,
      "outputs": [
        {
          "output_type": "stream",
          "name": "stdout",
          "text": [
            "Rows: 5572\n"
          ]
        }
      ]
    },
    {
      "cell_type": "code",
      "source": [
        "# Count NaN values in the dataset\n",
        "nan_count = sms_df.isna().sum()\n",
        "\n",
        "# Display the count of NaN values for each column\n",
        "print(\"NaN values in each column:\")\n",
        "print(nan_count)"
      ],
      "metadata": {
        "colab": {
          "base_uri": "https://localhost:8080/"
        },
        "id": "6noBNCcVxLq0",
        "outputId": "0f77d98e-c36e-4c99-938f-e3f1cabda236"
      },
      "execution_count": 9,
      "outputs": [
        {
          "output_type": "stream",
          "name": "stdout",
          "text": [
            "NaN values in each column:\n",
            "Fraudolent       0\n",
            "SMS_test         0\n",
            "ID               0\n",
            "Date_and_Time    0\n",
            "dtype: int64\n"
          ]
        }
      ]
    },
    {
      "cell_type": "markdown",
      "source": [
        "Fortunately we don't have NaN values in the dataset, so it is consistent and we do not need to impute missing values."
      ],
      "metadata": {
        "id": "K-LoLD7zxXJj"
      }
    },
    {
      "cell_type": "code",
      "source": [
        "print(\"\\nFraudolent column summary:\")\n",
        "print(sms_df['Fraudolent'].value_counts())\n",
        "#Here we can clearly see that there are 4825 Non-Fraudolent messages and 747 Fraudolent messages.\n",
        "fraudolent_count = sms_df['Fraudolent'].value_counts()[1]\n",
        "non_fraudolent_count = sms_df['Fraudolent'].value_counts()[0]\n",
        "\n",
        "percentage_fraudolent = (fraudolent_count / (fraudolent_count + non_fraudolent_count)) * 100\n",
        "percentage_non_fraudolent = (non_fraudolent_count / (fraudolent_count + non_fraudolent_count)) * 100\n",
        "\n",
        "print(\"Percentage of fraudolent messages:\", percentage_fraudolent,'%')\n",
        "print(\"Percentage of non-fraudolent messages:\", percentage_non_fraudolent,'%')\n",
        "#furthermore we have displayed the percentage of fraudolent and non-fraudolent messages in the dataset. We can see that the dataset is unbalanced, favouring non-fraudolent messages."
      ],
      "metadata": {
        "colab": {
          "base_uri": "https://localhost:8080/"
        },
        "id": "-euOcDyu2JVY",
        "outputId": "bb78da32-c8f8-4015-e86a-26d99ae20bff"
      },
      "execution_count": 14,
      "outputs": [
        {
          "output_type": "stream",
          "name": "stdout",
          "text": [
            "\n",
            "Fraudolent column summary:\n",
            "0    4825\n",
            "1     747\n",
            "Name: Fraudolent, dtype: int64\n",
            "Percentage of fraudolent messages: 13.406317300789663 %\n",
            "Percentage of non-fraudolent messages: 86.59368269921033 %\n"
          ]
        }
      ]
    },
    {
      "cell_type": "markdown",
      "source": [
        "* Here we can clearly see that there are 4825 Non-Fraudolent messages and 747 Fraudolent messages.\n",
        "\n",
        "* Furthermore we have displayed the percentage of fraudolent and non-fraudolent messages in the dataset. We can see that the dataset is unbalanced, favouring non-fraudolent messages."
      ],
      "metadata": {
        "id": "1uP7aZYV3E2O"
      }
    },
    {
      "cell_type": "markdown",
      "source": [
        "## Data Distribution and Correlations ##\n",
        "\n",
        "* In this section, we are analyzing the distribution of data in te cartesian plane utilizing sns and matplotlib tools.\n",
        "\n",
        "* In particular, it seems that the most interesting feature to study in the dataset (in terms of distribution analysis) is the *Fraudolent* column."
      ],
      "metadata": {
        "id": "zeMleYnc59Vb"
      }
    },
    {
      "cell_type": "code",
      "source": [
        "\n",
        "column_to_analyze = 'Fraudolent'\n",
        "\n",
        "# Create a distribution plot (histogram) to visualize the data\n",
        "plt.figure(figsize=(10, 6))\n",
        "sns.histplot(sms_df[column_to_analyze], kde=True, bins=20, color='skyblue')\n",
        "plt.title(f'Distribution of {column_to_analyze}')\n",
        "plt.xlabel(column_to_analyze)\n",
        "plt.ylabel('Frequency')\n",
        "plt.grid(True)\n",
        "\n",
        "# Show the plot\n",
        "plt.show()"
      ],
      "metadata": {
        "colab": {
          "base_uri": "https://localhost:8080/",
          "height": 564
        },
        "id": "59KwlqWh57pd",
        "outputId": "efc350ed-44fa-41ab-ca39-171a17640f1c"
      },
      "execution_count": 9,
      "outputs": [
        {
          "output_type": "display_data",
          "data": {
            "text/plain": [
              "<Figure size 1000x600 with 1 Axes>"
            ],
            "image/png": "[encoded data removed]"
          },
          "metadata": {}
        }
      ]
    },
    {
      "cell_type": "code",
      "source": [
        "# Visualize the distribution of Fraudolent\n",
        "sns.countplot(data=sms_df, x='Fraudolent')\n",
        "plt.title('Distribution of Fraudolent')\n",
        "plt.xlabel('Fraudolent')\n",
        "plt.ylabel('Count')\n",
        "plt.show()"
      ],
      "metadata": {
        "colab": {
          "base_uri": "https://localhost:8080/",
          "height": 472
        },
        "id": "NBsXYPk2IigI",
        "outputId": "da512f76-b2d8-4e44-d636-0cd25f6c0dcc"
      },
      "execution_count": 10,
      "outputs": [
        {
          "output_type": "display_data",
          "data": {
            "text/plain": [
              "<Figure size 640x480 with 1 Axes>"
            ],
            "image/png": "[encoded data removed]"
          },
          "metadata": {}
        }
      ]
    },
    {
      "cell_type": "code",
      "source": [
        "# Assuming the SMS text column is named 'SMS text'\n",
        "sms_df['text_length'] = sms_df['SMS_test'].apply(len)\n",
        "\n",
        "# Visualize text length distribution\n",
        "plt.figure(figsize=(10, 6))\n",
        "sns.histplot(data=sms_df, x='text_length', kde=True, bins=50, color='skyblue')\n",
        "plt.title('Distribution of SMS Text Length')\n",
        "plt.xlabel('Text Length')\n",
        "plt.ylabel('Count')\n",
        "plt.show()"
      ],
      "metadata": {
        "colab": {
          "base_uri": "https://localhost:8080/",
          "height": 564
        },
        "id": "qRPtVeNS5F4d",
        "outputId": "d7364fb5-ecfa-4774-b3ba-c5b8d2b488d6"
      },
      "execution_count": 19,
      "outputs": [
        {
          "output_type": "display_data",
          "data": {
            "text/plain": [
              "<Figure size 1000x600 with 1 Axes>"
            ],
            "image/png": "[encoded data removed]"
          },
          "metadata": {}
        }
      ]
    },
    {
      "cell_type": "code",
      "source": [
        "# Assuming the Date and Time column is named 'Date and Time'\n",
        "sms_df['Date_and_Time'] = pd.to_datetime(sms_df['Date_and_Time'])\n",
        "\n",
        "# Extract date and time components\n",
        "sms_df['Year'] = sms_df['Date_and_Time'].dt.year\n",
        "sms_df['Month'] = sms_df['Date_and_Time'].dt.month\n",
        "sms_df['Day'] = sms_df['Date_and_Time'].dt.day\n",
        "\n",
        "# Visualize temporal distribution\n",
        "plt.figure(figsize=(12, 6))\n",
        "sns.countplot(x='Year', hue='Fraudolent', data=sms_df)\n",
        "plt.title('Temporal Distribution of SMS')\n",
        "plt.xlabel('Year')\n",
        "plt.ylabel('Count')\n",
        "plt.show()"
      ],
      "metadata": {
        "colab": {
          "base_uri": "https://localhost:8080/",
          "height": 504
        },
        "id": "cPhiAGKZ5M0z",
        "outputId": "a7162f22-c5ce-4aa1-ed74-c52bb8859e14"
      },
      "execution_count": 21,
      "outputs": [
        {
          "output_type": "display_data",
          "data": {
            "text/plain": [
              "<Figure size 1200x600 with 1 Axes>"
            ],
            "image/png": "[encoded data removed]"
          },
          "metadata": {}
        }
      ]
    },
    {
      "cell_type": "code",
      "source": [
        "# Assuming there are other numerical columns in the dataset\n",
        "correlation_matrix = sms_df.corr()\n",
        "sns.heatmap(correlation_matrix, annot=True, cmap='coolwarm')\n",
        "plt.title('Correlation Matrix')\n",
        "plt.show()"
      ],
      "metadata": {
        "colab": {
          "base_uri": "https://localhost:8080/",
          "height": 507
        },
        "id": "54UBJou85cWz",
        "outputId": "a4eb9682-b115-45a7-fa55-04b063a72824"
      },
      "execution_count": 22,
      "outputs": [
        {
          "output_type": "stream",
          "name": "stderr",
          "text": [
            "<ipython-input-22-5814c81853e6>:2: FutureWarning: The default value of numeric_only in DataFrame.corr is deprecated. In a future version, it will default to False. Select only valid columns or specify the value of numeric_only to silence this warning.\n",
            "  correlation_matrix = sms_df.corr()\n"
          ]
        },
        {
          "output_type": "display_data",
          "data": {
            "text/plain": [
              "<Figure size 640x480 with 2 Axes>"
            ],
            "image/png": "[encoded data removed]"
          },
          "metadata": {}
        }
      ]
    },
    {
      "cell_type": "code",
      "source": [
        "sms_df.columns\n",
        "#By splitting the date into its compoonents, we can analyze the temporal distributoion of the messages.\n",
        "earliest_date = sms_df['Date_and_Time'].min()\n",
        "latest_date = sms_df['Date_and_Time'].max()\n",
        "print(\"Earliest date of an SMS message sent:\", earliest_date)\n",
        "print(\"Latest date of an SMS message sent:\", latest_date)\n",
        "#this allows us to see that in our dataset the range of years for which we are viewing sent SMS Messages is from 2016 to 2018"
      ],
      "metadata": {
        "colab": {
          "base_uri": "https://localhost:8080/"
        },
        "id": "ISJiUBf43j_l",
        "outputId": "570125b8-6f43-4d4d-e04c-5612e2eee2e9"
      },
      "execution_count": 16,
      "outputs": [
        {
          "output_type": "stream",
          "name": "stdout",
          "text": [
            "Earliest date of an SMS message sent: 2016-02-15\n",
            "Latest date of an SMS message sent: 2018-09-19\n"
          ]
        }
      ]
    },
    {
      "cell_type": "code",
      "source": [
        "sms_df.corr()\n",
        "#Given the correlations calculated, we can see that there is no strong correlation whatsoever between the variables. This means that we can use all of them for our analysis.\n",
        "#We can also see that the correlation between the variables is not strong enough to cause multicollinearity issues.\n",
        "#we can interpet the correlation between Fraudolent and text_length as as weak correlation at most."
      ],
      "metadata": {
        "colab": {
          "base_uri": "https://localhost:8080/",
          "height": 356
        },
        "id": "uLxDDGPo3y1c",
        "outputId": "af3ac2eb-9745-4df3-87f0-3c20084e64a2"
      },
      "execution_count": 17,
      "outputs": [
        {
          "output_type": "stream",
          "name": "stderr",
          "text": [
            "<ipython-input-17-40f0d9d9f664>:1: FutureWarning: The default value of numeric_only in DataFrame.corr is deprecated. In a future version, it will default to False. Select only valid columns or specify the value of numeric_only to silence this warning.\n",
            "  sms_df.corr()\n"
          ]
        },
        {
          "output_type": "execute_result",
          "data": {
            "text/plain": [
              "            Fraudolent\n",
              "Fraudolent         1.0"
            ],
            "text/html": [
              "\n",
              "  <div id=\"df-c78c395a-024f-4762-85dc-eff5646b9411\" class=\"colab-df-container\">\n",
              "    <div>\n",
              "<style scoped>\n",
              "    .dataframe tbody tr th:only-of-type {\n",
              "        vertical-align: middle;\n",
              "    }\n",
              "\n",
              "    .dataframe tbody tr th {\n",
              "        vertical-align: top;\n",
              "    }\n",
              "\n",
              "    .dataframe thead th {\n",
              "        text-align: right;\n",
              "    }\n",
              "</style>\n",
              "<table border=\"1\" class=\"dataframe\">\n",
              "  <thead>\n",
              "    <tr style=\"text-align: right;\">\n",
              "      <th></th>\n",
              "      <th>Fraudolent</th>\n",
              "    </tr>\n",
              "  </thead>\n",
              "  <tbody>\n",
              "    <tr>\n",
              "      <th>Fraudolent</th>\n",
              "      <td>1.0</td>\n",
              "    </tr>\n",
              "  </tbody>\n",
              "</table>\n",
              "</div>\n",
              "    <div class=\"colab-df-buttons\">\n",
              "\n",
              "  <div class=\"colab-df-container\">\n",
              "    <button class=\"colab-df-convert\" onclick=\"convertToInteractive('df-c78c395a-024f-4762-85dc-eff5646b9411')\"\n",
              "            title=\"Convert this dataframe to an interactive table.\"\n",
              "            style=\"display:none;\">\n",
              "\n",
              "  <svg xmlns=\"http://www.w3.org/2000/svg\" height=\"24px\" viewBox=\"0 -960 960 960\">\n",
              "    <path d=\"M120-120v-720h720v720H120Zm60-500h600v-160H180v160Zm220 220h160v-160H400v160Zm0 220h160v-160H400v160ZM180-400h160v-160H180v160Zm440 0h160v-160H620v160ZM180-180h160v-160H180v160Zm440 0h160v-160H620v160Z\"/>\n",
              "  </svg>\n",
              "    </button>\n",
              "\n",
              "  <style>\n",
              "    .colab-df-container {\n",
              "      display:flex;\n",
              "      gap: 12px;\n",
              "    }\n",
              "\n",
              "    .colab-df-convert {\n",
              "      background-color: #E8F0FE;\n",
              "      border: none;\n",
              "      border-radius: 50%;\n",
              "      cursor: pointer;\n",
              "      display: none;\n",
              "      fill: #1967D2;\n",
              "      height: 32px;\n",
              "      padding: 0 0 0 0;\n",
              "      width: 32px;\n",
              "    }\n",
              "\n",
              "    .colab-df-convert:hover {\n",
              "      background-color: #E2EBFA;\n",
              "      box-shadow: 0px 1px 2px rgba(60, 64, 67, 0.3), 0px 1px 3px 1px rgba(60, 64, 67, 0.15);\n",
              "      fill: #174EA6;\n",
              "    }\n",
              "\n",
              "    .colab-df-buttons div {\n",
              "      margin-bottom: 4px;\n",
              "    }\n",
              "\n",
              "    [theme=dark] .colab-df-convert {\n",
              "      background-color: #3B4455;\n",
              "      fill: #D2E3FC;\n",
              "    }\n",
              "\n",
              "    [theme=dark] .colab-df-convert:hover {\n",
              "      background-color: #434B5C;\n",
              "      box-shadow: 0px 1px 3px 1px rgba(0, 0, 0, 0.15);\n",
              "      filter: drop-shadow(0px 1px 2px rgba(0, 0, 0, 0.3));\n",
              "      fill: #FFFFFF;\n",
              "    }\n",
              "  </style>\n",
              "\n",
              "    <script>\n",
              "      const buttonEl =\n",
              "        document.querySelector('#df-c78c395a-024f-4762-85dc-eff5646b9411 button.colab-df-convert');\n",
              "      buttonEl.style.display =\n",
              "        google.colab.kernel.accessAllowed ? 'block' : 'none';\n",
              "\n",
              "      async function convertToInteractive(key) {\n",
              "        const element = document.querySelector('#df-c78c395a-024f-4762-85dc-eff5646b9411');\n",
              "        const dataTable =\n",
              "          await google.colab.kernel.invokeFunction('convertToInteractive',\n",
              "                                                    [key], {});\n",
              "        if (!dataTable) return;\n",
              "\n",
              "        const docLinkHtml = 'Like what you see? Visit the ' +\n",
              "          '<a target=\"_blank\" href=https://colab.research.google.com/notebooks/data_table.ipynb>data table notebook</a>'\n",
              "          + ' to learn more about interactive tables.';\n",
              "        element.innerHTML = '';\n",
              "        dataTable['output_type'] = 'display_data';\n",
              "        await google.colab.output.renderOutput(dataTable, element);\n",
              "        const docLink = document.createElement('div');\n",
              "        docLink.innerHTML = docLinkHtml;\n",
              "        element.appendChild(docLink);\n",
              "      }\n",
              "    </script>\n",
              "  </div>\n",
              "\n",
              "    </div>\n",
              "  </div>\n"
            ]
          },
          "metadata": {},
          "execution_count": 17
        },
        {
          "output_type": "display_data",
          "data": {
            "text/plain": [
              "<google.colab._quickchart_helpers.SectionTitle at 0x7f049cb03490>"
            ],
            "text/html": [
              "<h4 class=\"colab-quickchart-section-title\">Time series</h4>\n",
              "<style>\n",
              "  .colab-quickchart-section-title {\n",
              "      clear: both;\n",
              "  }\n",
              "</style>"
            ]
          },
          "metadata": {}
        },
        {
          "output_type": "display_data",
          "data": {
            "text/plain": [
              "from matplotlib import pyplot as plt\n",
              "import seaborn as sns\n",
              "def _plot_series(series, series_name, series_index=0):\n",
              "  from matplotlib import pyplot as plt\n",
              "  import seaborn as sns\n",
              "  palette = list(sns.palettes.mpl_palette('Dark2'))\n",
              "  counted = (series['Fraudolent']\n",
              "                .value_counts()\n",
              "              .reset_index(name='counts')\n",
              "              .rename({'index': 'Fraudolent'}, axis=1)\n",
              "              .sort_values('Fraudolent', ascending=True))\n",
              "  xs = counted['Fraudolent']\n",
              "  ys = counted['counts']\n",
              "  plt.plot(xs, ys, label=series_name, color=palette[series_index % len(palette)])\n",
              "\n",
              "fig, ax = plt.subplots(figsize=(10, 5.2), layout='constrained')\n",
              "df_sorted = _df_0.sort_values('Fraudolent', ascending=True)\n",
              "_plot_series(df_sorted, '')\n",
              "sns.despine(fig=fig, ax=ax)\n",
              "plt.xlabel('Fraudolent')\n",
              "_ = plt.ylabel('count()')"
            ],
            "text/html": [
              "      <div class=\"colab-quickchart-chart-with-code\" id=\"chart-eaadb3ab-773f-47b2-80ea-107ed4a41329\">\n",
              "        <img style=\"width: 180px;\" src=\"data:image/png;base64,iVBORw0KGgoAAAANSUhEUgAAA/MAAAITCAYAAABLz0yVAAAAOXRFWHRTb2Z0d2FyZQBNYXRwbG90\n",
              "bGliIHZlcnNpb24zLjcuMSwgaHR0cHM6Ly9tYXRwbG90bGliLm9yZy/bCgiHAAAACXBIWXMAAA9h\n",
              "AAAPYQGoP6dpAAAlaElEQVR4nO3de5CV9X3H8c8CYb2Fy4woJuuyAgJyERCh3ioxtSO2QgS8MKka\n",
              "jCDO1GplLGojbWyNmk6LMbQpkNJYtdVapCmTOtMZtXW4mKwImAx4w4ALKqCOsmrlfvqHk223grJx\n",
              "l+UHr9fMM3HP89uz34f5DZn3nnMeqiqVSiUAAABAMTq09wAAAABAy4h5AAAAKIyYBwAAgMKIeQAA\n",
              "ACiMmAcAAIDCiHkAAAAojJgHAACAwoh5AAAAKMwhH/P33Xdfe48AAAAAreqQj/nXXnutvUcAAACA\n",
              "VnXIxzwAAAAcasQ8AAAAFEbMAwAAQGHEPAAAABRGzAMAAEBhxDwAAAAURswDAABAYcQ8AAAAFEbM\n",
              "AwAAQGHEPAAAABRGzAMAAEBhxDwAAAAURswDAABAYcQ8AAAAFEbMAwAAQGHEPAAAABRGzAMAAEBh\n",
              "xDwAAAAURswDAABAYcQ8AAAAFEbMAwAAQGHEPAAAABRGzAMAAEBhxDwAAAAURswDAABAYcQ8AAAA\n",
              "FEbMAwAAQGHEPAAAABRGzAMAAEBhxDwAAAAURswDAABAYcQ8AAAAFEbMAwAAQGHEPAAAABRGzAMA\n",
              "AEBhxDwAAAAURswDAABAYcQ8AAAAFEbMAwAAQGHEPAAAABRGzAMAAEBhxDwAAAAURswDAABAYcQ8\n",
              "AAAAFEbMAwAAQGHEPAAAABRGzAMAAEBhxDwAAAAURswDAABAYcQ8AAAAFEbMAwAAQGHEPAAAABRG\n",
              "zAMAAEBhxDwAAAAURswDAABAYcQ8AAAAFEbMAwAAQGHEPAAAABRGzAMAAEBhxDwAAAAURswDAABA\n",
              "Ydo05m+44YbU1dWlqqoqq1at2ue6+fPn5+STT06fPn0yderU7Ny5s9n5SqWSr371q+nWrVtbjgsA\n",
              "AABFaNOYv+SSS7JkyZL06tVrn2vWrVuXmTNnZvHixVm7dm02b96cefPmNVtz7733pk+fPm05KgAA\n",
              "ABSjTWP+3HPPTU1NzaeuWbBgQcaNG5eePXumqqoq1113XR5++OGm86tXr86Pf/zj3HrrrZ/587Zv\n",
              "357GxsZmx+7duz/3dQAAAMDBpN0/M9/Q0NDslfu6uro0NDQkSXbu3JmpU6dm7ty56dix42c+1913\n",
              "352uXbs2O+rr69tsdgAAAGgP7R7zn+aOO+7IhAkTcsopp+zX+ttuuy1bt25tdowaNaqNpwQAAIAD\n",
              "q1N7D1BbW5tXX3216ev169entrY2SfL000+noaEhf/3Xf51du3alsbExdXV1efbZZ9OjR49PPFd1\n",
              "dXWqq6ubPbY/r+gDAABASdr9lfmJEydm0aJF2bRpUyqVSubMmZNJkyYlSRYvXpzXXnst69evz5Il\n",
              "S9KlS5esX79+ryEPAAAAh4s2jflp06alpqYmGzduzAUXXJC+ffsmSaZMmZJFixYlSXr37p077rgj\n",
              "Z599dvr27ZsePXpk2rRpbTkWAAAAFK2qUqlU2nuItjR9+vTMmjWrvccAAACAVtPub7MHAAAAWkbM\n",
              "AwAAQGHEPAAAABRGzAMAAEBhxDwAAAAURswDAABAYcQ8AAAAFEbMAwAAQGHEPAAAABRGzAMAAEBh\n",
              "xDwAAAAURswDAABAYcQ8AAAAFEbMAwAAQGHEPAAAABRGzAMAAEBhxDwAAAAURswDAABAYcQ8AAAA\n",
              "FEbMAwAAQGHEPAAAABRGzAMAAEBhxDwAAAAURswDAABAYcQ8AAAAFEbMAwAAQGHEPAAAABRGzAMA\n",
              "AEBhxDwAAAAURswDAABAYcQ8AAAAFEbMAwAAQGHEPAAAABRGzAMAAEBhxDwAAAAURswDAABAYcQ8\n",
              "AAAAFEbMAwAAQGHEPAAAABRGzAMAAEBhxDwAAAAURswDAABAYcQ8AAAAFEbMAwAAQGHEPAAAABRG\n",
              "zAMAAEBhxDwAAAAURswDAABAYcQ8AAAAFEbMAwAAQGHEPAAAABRGzAMAAEBhxDwAAAAURswDAABA\n",
              "YcQ8AAAAFEbMAwAAQGHEPAAAABRGzAMAAEBhxDwAAAAURswDAABAYcQ8AAAAFEbMAwAAQGHEPAAA\n",
              "ABRGzAMAAEBhxDwAAAAURswDAABAYcQ8AAAAFEbMAwAAQGHEPAAAABRGzAMAAEBhxDwAAAAURswD\n",
              "AABAYcQ8AAAAFEbMAwAAQGHEPAAAABRGzAMAAEBhxDwAAAAURswDAABAYdo05m+44YbU1dWlqqoq\n",
              "q1at2ue6+fPn5+STT06fPn0yderU7Ny5M0ny1FNPZdSoURk4cGAGDRqUGTNmZM+ePW05MgAAABz0\n",
              "2jTmL7nkkixZsiS9evXa55p169Zl5syZWbx4cdauXZvNmzdn3rx5SZLu3bvnkUceyZo1a/Lcc89l\n",
              "2bJleeCBB9pyZAAAADjotWnMn3vuuampqfnUNQsWLMi4cePSs2fPVFVV5brrrsvDDz+cJBk+fHh6\n",
              "9+6dJDniiCMybNiwrF+/fp/PtX379jQ2NjY7du/e3WrXAwAAAAeDdv/MfENDQ7NX7uvq6tLQ0PCJ\n",
              "dZs2bcqCBQty0UUX7fO57r777nTt2rXZUV9f3yZzAwAAQHtp95jfH42NjRk7dmxmzJiR008/fZ/r\n",
              "brvttmzdurXZMWrUqAM4KQAAALS9Tu09QG1tbV599dWmr9evX5/a2tqmr99///2MGTMmX/va1zJ9\n",
              "+vRPfa7q6upUV1c3e6xjx46tOzAAAAC0s3Z/ZX7ixIlZtGhRNm3alEqlkjlz5mTSpElJkg8++CBj\n",
              "xozJmDFjcvvtt7fzpAAAAHBwaNOYnzZtWmpqarJx48ZccMEF6du3b5JkypQpWbRoUZKkd+/eueOO\n",
              "O3L22Wenb9++6dGjR6ZNm5Ykue+++1JfX5+FCxdm2LBhGTZsWL7zne+05cgAAABw0KuqVCqV9h6i\n",
              "LU2fPj2zZs1q7zEAAACg1bT72+wBAACAlhHzAAAAUBgxDwAAAIUR8wAAAFAYMQ8AAACFEfMAAABQ\n",
              "GDEPAAAAhRHzAAAAUBgxDwAAAIUR8wAAAFAYMQ8AAACFEfMAAABQGDEPAAAAhRHzAAAAUBgxDwAA\n",
              "AIUR8wAAAFAYMQ8AAACFEfMAAABQGDEPAAAAhRHzAAAAUBgxDwAAAIUR8wAAAFAYMQ8AAACFEfMA\n",
              "AABQGDEPAAAAhRHzAAAAUBgxDwAAAIUR8wAAAFAYMQ8AAACFEfMAAABQGDEPAAAAhRHzAAAAUBgx\n",
              "DwAAAIUR8wAAAFAYMQ8AAACFEfMAAABQGDEPAAAAhRHzAAAAUBgxDwAAAIUR8wAAAFAYMQ8AAACF\n",
              "EfMAAABQGDEPAAAAhRHzAAAAUBgxDwAAAIUR8wAAAFAYMQ8AAACFEfMAAABQGDEPAAAAhRHzAAAA\n",
              "UBgxDwAAAIUR8wAAAFAYMQ8AAACFEfMAAABQGDEPAAAAhRHzAAAAUBgxDwAAAIUR8wAAAFAYMQ8A\n",
              "AACFEfMAAABQGDEPAAAAhRHzAAAAUBgxDwAAAIUR8wAAAFCYTr/ON61ZsyYbN27MkUcemSFDhqRb\n",
              "t26tPBYAAACwL/sd8++//37+8i//Mj/84Q9z1FFH5fjjj8+2bdvy6quvZtSoUbnlllvyW7/1W205\n",
              "KwAAAJAWxPx5552Xq666KitXrszxxx/f9PiePXuyePHizJkzJ2vXrs20adPaZFAAAADgY/sd80uX\n",
              "Lk11dfUnHu/QoUNGjx6d0aNHZ/v27a06HAAAAPBJ+30DvL2F/K+zBgAAAPh89jvmL7rooixbtmyv\n",
              "595777381V/9VebOndtqgwEAAAB7t99vs7/rrrty2223Zc2aNRk5cmTTDfBefPHFvP766/n93//9\n",
              "fPOb32zLWQEAAIC0IOZPPfXU/Pu//3s2bNiQp59+Ohs3bsxRRx2V3/u938s555yTTp1+rX/lDgAA\n",
              "AGihFhf4u+++myuuuKLZYz//+c9z6qmnttpQAAAAwL7t92fmf2Xy5Mn79RgAAADQNvb7lfktW7Zk\n",
              "06ZN+eijj/KLX/wilUolSbJ169Z8+OGHbTYgAAAA0Nx+x/zDDz+c733ve3njjTcybty4pse7du2a\n",
              "GTNmtMlwAAAAwCftd8zfeOONufHGG/Pnf/7nmTlzZlvOBAAAAHyKFt8Ab+bMmdmzZ082bdqUXbt2\n",
              "NT1eW1vbqoMBAAAAe9fiG+D9wz/8Q7p165YhQ4ZkxIgRGTFiRE4//fS9rr3hhhtSV1eXqqqqrFq1\n",
              "ap/POX/+/Jx88snp06dPpk6dmp07d+7XOQAAADgctTjm/+zP/izPPvts3nnnnbz11lt56623smXL\n",
              "lr2uveSSS7JkyZL06tVrn8+3bt26zJw5M4sXL87atWuzefPmzJs37zPPAQAAwOGqxTF/7LHHpn//\n",
              "/vu19txzz01NTc2nrlmwYEHGjRuXnj17pqqqKtddd10efvjhzzwHAAAAh6sWf2b+4osvzve+9718\n",
              "/etfzxFHHNH0eJcuXX6tARoaGpq9cl9XV5eGhobPPLc327dvz/bt25s9tnv37l9rLgAAADhYtfiV\n",
              "+W9961uZPn16evbsme7du6dbt27p3r17W8zWYnfffXe6du3a7Kivr2/vsQAAAKBVtTjm9+zZ03Ts\n",
              "3r276X9/XbW1tXnttdeavl6/fn3TnfE/7dze3Hbbbdm6dWuzY9SoUb/2bAAAAHAwanHMt7aJEydm\n",
              "0aJF2bRpUyqVSubMmZNJkyZ95rm9qa6uTpcuXZodHTt2PFCXAgAAAAdEi2O+Q4cO6dix4yeOvZk2\n",
              "bVpqamqycePGXHDBBenbt2+SZMqUKVm0aFGSpHfv3rnjjjty9tlnp2/fvunRo0emTZv2mecAAADg\n",
              "cFVVqVQqLfmGDz/8sOm/P/roozzwwAPZvXt3/uiP/qjVh2sN06dPz6xZs9p7DAAAAGg1LX5l/uij\n",
              "j246jj322EyfPj0LFixoi9kAAACAvfjcn5l/8cUX8/bbb7fGLAAAAMB+aPG/M9+9e/dUVVUlSXbt\n",
              "2pUkmT17dutOBQAAAOxTi2N+1apV//vNnTqlZ8+e7hgPAAAAB1CLY75Xr1757//+76ao7969e446\n",
              "6qjWngsAAADYhxbH/LJlyzJx4sT07NkzSbJ58+Y89thjOfPMM1t9OAAAAOCTWhzzv7p7/dlnn53k\n",
              "47i/6aab8tOf/rTVhwMAAAA+qcV3s//oo4+aQj5JzjrrrGzbtq1VhwIAAAD2rcUxf8wxx+SJJ55o\n",
              "+vrJJ5/M0Ucf3apDAQAAAPvW4rfZf//738+ECROa7mC/Z8+eLFy4sNUHAwAAAPauxTH/xhtvZPny\n",
              "5dm8eXOS5Pjjj099fX2rDwYAAADsXYvfZj9z5sz06NEjgwcPzuDBg3Psscdm5syZbTEbAAAAsBct\n",
              "jvn/r6qqKrt3726NWQAAAID90OKY/+IXv5hly5Y1fb106dJ88YtfbNWhAAAAgH1r8Wfm/+Iv/iLj\n",
              "x4/PgAEDkiSvvPJK/vVf/7XVBwMAAAD2rsUxf+aZZ+aFF17IM888k+Tjf2e+W7durT0XAAAAsA8t\n",
              "jvkk6d69e37nd36ntWcBAAAA9sPnvgEeAAAAcGCJeQAAACiMmAcAAIDCiHkAAAAojJgHAACAwoh5\n",
              "AAAAKIyYBwAAgMKIeQAAACiMmAcAAIDCiHkAAAAojJgHAACAwoh5AAAAKIyYBwAAgMKIeQAAACiM\n",
              "mAcAAIDCiHkAAAAojJgHAACAwoh5AAAAKIyYBwAAgMKIeQAAACiMmAcAAIDCiHkAAAAojJgHAACA\n",
              "woh5AAAAKIyYBwAAgMKIeQAAACiMmAcAAIDCiHkAAAAojJgHAACAwoh5AAAAKIyYBwAAgMKIeQAA\n",
              "ACiMmAcAAIDCiHkAAAAojJgHAACAwoh5AAAAKIyYBwAAgMKIeQAAACiMmAcAAIDCiHkAAAAojJgH\n",
              "AACAwoh5AAAAKIyYBwAAgMKIeQAAACiMmAcAAIDCiHkAAAAojJgHAACAwoh5AAAAKIyYBwAAgMKI\n",
              "eQAAACiMmAcAAIDCiHkAAAAojJgHAACAwoh5AAAAKIyYBwAAgMKIeQAAACiMmAcAAIDCiHkAAAAo\n",
              "jJgHAACAwoh5AAAAKIyYBwAAgMKIeQAAAChMm8b8K6+8krPOOiv9+vXLyJEjs3r16k+s2bNnT26+\n",
              "+eYMHjw4AwYMyDXXXJMdO3Y0nf/ud7+bgQMHZtiwYTnjjDNSX1/fliMDAADAQa9NY37atGm59tpr\n",
              "8/LLL+eWW27J5MmTP7Fm/vz5WbFiRVasWJEXXnghHTp0yH333ZckWbVqVX7wgx+kvr4+q1atyvXX\n",
              "X5/rr7++LUcGAACAg16bxfyWLVuyfPnyXHHFFUmSiRMnZsOGDVm7dm2zdc8//3zOP//8dO7cOVVV\n",
              "Vbnwwgvz4IMPJkmqqqqyc+fOfPjhh0mS9957LzU1Nfv8mdu3b09jY2OzY/fu3W10hQAAANA+2izm\n",
              "N2zYkBNOOCGdOnVK8nGY19bWpqGhodm6ESNGZNGiRWlsbMzOnTvz6KOPZv369UmSoUOH5qabbspJ\n",
              "J52Umpqa3HvvvZk9e/Y+f+bdd9+drl27Nju8LR8AAIBDTbvfAG/y5MkZM2ZMRo8endGjR6dfv35N\n",
              "vwBYt25dFi5cmLVr12bjxo256aabcvnll+/zuW677bZs3bq12TFq1KgDdSkAAABwQLRZzJ944ol5\n",
              "8803s2vXriRJpVJJQ0NDamtrm62rqqrKt7/97axcuTLLli3LwIEDM2jQoCTJY489liFDhuRLX/pS\n",
              "kuTqq6/O0qVLm90g7/+qrq5Oly5dmh0dO3Zsq0sEAACAdtFmMX/cccfltNNOy0MPPZTk4zCvqalJ\n",
              "3759m63btm1b3n333STJ22+/nXvuuSczZsxIkvTu3TtLly7NBx98kCT5yU9+kn79+qVz585tNTYA\n",
              "AAAc9Dq15ZPPnTs3kydPzl133ZUuXbrkRz/6UZJkypQpGTduXMaNG5etW7fmK1/5Sjp06JA9e/bk\n",
              "xhtvzNixY5Mk48ePz7PPPpvTTz891dXVOfroo/NP//RPbTkyAAAAHPSqKpVKpb2HaEvTp0/PrFmz\n",
              "2nsMAAAAaDXtfgM8AAAAoGXEPAAAABRGzAMAAEBhxDwAAAAURswDAABAYcQ8AAAAFEbMAwAAQGHE\n",
              "PAAAABRGzAMAAEBhxDwAAAAURswDAABAYcQ8AAAAFEbMAwAAQGHEPAAAABRGzAMAAEBhxDwAAAAU\n",
              "RswDAABAYcQ8AAAAFEbMAwAAQGHEPAAAABRGzAMAAEBhxDwAAAAURswDAABAYcQ8AAAAFEbMAwAA\n",
              "QGHEPAAAABRGzAMAAEBhxDwAAAAURswDAABAYcQ8AAAAFEbMAwAAQGHEPAAAABRGzAMAAEBhxDwA\n",
              "AAAURswDAABAYcQ8AAAAFEbMAwAAQGHEPAAAABRGzAMAAEBhxDwAAAAURswDAABAYcQ8AAAAFEbM\n",
              "AwAAQGHEPAAAABRGzAMAAEBhxDwAAAAURswDAABAYcQ8AAAAFEbMAwAAQGHEPAAAABRGzAMAAEBh\n",
              "xDwAAAAURswDAABAYcQ8AAAAFEbMAwAAQGHEPAAAABRGzAMAAEBhxDwAAAAURswDAABAYcQ8AAAA\n",
              "FEbMAwAAQGHEPAAAABRGzAMAAEBhxDwAAAAURswDAABAYcQ8AAAAFEbMAwAAQGHEPAAAABRGzAMA\n",
              "AEBhxDwAAAAURswDAABAYcQ8AAAAFEbMAwAAQGHEPAAAABRGzAMAAEBhxDwAAAAURswDAABAYcQ8\n",
              "AAAAFKZNY/6VV17JWWedlX79+mXkyJFZvXr1J9bs2bMnN998cwYPHpwBAwbkmmuuyY4dO5rONzQ0\n",
              "ZOzYsenfv38GDhyY2bNnt+XIAAAAcNBr05ifNm1arr322rz88su55ZZbMnny5E+smT9/flasWJEV\n",
              "K1bkhRdeSIcOHXLfffclSSqVSsaPH5+rrroqL730UtasWZPLLrusLUcGAACAg16bxfyWLVuyfPny\n",
              "XHHFFUmSiRMnZsOGDVm7dm2zdc8//3zOP//8dO7cOVVVVbnwwgvz4IMPJkmefPLJVFdX59JLL21a\n",
              "f/zxx+/zZ27fvj2NjY3Njt27d7fB1QEAAED7abOY37BhQ0444YR06tQpSVJVVZXa2to0NDQ0Wzdi\n",
              "xIgsWrQojY2N2blzZx599NGsX78+SbJmzZr06NEjkyZNyvDhwzN+/Pj88pe/3OfPvPvuu9O1a9dm\n",
              "R319fVtdIgAAALSLdr8B3uTJkzNmzJiMHj06o0ePTr9+/Zp+AbBr16489dRTmTlzZlauXJkLLrjg\n",
              "U99mf9ttt2Xr1q3NjlGjRh2oSwEAAIADos1i/sQTT8ybb76ZXbt2Jfn48+8NDQ2pra1ttq6qqirf\n",
              "/va3s3LlyixbtiwDBw7MoEGDkiS1tbUZPnx409dXXnllVqxYkZ07d+71Z1ZXV6dLly7Njo4dO7bV\n",
              "JQIAAEC7aLOYP+6443LaaafloYceSpI89thjqampSd++fZut27ZtW959990kydtvv5177rknM2bM\n",
              "SJJceOGF2bhxY15//fUkyeOPP55TTjklX/jCF9pqbAAAADjodWrLJ587d24mT56cu+66K126dMmP\n",
              "fvSjJMmUKVMybty4jBs3Llu3bs1XvvKVdOjQIXv27MmNN96YsWPHJkmOPvrozJkzJ7/7u7+bSqWS\n",
              "rl275pFHHmnLkQEAAOCgV1WpVCrtPURbmj59embNmtXeYwAAAECrafcb4AEAAAAtI+YBAACgMGIe\n",
              "AAAACiPmAQAAoDBiHgAAAAoj5gEAAKAwYh4AAAAKI+YBAACgMGIeAAAACiPmAQAAoDBiHgAAAAoj\n",
              "5gEAAKAwYh4AAAAKI+YBAACgMGIeAAAACiPmAQAAoDBiHgAAAAoj5gEAAKAwYh4AAAAKI+YBAACg\n",
              "MGIeAAAACiPmAQAAoDBiHgAAAAoj5gEAAKAwYh4AAAAKI+YBAACgMGIeAAAACiPmAQAAoDBiHgAA\n",
              "AAoj5gEAAKAwYh4AAAAKI+YBAACgMGIeAAAACiPmAQAAoDBiHgAAAAoj5gEAAKAwYh4AAAAKI+YB\n",
              "AACgMGIeAAAACiPmAQAAoDBiHgAAAAoj5gEAAKAwYh4AAAAKI+YBAACgMGIeAAAACiPmAQAAoDBi\n",
              "HgAAAAoj5gEAAKAwYh4AAAAKI+YBAACgMGIeAAAACiPmAQAAoDBiHgAAAAoj5gEAAKAwYh4AAAAK\n",
              "I+YBAACgMGIeAAAACiPmAQAAoDBiHgAAAAoj5gEAAKAwVZVKpdLeQ7SlCRMmpK6urr3HoJ3s3r07\n",
              "9fX1GTVqVDp27Nje48Cnsl8pif1KSexXSmK/kiS9evXKjTfe+KlrDvmY5/DW2NiYrl27ZuvWrenS\n",
              "pUt7jwOfyn6lJPYrJbFfKYn9yv7yNnsAAAAojJgHAACAwoh5AAAAKIyY55BWXV2dP/3TP011dXV7\n",
              "jwKfyX6lJPYrJbFfKYn9yv5yAzwAAAAojFfmAQAAoDBiHgAAAAoj5gEAAKAwYp4ivfLKKznrrLPS\n",
              "r1+/jBw5MqtXr/7Emj179uTmm2/O4MGDM2DAgFxzzTXZsWNH0/mGhoaMHTs2/fv3z8CBAzN79uwD\n",
              "eQkcRlpjv373u9/NwIEDM2zYsJxxxhmpr68/kJfAYeSGG25IXV1dqqqqsmrVqn2umz9/fk4++eT0\n",
              "6dMnU6dOzc6dO/frHLSmz7tfn3rqqYwaNSoDBw7MoEGDMmPGjOzZs+cATc/hpjX+fk2SSqWSr371\n",
              "q+nWrVvbDsxBT8xTpGnTpuXaa6/Nyy+/nFtuuSWTJ0/+xJr58+dnxYoVWbFiRV544YV06NAh9913\n",
              "X5KP/xIcP358rrrqqrz00ktZs2ZNLrvssgN8FRwuPu9+XbVqVX7wgx+kvr4+q1atyvXXX5/rr7/+\n",
              "AF8Fh4tLLrkkS5YsSa9evfa5Zt26dZk5c2YWL16ctWvXZvPmzZk3b95nnoPW9nn3a/fu3fPII49k\n",
              "zZo1ee6557Js2bI88MADB2p8DjOfd7/+yr333ps+ffq09bgUQMxTnC1btmT58uW54oorkiQTJ07M\n",
              "hg0bsnbt2mbrnn/++Zx//vnp3LlzqqqqcuGFF+bBBx9Mkjz55JOprq7OpZde2rT++OOPP3AXwWGj\n",
              "NfZrVVVVdu7cmQ8//DBJ8t5776WmpubAXgiHjXPPPfcz99eCBQsybty49OzZM1VVVbnuuuvy8MMP\n",
              "f+Y5aG2fd78OHz48vXv3TpIcccQRGTZsWNavX9/WY3OY+rz7NUlWr16dH//4x7n11lvbelwKIOYp\n",
              "zoYNG3LCCSekU6dOST4Ondra2jQ0NDRbN2LEiCxatCiNjY3ZuXNnHn300ab/g16zZk169OiRSZMm\n",
              "Zfjw4Rk/fnx++ctfHuhL4TDQGvt16NChuemmm3LSSSelpqYm9957r4+F0K4aGhqavbJUV1fXtKc/\n",
              "7Ry0h/3dk5s2bcqCBQty0UUXHcjxoJlP2687d+7M1KlTM3fu3HTs2LG9RuQgIuY5ZE2ePDljxozJ\n",
              "6NGjM3r06PTr168pqHbt2pWnnnoqM2fOzMqVK3PBBRd4mz3t6tP267p167Jw4cKsXbs2GzduzE03\n",
              "3ZTLL7+8nScGOHQ0NjZm7NixmTFjRk4//fT2Hgf26o477siECRNyyimntPcoHCTEPMU58cQT8+ab\n",
              "b2bXrl1JPv78e0NDQ2pra5utq6qqyre//e2sXLkyy5Yta7q5TZLU1tZm+PDhTV9feeWVWbFihZs0\n",
              "0epaY78+9thjGTJkSL70pS8lSa6++uosXbq02Q3y4ECqra3Na6+91vT1+vXrm/b0p52D9vBZe/L9\n",
              "99/PmDFj8rWvfS3Tp09vjxGhyaft16effjqzZ89OXV1dzjnnnDQ2Nqauri5vvfVWe41LOxPzFOe4\n",
              "447LaaedloceeijJx6FTU1OTvn37Nlu3bdu2vPvuu0mSt99+O/fcc09mzJiRJLnwwguzcePGvP76\n",
              "60mSxx9/PKecckq+8IUvHMAr4XDQGvu1d+/eWbp0aT744IMkyU9+8pP069cvnTt3PoBXAv9r4sSJ\n",
              "WbRoUTZt2pRKpZI5c+Zk0qRJn3kO2sOn7ckPPvggY8aMyZgxY3L77be386Tw6ft18eLFee2117J+\n",
              "/fosWbIkXbp0yfr169OjR492npp2U4ECvfjii5UzzjijcvLJJ1dGjBhR+fnPf16pVCqVa665pvJv\n",
              "//ZvlUqlUtm0aVNlwIABlYEDB1YGDBhQ+du//dtmz/Ef//EflaFDh1ZOPfXUym/+5m82PQe0ts+7\n",
              "X/fs2VO59dZbK/3796+ceuqplTPPPLOyfPnydrkWDn3XXntt5ctf/nKlY8eOleOOO67Sp0+fSqXS\n",
              "fL9WKpXKvHnzKr1796707t278s1vfrOyY8eO/ToHrenz7tc777yz0qlTp8rQoUObjjvvvLNdroVD\n",
              "X2v8/for69atq3Tt2vVAjc5BqqpSqVTa+xcKAAAAwP7zNnsAAAAojJgHAACAwoh5AAAAKIyYB4BD\n",
              "QF1dXfr3759hw4Zl2LBhmTJlSpv9rEsuuST333//fs20atWqz/Wz7r///rz44ouf6zkA4FDUqb0H\n",
              "AABaxz//8z9n2LBhez23e/fudOzY8cAO1Aruv//+dOvWLQMGDGjvUQDgoOKVeQA4BN1///0577zz\n",
              "MnHixAwZMiT19fWZNWtWRo4cmWHDhmXkyJF55plnmtb//1fRTz/99PzXf/1XkuTFF1/MWWedlUGD\n",
              "BuXiiy9OY2Nj07otW7ZkwoQJGTJkSAYPHpy5c+fudZ5Nmzblsssuy6hRozJkyJBm/6Z3XV1d/uRP\n",
              "/iRnnnlmTjrppNx5551Jkr/7u7/L8uXLc9NNN2XYsGF5/PHHW/FPCADK5pV5ADhEXH755TnyyCOT\n",
              "JN/4xjfys5/9LCtXrkz//v2TJH379s306dOTJD/96U8zefLk/XoL+5VXXpnrrrsu11xzTX7xi1/k\n",
              "9NNPz9e//vUkyR/8wR+kf//+WbhwYbZs2ZIRI0Zk6NChOeOMM5o9xze+8Y388R//cUaPHp1du3bl\n",
              "oosuyr/8y7/k0ksvTZK89957eeaZZ/L222+nT58+ufrqqzNlypQ89NBD+cM//MNcfPHFrfXHBACH\n",
              "BDEPAIeI//s2+/vvvz9nnXVWU8gnycqVK/Od73wn77zzTjp16pSXXnopH330UdMvAPamsbExq1at\n",
              "yuTJk5MkQ4YMyTnnnNN0/oknnshzzz2XJDnuuOMyYcKEPPHEE81i/sMPP8yTTz6ZzZs3Nz32wQcf\n",
              "5KWXXmr6+le/HDj22GPTu3fvrFu3Ll/+8pd//T8MADjEiXkAOEQdc8wxTf+9Y8eOTJgwIf/5n/+Z\n",
              "kSNHprGxMV27ds327dtz5JFHplOnTtm9e3fT+m3btu3zeauqqlp0rlKpJPn43QBHHHHEXr/v/z7e\n",
              "sWPH7Nq1a98XBgD4zDwAHA62bduWHTt2pLa2Nkkye/bsZuf79u2bn/3sZ0mS+vr6plfNu3TpkuHD\n",
              "h+eBBx5IkqxevTpLlixp+r7zzz8/P/zhD5Mkb731VhYuXJjf/u3fbvbcxxxzTM4777zcc889TY+9\n",
              "8cYb2bhx42fO3aVLl2zdurWllwsAhzwxDwCHgS5duuTOO+/MqFGjMmLEiHTu3LnZ+TvvvDN/8zd/\n",
              "k6FDh+bv//7vM2jQoKZzDzzwQObNm5fBgwfn9ttvz7nnntt07vvf/35eeOGFDBkyJOedd16+9a1v\n",
              "5Td+4zc+8fP/8R//MWvXrs3gwYMzZMiQTJgwIe+8885nzn3ttdfmrrvucgM8APh/qiq/eu8bAAAA\n",
              "UASvzAMAAEBhxDwAAAAURswDAABAYcQ8AAAAFEbMAwAAQGHEPAAAABRGzAMAAEBhxDwAAAAURswD\n",
              "AABAYcQ8AAAAFOZ/AOXYNhIsiRkhAAAAAElFTkSuQmCC\n",
              "\">\n",
              "      </div>\n",
              "      <script type=\"text/javascript\">\n",
              "        (() => {\n",
              "          const chartElement = document.getElementById(\"chart-eaadb3ab-773f-47b2-80ea-107ed4a41329\");\n",
              "          async function getCodeForChartHandler(event) {\n",
              "            const chartCodeResponse =  await google.colab.kernel.invokeFunction(\n",
              "                'getCodeForChart', [\"chart-eaadb3ab-773f-47b2-80ea-107ed4a41329\"], {});\n",
              "            const responseJson = chartCodeResponse.data['application/json'];\n",
              "            await google.colab.notebook.addCell(responseJson.code, 'code');\n",
              "          }\n",
              "          chartElement.onclick = getCodeForChartHandler;\n",
              "        })();\n",
              "      </script>\n",
              "      <style>\n",
              "        .colab-quickchart-chart-with-code  {\n",
              "            display: block;\n",
              "            float: left;\n",
              "            border: 1px solid transparent;\n",
              "        }\n",
              "\n",
              "        .colab-quickchart-chart-with-code:hover {\n",
              "            cursor: pointer;\n",
              "            border: 1px solid #aaa;\n",
              "        }\n",
              "      </style>"
            ]
          },
          "metadata": {}
        }
      ]
    },
    {
      "cell_type": "markdown",
      "source": [
        "* By analyzing the correlation matrix, we can determine the following:\n",
        "    \n",
        "    • The correlation coefficient ranges from -1 to 1. A value of 1 indicates a perfect positive correlation, -1 indicates a perfect negative correlation, and 0 indicates no correlation.\n",
        "    \n",
        "    • Positive correlation coefficients indicate that the variables tend to increase or decrease together.\n",
        "    \n",
        "    • Negative correlation coefficients indicate that as one variable increases, the other tends to decrease.\n",
        "   \n",
        "    • The closer the correlation coefficient is to 1 or -1, the stronger the correlation.\n",
        "    \n",
        "    • A correlation coefficient close to O indicates no or weak correlation.\n",
        "\n",
        "* Based on the correlation matrix, we can conclude that there is no strong correlation between the variables in the dataset. This means that all variables can be used for analysis without causing multicollinearity issues."
      ],
      "metadata": {
        "id": "pPT7EasT4nRE"
      }
    },
    {
      "cell_type": "code",
      "source": [
        "# Remove duplicates or irrelevant columns\n",
        "# Assuming you want to drop the 'text_length' column created for analysis\n",
        "df = sms_df.drop(['text_length'], axis=1)\n",
        "\n",
        "sms_df.head()"
      ],
      "metadata": {
        "colab": {
          "base_uri": "https://localhost:8080/",
          "height": 224
        },
        "id": "eoJmgrsA5qAO",
        "outputId": "43ac1ce6-7e6a-4702-ce31-c517e9b9f78c"
      },
      "execution_count": 24,
      "outputs": [
        {
          "output_type": "execute_result",
          "data": {
            "text/plain": [
              "   Fraudolent                                           SMS_test       ID  \\\n",
              "0           0  Squeeeeeze!! This is christmas hug.. If u lik ...  1EWYRBL   \n",
              "1           0  And also I've sorta blown him off a couple tim...  ZY4PDK7   \n",
              "2           0  Mmm thats better now i got a roast down me! i...  KLUX2C6   \n",
              "3           0      Mm have some kanji dont eat anything heavy ok  955HXJ0   \n",
              "4           0  So there's a ring that comes with the guys cos...  00Q6EUC   \n",
              "\n",
              "  Date_and_Time  text_length  Year  Month  Day  \n",
              "0    2017-12-02          147  2017     12    2  \n",
              "1    2018-03-23          116  2018      3   23  \n",
              "2    2016-10-29          102  2016     10   29  \n",
              "3    2018-04-12           45  2018      4   12  \n",
              "4    2016-08-01          112  2016      8    1  "
            ],
            "text/html": [
              "\n",
              "  <div id=\"df-11a45067-be9e-4bc1-b366-c766b3418c90\" class=\"colab-df-container\">\n",
              "    <div>\n",
              "<style scoped>\n",
              "    .dataframe tbody tr th:only-of-type {\n",
              "        vertical-align: middle;\n",
              "    }\n",
              "\n",
              "    .dataframe tbody tr th {\n",
              "        vertical-align: top;\n",
              "    }\n",
              "\n",
              "    .dataframe thead th {\n",
              "        text-align: right;\n",
              "    }\n",
              "</style>\n",
              "<table border=\"1\" class=\"dataframe\">\n",
              "  <thead>\n",
              "    <tr style=\"text-align: right;\">\n",
              "      <th></th>\n",
              "      <th>Fraudolent</th>\n",
              "      <th>SMS_test</th>\n",
              "      <th>ID</th>\n",
              "      <th>Date_and_Time</th>\n",
              "      <th>text_length</th>\n",
              "      <th>Year</th>\n",
              "      <th>Month</th>\n",
              "      <th>Day</th>\n",
              "    </tr>\n",
              "  </thead>\n",
              "  <tbody>\n",
              "    <tr>\n",
              "      <th>0</th>\n",
              "      <td>0</td>\n",
              "      <td>Squeeeeeze!! This is christmas hug.. If u lik ...</td>\n",
              "      <td>1EWYRBL</td>\n",
              "      <td>2017-12-02</td>\n",
              "      <td>147</td>\n",
              "      <td>2017</td>\n",
              "      <td>12</td>\n",
              "      <td>2</td>\n",
              "    </tr>\n",
              "    <tr>\n",
              "      <th>1</th>\n",
              "      <td>0</td>\n",
              "      <td>And also I've sorta blown him off a couple tim...</td>\n",
              "      <td>ZY4PDK7</td>\n",
              "      <td>2018-03-23</td>\n",
              "      <td>116</td>\n",
              "      <td>2018</td>\n",
              "      <td>3</td>\n",
              "      <td>23</td>\n",
              "    </tr>\n",
              "    <tr>\n",
              "      <th>2</th>\n",
              "      <td>0</td>\n",
              "      <td>Mmm thats better now i got a roast down me! i...</td>\n",
              "      <td>KLUX2C6</td>\n",
              "      <td>2016-10-29</td>\n",
              "      <td>102</td>\n",
              "      <td>2016</td>\n",
              "      <td>10</td>\n",
              "      <td>29</td>\n",
              "    </tr>\n",
              "    <tr>\n",
              "      <th>3</th>\n",
              "      <td>0</td>\n",
              "      <td>Mm have some kanji dont eat anything heavy ok</td>\n",
              "      <td>955HXJ0</td>\n",
              "      <td>2018-04-12</td>\n",
              "      <td>45</td>\n",
              "      <td>2018</td>\n",
              "      <td>4</td>\n",
              "      <td>12</td>\n",
              "    </tr>\n",
              "    <tr>\n",
              "      <th>4</th>\n",
              "      <td>0</td>\n",
              "      <td>So there's a ring that comes with the guys cos...</td>\n",
              "      <td>00Q6EUC</td>\n",
              "      <td>2016-08-01</td>\n",
              "      <td>112</td>\n",
              "      <td>2016</td>\n",
              "      <td>8</td>\n",
              "      <td>1</td>\n",
              "    </tr>\n",
              "  </tbody>\n",
              "</table>\n",
              "</div>\n",
              "    <div class=\"colab-df-buttons\">\n",
              "\n",
              "  <div class=\"colab-df-container\">\n",
              "    <button class=\"colab-df-convert\" onclick=\"convertToInteractive('df-11a45067-be9e-4bc1-b366-c766b3418c90')\"\n",
              "            title=\"Convert this dataframe to an interactive table.\"\n",
              "            style=\"display:none;\">\n",
              "\n",
              "  <svg xmlns=\"http://www.w3.org/2000/svg\" height=\"24px\" viewBox=\"0 -960 960 960\">\n",
              "    <path d=\"M120-120v-720h720v720H120Zm60-500h600v-160H180v160Zm220 220h160v-160H400v160Zm0 220h160v-160H400v160ZM180-400h160v-160H180v160Zm440 0h160v-160H620v160ZM180-180h160v-160H180v160Zm440 0h160v-160H620v160Z\"/>\n",
              "  </svg>\n",
              "    </button>\n",
              "\n",
              "  <style>\n",
              "    .colab-df-container {\n",
              "      display:flex;\n",
              "      gap: 12px;\n",
              "    }\n",
              "\n",
              "    .colab-df-convert {\n",
              "      background-color: #E8F0FE;\n",
              "      border: none;\n",
              "      border-radius: 50%;\n",
              "      cursor: pointer;\n",
              "      display: none;\n",
              "      fill: #1967D2;\n",
              "      height: 32px;\n",
              "      padding: 0 0 0 0;\n",
              "      width: 32px;\n",
              "    }\n",
              "\n",
              "    .colab-df-convert:hover {\n",
              "      background-color: #E2EBFA;\n",
              "      box-shadow: 0px 1px 2px rgba(60, 64, 67, 0.3), 0px 1px 3px 1px rgba(60, 64, 67, 0.15);\n",
              "      fill: #174EA6;\n",
              "    }\n",
              "\n",
              "    .colab-df-buttons div {\n",
              "      margin-bottom: 4px;\n",
              "    }\n",
              "\n",
              "    [theme=dark] .colab-df-convert {\n",
              "      background-color: #3B4455;\n",
              "      fill: #D2E3FC;\n",
              "    }\n",
              "\n",
              "    [theme=dark] .colab-df-convert:hover {\n",
              "      background-color: #434B5C;\n",
              "      box-shadow: 0px 1px 3px 1px rgba(0, 0, 0, 0.15);\n",
              "      filter: drop-shadow(0px 1px 2px rgba(0, 0, 0, 0.3));\n",
              "      fill: #FFFFFF;\n",
              "    }\n",
              "  </style>\n",
              "\n",
              "    <script>\n",
              "      const buttonEl =\n",
              "        document.querySelector('#df-11a45067-be9e-4bc1-b366-c766b3418c90 button.colab-df-convert');\n",
              "      buttonEl.style.display =\n",
              "        google.colab.kernel.accessAllowed ? 'block' : 'none';\n",
              "\n",
              "      async function convertToInteractive(key) {\n",
              "        const element = document.querySelector('#df-11a45067-be9e-4bc1-b366-c766b3418c90');\n",
              "        const dataTable =\n",
              "          await google.colab.kernel.invokeFunction('convertToInteractive',\n",
              "                                                    [key], {});\n",
              "        if (!dataTable) return;\n",
              "\n",
              "        const docLinkHtml = 'Like what you see? Visit the ' +\n",
              "          '<a target=\"_blank\" href=https://colab.research.google.com/notebooks/data_table.ipynb>data table notebook</a>'\n",
              "          + ' to learn more about interactive tables.';\n",
              "        element.innerHTML = '';\n",
              "        dataTable['output_type'] = 'display_data';\n",
              "        await google.colab.output.renderOutput(dataTable, element);\n",
              "        const docLink = document.createElement('div');\n",
              "        docLink.innerHTML = docLinkHtml;\n",
              "        element.appendChild(docLink);\n",
              "      }\n",
              "    </script>\n",
              "  </div>\n",
              "\n",
              "\n",
              "<div id=\"df-8d083873-bda9-4040-b4d3-7646505f0783\">\n",
              "  <button class=\"colab-df-quickchart\" onclick=\"quickchart('df-8d083873-bda9-4040-b4d3-7646505f0783')\"\n",
              "            title=\"Suggest charts\"\n",
              "            style=\"display:none;\">\n",
              "\n",
              "<svg xmlns=\"http://www.w3.org/2000/svg\" height=\"24px\"viewBox=\"0 0 24 24\"\n",
              "     width=\"24px\">\n",
              "    <g>\n",
              "        <path d=\"M19 3H5c-1.1 0-2 .9-2 2v14c0 1.1.9 2 2 2h14c1.1 0 2-.9 2-2V5c0-1.1-.9-2-2-2zM9 17H7v-7h2v7zm4 0h-2V7h2v10zm4 0h-2v-4h2v4z\"/>\n",
              "    </g>\n",
              "</svg>\n",
              "  </button>\n",
              "\n",
              "<style>\n",
              "  .colab-df-quickchart {\n",
              "      --bg-color: #E8F0FE;\n",
              "      --fill-color: #1967D2;\n",
              "      --hover-bg-color: #E2EBFA;\n",
              "      --hover-fill-color: #174EA6;\n",
              "      --disabled-fill-color: #AAA;\n",
              "      --disabled-bg-color: #DDD;\n",
              "  }\n",
              "\n",
              "  [theme=dark] .colab-df-quickchart {\n",
              "      --bg-color: #3B4455;\n",
              "      --fill-color: #D2E3FC;\n",
              "      --hover-bg-color: #434B5C;\n",
              "      --hover-fill-color: #FFFFFF;\n",
              "      --disabled-bg-color: #3B4455;\n",
              "      --disabled-fill-color: #666;\n",
              "  }\n",
              "\n",
              "  .colab-df-quickchart {\n",
              "    background-color: var(--bg-color);\n",
              "    border: none;\n",
              "    border-radius: 50%;\n",
              "    cursor: pointer;\n",
              "    display: none;\n",
              "    fill: var(--fill-color);\n",
              "    height: 32px;\n",
              "    padding: 0;\n",
              "    width: 32px;\n",
              "  }\n",
              "\n",
              "  .colab-df-quickchart:hover {\n",
              "    background-color: var(--hover-bg-color);\n",
              "    box-shadow: 0 1px 2px rgba(60, 64, 67, 0.3), 0 1px 3px 1px rgba(60, 64, 67, 0.15);\n",
              "    fill: var(--button-hover-fill-color);\n",
              "  }\n",
              "\n",
              "  .colab-df-quickchart-complete:disabled,\n",
              "  .colab-df-quickchart-complete:disabled:hover {\n",
              "    background-color: var(--disabled-bg-color);\n",
              "    fill: var(--disabled-fill-color);\n",
              "    box-shadow: none;\n",
              "  }\n",
              "\n",
              "  .colab-df-spinner {\n",
              "    border: 2px solid var(--fill-color);\n",
              "    border-color: transparent;\n",
              "    border-bottom-color: var(--fill-color);\n",
              "    animation:\n",
              "      spin 1s steps(1) infinite;\n",
              "  }\n",
              "\n",
              "  @keyframes spin {\n",
              "    0% {\n",
              "      border-color: transparent;\n",
              "      border-bottom-color: var(--fill-color);\n",
              "      border-left-color: var(--fill-color);\n",
              "    }\n",
              "    20% {\n",
              "      border-color: transparent;\n",
              "      border-left-color: var(--fill-color);\n",
              "      border-top-color: var(--fill-color);\n",
              "    }\n",
              "    30% {\n",
              "      border-color: transparent;\n",
              "      border-left-color: var(--fill-color);\n",
              "      border-top-color: var(--fill-color);\n",
              "      border-right-color: var(--fill-color);\n",
              "    }\n",
              "    40% {\n",
              "      border-color: transparent;\n",
              "      border-right-color: var(--fill-color);\n",
              "      border-top-color: var(--fill-color);\n",
              "    }\n",
              "    60% {\n",
              "      border-color: transparent;\n",
              "      border-right-color: var(--fill-color);\n",
              "    }\n",
              "    80% {\n",
              "      border-color: transparent;\n",
              "      border-right-color: var(--fill-color);\n",
              "      border-bottom-color: var(--fill-color);\n",
              "    }\n",
              "    90% {\n",
              "      border-color: transparent;\n",
              "      border-bottom-color: var(--fill-color);\n",
              "    }\n",
              "  }\n",
              "</style>\n",
              "\n",
              "  <script>\n",
              "    async function quickchart(key) {\n",
              "      const quickchartButtonEl =\n",
              "        document.querySelector('#' + key + ' button');\n",
              "      quickchartButtonEl.disabled = true;  // To prevent multiple clicks.\n",
              "      quickchartButtonEl.classList.add('colab-df-spinner');\n",
              "      try {\n",
              "        const charts = await google.colab.kernel.invokeFunction(\n",
              "            'suggestCharts', [key], {});\n",
              "      } catch (error) {\n",
              "        console.error('Error during call to suggestCharts:', error);\n",
              "      }\n",
              "      quickchartButtonEl.classList.remove('colab-df-spinner');\n",
              "      quickchartButtonEl.classList.add('colab-df-quickchart-complete');\n",
              "    }\n",
              "    (() => {\n",
              "      let quickchartButtonEl =\n",
              "        document.querySelector('#df-8d083873-bda9-4040-b4d3-7646505f0783 button');\n",
              "      quickchartButtonEl.style.display =\n",
              "        google.colab.kernel.accessAllowed ? 'block' : 'none';\n",
              "    })();\n",
              "  </script>\n",
              "</div>\n",
              "    </div>\n",
              "  </div>\n"
            ]
          },
          "metadata": {},
          "execution_count": 24
        }
      ]
    },
    {
      "cell_type": "markdown",
      "source": [
        "# Preprocessing\n",
        "\n",
        "* In this section we will try to transform the data into a more suitable format for machine learning Algorithms, using various methods: cleaning data, encoding categorial features, scaling numerical features.\n",
        "\n",
        "* We will also have to encode categorical values using OneHotEncoding.\n"
      ],
      "metadata": {
        "id": "IANKuBYtqmT4"
      }
    },
    {
      "cell_type": "code",
      "source": [
        "#sentiment count\n",
        "sms_df['Fraudolent'].value_counts()"
      ],
      "metadata": {
        "colab": {
          "base_uri": "https://localhost:8080/"
        },
        "id": "IGVP6xt0qp0K",
        "outputId": "d13962c4-9ece-4e81-a538-c88fc18211d6"
      },
      "execution_count": 15,
      "outputs": [
        {
          "output_type": "execute_result",
          "data": {
            "text/plain": [
              "0    4825\n",
              "1     747\n",
              "Name: Fraudolent, dtype: int64"
            ]
          },
          "metadata": {},
          "execution_count": 15
        }
      ]
    },
    {
      "cell_type": "code",
      "source": [
        "TRAIN_TEST_SPLIT = 3900\n",
        "\n",
        "#train dataset\n",
        "train_Fraudolent=sms_df.Fraudolent[:TRAIN_TEST_SPLIT]\n",
        "\n",
        "#test dataset\n",
        "test_Fraudolent=sms_df.Fraudolent[TRAIN_TEST_SPLIT:]\n",
        "\n",
        "print(train_Fraudolent.shape)\n",
        "print(test_Fraudolent.shape)"
      ],
      "metadata": {
        "colab": {
          "base_uri": "https://localhost:8080/"
        },
        "id": "MMwIXPt1rB1l",
        "outputId": "ab5d9313-19e2-4782-c5af-6dd3f84210e6"
      },
      "execution_count": 23,
      "outputs": [
        {
          "output_type": "stream",
          "name": "stdout",
          "text": [
            "(3900,)\n",
            "(1672,)\n"
          ]
        }
      ]
    },
    {
      "cell_type": "code",
      "source": [
        "#download the stopwords\n",
        "nltk.download('stopwords')\n",
        "\n",
        "#Tokenization of text\n",
        "tokenizer=ToktokTokenizer()\n",
        "\n",
        "#Setting English stopwords\n",
        "stopword_list=nltk.corpus.stopwords.words('english')\n"
      ],
      "metadata": {
        "colab": {
          "base_uri": "https://localhost:8080/"
        },
        "id": "0rZs6EGHsX31",
        "outputId": "c9d91e6c-5f33-4ddd-f1df-69633ee57430"
      },
      "execution_count": 24,
      "outputs": [
        {
          "output_type": "stream",
          "name": "stderr",
          "text": [
            "[nltk_data] Downloading package stopwords to /root/nltk_data...\n",
            "[nltk_data]   Unzipping corpora/stopwords.zip.\n"
          ]
        }
      ]
    },
    {
      "cell_type": "code",
      "source": [
        "#Removing the html strips\n",
        "def strip_html(text):\n",
        "    soup = BeautifulSoup(text, \"html.parser\")\n",
        "    return soup.get_text()\n",
        "\n",
        "#Removing the square brackets\n",
        "def remove_between_square_brackets(text):\n",
        "    return re.sub('\\[[^]]*\\]', '', text)\n",
        "\n",
        "#Removing the noisy text\n",
        "def denoise_text(text):\n",
        "    text = strip_html(text)\n",
        "    text = remove_between_square_brackets(text)\n",
        "    return text\n",
        "\n",
        "#apply function on review column\n",
        "sms_df['SMS_test']=sms_df['SMS_test'].apply(denoise_text)\n",
        "\n",
        "\n",
        "#Define function for removing special characters\n",
        "def remove_special_characters(text):\n",
        "    pattern=r'[^a-zA-z0-9\\s]'\n",
        "    text=re.sub(pattern,'',text)\n",
        "    return text\n",
        "\n",
        "#apply function on review column\n",
        "sms_df['SMS_test']=sms_df['SMS_test'].apply(remove_special_characters)\n",
        "\n",
        "\n",
        "#stemming the text\n",
        "def simple_stemmer(text):\n",
        "    ps=nltk.porter.PorterStemmer()\n",
        "    text= ' '.join([ps.stem(word) for word in text.split()])\n",
        "    return text\n",
        "\n",
        "#apply function on review column\n",
        "sms_df['SMS_test']=sms_df['SMS_test'].apply(remove_special_characters)\n",
        "\n",
        "#set stopwords to english\n",
        "stop=set(stopwords.words('english'))\n",
        "print(stop)\n",
        "\n",
        "#removing the stopwords\n",
        "def remove_stopwords(text, is_lower_case=False):\n",
        "    tokens = tokenizer.tokenize(text)\n",
        "    tokens = [token.strip() for token in tokens]\n",
        "    if is_lower_case:\n",
        "        filtered_tokens = [token for token in tokens if token not in stopword_list]\n",
        "    else:\n",
        "        filtered_tokens = [token for token in tokens if token.lower() not in stopword_list]\n",
        "    filtered_text = ' '.join(filtered_tokens)\n",
        "    return filtered_text\n",
        "\n",
        "#apply function on review column\n",
        "sms_df['SMS_test']=sms_df['SMS_test'].apply(remove_special_characters)\n",
        "\n",
        "#normalized train reviews\n",
        "norm_train_sms=sms_df.SMS_test[:TRAIN_TEST_SPLIT]\n",
        "norm_train_sms[1]\n",
        "\n",
        "#normalized test reviews\n",
        "norm_test_sms=sms_df.SMS_test[TRAIN_TEST_SPLIT:]\n",
        "norm_test_sms[3940]"
      ],
      "metadata": {
        "colab": {
          "base_uri": "https://localhost:8080/",
          "height": 125
        },
        "id": "jvuIOMoksecR",
        "outputId": "e2bce88e-3f24-4191-f142-c3b80133913a"
      },
      "execution_count": 56,
      "outputs": [
        {
          "output_type": "stream",
          "name": "stderr",
          "text": [
            "<ipython-input-56-d30d97677c3f>:3: MarkupResemblesLocatorWarning: The input looks more like a filename than markup. You may want to open this file and pass the filehandle into Beautiful Soup.\n",
            "  soup = BeautifulSoup(text, \"html.parser\")\n"
          ]
        },
        {
          "output_type": "stream",
          "name": "stdout",
          "text": [
            "{\"didn't\", 'his', 'haven', 'him', 'then', \"shan't\", 'been', 'through', 'hadn', \"mustn't\", 'should', 'other', 'isn', 'her', \"wouldn't\", 'not', \"you've\", \"haven't\", 'was', 'over', 're', 'so', 'during', \"aren't\", 'that', 'himself', 'yourself', 'is', 'only', 'wasn', 'now', 'who', \"hadn't\", 'under', 'between', 'out', 'theirs', 'hasn', 'and', 'than', 'you', 'shouldn', 'were', 'o', 'wouldn', \"should've\", 'any', \"shouldn't\", 'as', 'all', 'ourselves', 'weren', 'if', 'has', 'just', 'down', 'those', 'our', 'the', 'to', 'yourselves', 'each', \"wasn't\", 'couldn', 'too', 'it', 'but', 'have', 'up', 'mightn', 'doing', 'don', \"isn't\", 'herself', \"don't\", 'itself', \"needn't\", 'into', 'most', 'doesn', 'while', 'your', 'for', 'same', 'did', 'he', \"you'll\", 'or', 'more', 'from', \"she's\", 'nor', \"couldn't\", 'when', 'she', 'an', 'here', 'these', \"mightn't\", \"doesn't\", 'further', 'mustn', \"won't\", \"that'll\", 's', \"you're\", 'with', 'few', 'd', 'will', 'again', 'on', 'this', 'am', 'my', 'yours', 'does', 'be', 'ours', 'such', 'there', 'having', 'm', 'once', 'can', 'how', 'do', 'didn', 'aren', 'why', 'of', 'ma', 'both', \"you'd\", 'needn', 'which', 'ain', 'off', \"weren't\", 'a', 'myself', 'very', 'me', \"it's\", 'are', 'y', 'them', 'against', 'where', 'no', 'themselves', 'before', 'in', 'some', 'until', 't', 'their', 'they', 've', 'had', 'because', 'at', 'about', 'shan', 'being', 'we', 'whom', 'after', 'above', \"hasn't\", 'its', 'll', 'below', 'what', 'i', 'hers', 'by', 'own', 'won'}\n"
          ]
        },
        {
          "output_type": "execute_result",
          "data": {
            "text/plain": [
              "'Today is ACCEPT DAYU Accept me as Brother Sister Lover Dear1 Best1 Clos1 Lvblefrnd Jstfrnd Cutefrnd Lifpartnr Belovd Swtheart Bstfrnd No rply means enemy'"
            ],
            "application/vnd.google.colaboratory.intrinsic+json": {
              "type": "string"
            }
          },
          "metadata": {},
          "execution_count": 56
        }
      ]
    },
    {
      "cell_type": "code",
      "source": [
        "encoder = OneHotEncoder()\n",
        "\n",
        "cols = encoder.fit_transform(norm_train_sms)\n",
        "\n",
        "print(cols)"
      ],
      "metadata": {
        "colab": {
          "base_uri": "https://localhost:8080/",
          "height": 616
        },
        "id": "ze2e3jxuyRmx",
        "outputId": "bb6815d6-d4ab-45a5-9e10-e5817548241c"
      },
      "execution_count": 59,
      "outputs": [
        {
          "output_type": "error",
          "ename": "ValueError",
          "evalue": "ignored",
          "traceback": [
            "\u001b[0;31m---------------------------------------------------------------------------\u001b[0m",
            "\u001b[0;31mValueError\u001b[0m                                Traceback (most recent call last)",
            "\u001b[0;32m<ipython-input-59-9033843137f5>\u001b[0m in \u001b[0;36m<cell line: 3>\u001b[0;34m()\u001b[0m\n\u001b[1;32m      1\u001b[0m \u001b[0mencoder\u001b[0m \u001b[0;34m=\u001b[0m \u001b[0mOneHotEncoder\u001b[0m\u001b[0;34m(\u001b[0m\u001b[0;34m)\u001b[0m\u001b[0;34m\u001b[0m\u001b[0;34m\u001b[0m\u001b[0m\n\u001b[1;32m      2\u001b[0m \u001b[0;34m\u001b[0m\u001b[0m\n\u001b[0;32m----> 3\u001b[0;31m \u001b[0mcols\u001b[0m \u001b[0;34m=\u001b[0m \u001b[0mencoder\u001b[0m\u001b[0;34m.\u001b[0m\u001b[0mfit_transform\u001b[0m\u001b[0;34m(\u001b[0m\u001b[0mnorm_train_sms\u001b[0m\u001b[0;34m)\u001b[0m\u001b[0;34m\u001b[0m\u001b[0;34m\u001b[0m\u001b[0m\n\u001b[0m\u001b[1;32m      4\u001b[0m \u001b[0;34m\u001b[0m\u001b[0m\n\u001b[1;32m      5\u001b[0m \u001b[0mprint\u001b[0m\u001b[0;34m(\u001b[0m\u001b[0mcols\u001b[0m\u001b[0;34m)\u001b[0m\u001b[0;34m\u001b[0m\u001b[0;34m\u001b[0m\u001b[0m\n",
            "\u001b[0;32m/usr/local/lib/python3.10/dist-packages/sklearn/utils/_set_output.py\u001b[0m in \u001b[0;36mwrapped\u001b[0;34m(self, X, *args, **kwargs)\u001b[0m\n\u001b[1;32m    138\u001b[0m     \u001b[0;34m@\u001b[0m\u001b[0mwraps\u001b[0m\u001b[0;34m(\u001b[0m\u001b[0mf\u001b[0m\u001b[0;34m)\u001b[0m\u001b[0;34m\u001b[0m\u001b[0;34m\u001b[0m\u001b[0m\n\u001b[1;32m    139\u001b[0m     \u001b[0;32mdef\u001b[0m \u001b[0mwrapped\u001b[0m\u001b[0;34m(\u001b[0m\u001b[0mself\u001b[0m\u001b[0;34m,\u001b[0m \u001b[0mX\u001b[0m\u001b[0;34m,\u001b[0m \u001b[0;34m*\u001b[0m\u001b[0margs\u001b[0m\u001b[0;34m,\u001b[0m \u001b[0;34m**\u001b[0m\u001b[0mkwargs\u001b[0m\u001b[0;34m)\u001b[0m\u001b[0;34m:\u001b[0m\u001b[0;34m\u001b[0m\u001b[0;34m\u001b[0m\u001b[0m\n\u001b[0;32m--> 140\u001b[0;31m         \u001b[0mdata_to_wrap\u001b[0m \u001b[0;34m=\u001b[0m \u001b[0mf\u001b[0m\u001b[0;34m(\u001b[0m\u001b[0mself\u001b[0m\u001b[0;34m,\u001b[0m \u001b[0mX\u001b[0m\u001b[0;34m,\u001b[0m \u001b[0;34m*\u001b[0m\u001b[0margs\u001b[0m\u001b[0;34m,\u001b[0m \u001b[0;34m**\u001b[0m\u001b[0mkwargs\u001b[0m\u001b[0;34m)\u001b[0m\u001b[0;34m\u001b[0m\u001b[0;34m\u001b[0m\u001b[0m\n\u001b[0m\u001b[1;32m    141\u001b[0m         \u001b[0;32mif\u001b[0m \u001b[0misinstance\u001b[0m\u001b[0;34m(\u001b[0m\u001b[0mdata_to_wrap\u001b[0m\u001b[0;34m,\u001b[0m \u001b[0mtuple\u001b[0m\u001b[0;34m)\u001b[0m\u001b[0;34m:\u001b[0m\u001b[0;34m\u001b[0m\u001b[0;34m\u001b[0m\u001b[0m\n\u001b[1;32m    142\u001b[0m             \u001b[0;31m# only wrap the first output for cross decomposition\u001b[0m\u001b[0;34m\u001b[0m\u001b[0;34m\u001b[0m\u001b[0m\n",
            "\u001b[0;32m/usr/local/lib/python3.10/dist-packages/sklearn/base.py\u001b[0m in \u001b[0;36mfit_transform\u001b[0;34m(self, X, y, **fit_params)\u001b[0m\n\u001b[1;32m    876\u001b[0m         \u001b[0;32mif\u001b[0m \u001b[0my\u001b[0m \u001b[0;32mis\u001b[0m \u001b[0;32mNone\u001b[0m\u001b[0;34m:\u001b[0m\u001b[0;34m\u001b[0m\u001b[0;34m\u001b[0m\u001b[0m\n\u001b[1;32m    877\u001b[0m             \u001b[0;31m# fit method of arity 1 (unsupervised transformation)\u001b[0m\u001b[0;34m\u001b[0m\u001b[0;34m\u001b[0m\u001b[0m\n\u001b[0;32m--> 878\u001b[0;31m             \u001b[0;32mreturn\u001b[0m \u001b[0mself\u001b[0m\u001b[0;34m.\u001b[0m\u001b[0mfit\u001b[0m\u001b[0;34m(\u001b[0m\u001b[0mX\u001b[0m\u001b[0;34m,\u001b[0m \u001b[0;34m**\u001b[0m\u001b[0mfit_params\u001b[0m\u001b[0;34m)\u001b[0m\u001b[0;34m.\u001b[0m\u001b[0mtransform\u001b[0m\u001b[0;34m(\u001b[0m\u001b[0mX\u001b[0m\u001b[0;34m)\u001b[0m\u001b[0;34m\u001b[0m\u001b[0;34m\u001b[0m\u001b[0m\n\u001b[0m\u001b[1;32m    879\u001b[0m         \u001b[0;32melse\u001b[0m\u001b[0;34m:\u001b[0m\u001b[0;34m\u001b[0m\u001b[0;34m\u001b[0m\u001b[0m\n\u001b[1;32m    880\u001b[0m             \u001b[0;31m# fit method of arity 2 (supervised transformation)\u001b[0m\u001b[0;34m\u001b[0m\u001b[0;34m\u001b[0m\u001b[0m\n",
            "\u001b[0;32m/usr/local/lib/python3.10/dist-packages/sklearn/preprocessing/_encoders.py\u001b[0m in \u001b[0;36mfit\u001b[0;34m(self, X, y)\u001b[0m\n\u001b[1;32m    876\u001b[0m         \u001b[0mself\u001b[0m\u001b[0;34m.\u001b[0m\u001b[0m_check_infrequent_enabled\u001b[0m\u001b[0;34m(\u001b[0m\u001b[0;34m)\u001b[0m\u001b[0;34m\u001b[0m\u001b[0;34m\u001b[0m\u001b[0m\n\u001b[1;32m    877\u001b[0m \u001b[0;34m\u001b[0m\u001b[0m\n\u001b[0;32m--> 878\u001b[0;31m         fit_results = self._fit(\n\u001b[0m\u001b[1;32m    879\u001b[0m             \u001b[0mX\u001b[0m\u001b[0;34m,\u001b[0m\u001b[0;34m\u001b[0m\u001b[0;34m\u001b[0m\u001b[0m\n\u001b[1;32m    880\u001b[0m             \u001b[0mhandle_unknown\u001b[0m\u001b[0;34m=\u001b[0m\u001b[0mself\u001b[0m\u001b[0;34m.\u001b[0m\u001b[0mhandle_unknown\u001b[0m\u001b[0;34m,\u001b[0m\u001b[0;34m\u001b[0m\u001b[0;34m\u001b[0m\u001b[0m\n",
            "\u001b[0;32m/usr/local/lib/python3.10/dist-packages/sklearn/preprocessing/_encoders.py\u001b[0m in \u001b[0;36m_fit\u001b[0;34m(self, X, handle_unknown, force_all_finite, return_counts)\u001b[0m\n\u001b[1;32m     72\u001b[0m         \u001b[0mself\u001b[0m\u001b[0;34m.\u001b[0m\u001b[0m_check_n_features\u001b[0m\u001b[0;34m(\u001b[0m\u001b[0mX\u001b[0m\u001b[0;34m,\u001b[0m \u001b[0mreset\u001b[0m\u001b[0;34m=\u001b[0m\u001b[0;32mTrue\u001b[0m\u001b[0;34m)\u001b[0m\u001b[0;34m\u001b[0m\u001b[0;34m\u001b[0m\u001b[0m\n\u001b[1;32m     73\u001b[0m         \u001b[0mself\u001b[0m\u001b[0;34m.\u001b[0m\u001b[0m_check_feature_names\u001b[0m\u001b[0;34m(\u001b[0m\u001b[0mX\u001b[0m\u001b[0;34m,\u001b[0m \u001b[0mreset\u001b[0m\u001b[0;34m=\u001b[0m\u001b[0;32mTrue\u001b[0m\u001b[0;34m)\u001b[0m\u001b[0;34m\u001b[0m\u001b[0;34m\u001b[0m\u001b[0m\n\u001b[0;32m---> 74\u001b[0;31m         X_list, n_samples, n_features = self._check_X(\n\u001b[0m\u001b[1;32m     75\u001b[0m             \u001b[0mX\u001b[0m\u001b[0;34m,\u001b[0m \u001b[0mforce_all_finite\u001b[0m\u001b[0;34m=\u001b[0m\u001b[0mforce_all_finite\u001b[0m\u001b[0;34m\u001b[0m\u001b[0;34m\u001b[0m\u001b[0m\n\u001b[1;32m     76\u001b[0m         )\n",
            "\u001b[0;32m/usr/local/lib/python3.10/dist-packages/sklearn/preprocessing/_encoders.py\u001b[0m in \u001b[0;36m_check_X\u001b[0;34m(self, X, force_all_finite)\u001b[0m\n\u001b[1;32m     44\u001b[0m         \u001b[0;32mif\u001b[0m \u001b[0;32mnot\u001b[0m \u001b[0;34m(\u001b[0m\u001b[0mhasattr\u001b[0m\u001b[0;34m(\u001b[0m\u001b[0mX\u001b[0m\u001b[0;34m,\u001b[0m \u001b[0;34m\"iloc\"\u001b[0m\u001b[0;34m)\u001b[0m \u001b[0;32mand\u001b[0m \u001b[0mgetattr\u001b[0m\u001b[0;34m(\u001b[0m\u001b[0mX\u001b[0m\u001b[0;34m,\u001b[0m \u001b[0;34m\"ndim\"\u001b[0m\u001b[0;34m,\u001b[0m \u001b[0;36m0\u001b[0m\u001b[0;34m)\u001b[0m \u001b[0;34m==\u001b[0m \u001b[0;36m2\u001b[0m\u001b[0;34m)\u001b[0m\u001b[0;34m:\u001b[0m\u001b[0;34m\u001b[0m\u001b[0;34m\u001b[0m\u001b[0m\n\u001b[1;32m     45\u001b[0m             \u001b[0;31m# if not a dataframe, do normal check_array validation\u001b[0m\u001b[0;34m\u001b[0m\u001b[0;34m\u001b[0m\u001b[0m\n\u001b[0;32m---> 46\u001b[0;31m             \u001b[0mX_temp\u001b[0m \u001b[0;34m=\u001b[0m \u001b[0mcheck_array\u001b[0m\u001b[0;34m(\u001b[0m\u001b[0mX\u001b[0m\u001b[0;34m,\u001b[0m \u001b[0mdtype\u001b[0m\u001b[0;34m=\u001b[0m\u001b[0;32mNone\u001b[0m\u001b[0;34m,\u001b[0m \u001b[0mforce_all_finite\u001b[0m\u001b[0;34m=\u001b[0m\u001b[0mforce_all_finite\u001b[0m\u001b[0;34m)\u001b[0m\u001b[0;34m\u001b[0m\u001b[0;34m\u001b[0m\u001b[0m\n\u001b[0m\u001b[1;32m     47\u001b[0m             \u001b[0;32mif\u001b[0m \u001b[0;32mnot\u001b[0m \u001b[0mhasattr\u001b[0m\u001b[0;34m(\u001b[0m\u001b[0mX\u001b[0m\u001b[0;34m,\u001b[0m \u001b[0;34m\"dtype\"\u001b[0m\u001b[0;34m)\u001b[0m \u001b[0;32mand\u001b[0m \u001b[0mnp\u001b[0m\u001b[0;34m.\u001b[0m\u001b[0missubdtype\u001b[0m\u001b[0;34m(\u001b[0m\u001b[0mX_temp\u001b[0m\u001b[0;34m.\u001b[0m\u001b[0mdtype\u001b[0m\u001b[0;34m,\u001b[0m \u001b[0mnp\u001b[0m\u001b[0;34m.\u001b[0m\u001b[0mstr_\u001b[0m\u001b[0;34m)\u001b[0m\u001b[0;34m:\u001b[0m\u001b[0;34m\u001b[0m\u001b[0;34m\u001b[0m\u001b[0m\n\u001b[1;32m     48\u001b[0m                 \u001b[0mX\u001b[0m \u001b[0;34m=\u001b[0m \u001b[0mcheck_array\u001b[0m\u001b[0;34m(\u001b[0m\u001b[0mX\u001b[0m\u001b[0;34m,\u001b[0m \u001b[0mdtype\u001b[0m\u001b[0;34m=\u001b[0m\u001b[0mobject\u001b[0m\u001b[0;34m,\u001b[0m \u001b[0mforce_all_finite\u001b[0m\u001b[0;34m=\u001b[0m\u001b[0mforce_all_finite\u001b[0m\u001b[0;34m)\u001b[0m\u001b[0;34m\u001b[0m\u001b[0;34m\u001b[0m\u001b[0m\n",
            "\u001b[0;32m/usr/local/lib/python3.10/dist-packages/sklearn/utils/validation.py\u001b[0m in \u001b[0;36mcheck_array\u001b[0;34m(array, accept_sparse, accept_large_sparse, dtype, order, copy, force_all_finite, ensure_2d, allow_nd, ensure_min_samples, ensure_min_features, estimator, input_name)\u001b[0m\n\u001b[1;32m    900\u001b[0m             \u001b[0;31m# If input is 1D raise error\u001b[0m\u001b[0;34m\u001b[0m\u001b[0;34m\u001b[0m\u001b[0m\n\u001b[1;32m    901\u001b[0m             \u001b[0;32mif\u001b[0m \u001b[0marray\u001b[0m\u001b[0;34m.\u001b[0m\u001b[0mndim\u001b[0m \u001b[0;34m==\u001b[0m \u001b[0;36m1\u001b[0m\u001b[0;34m:\u001b[0m\u001b[0;34m\u001b[0m\u001b[0;34m\u001b[0m\u001b[0m\n\u001b[0;32m--> 902\u001b[0;31m                 raise ValueError(\n\u001b[0m\u001b[1;32m    903\u001b[0m                     \u001b[0;34m\"Expected 2D array, got 1D array instead:\\narray={}.\\n\"\u001b[0m\u001b[0;34m\u001b[0m\u001b[0;34m\u001b[0m\u001b[0m\n\u001b[1;32m    904\u001b[0m                     \u001b[0;34m\"Reshape your data either using array.reshape(-1, 1) if \"\u001b[0m\u001b[0;34m\u001b[0m\u001b[0;34m\u001b[0m\u001b[0m\n",
            "\u001b[0;31mValueError\u001b[0m: Expected 2D array, got 1D array instead:\narray=['Squeeeeeze This is christmas hug If u lik my frndshp den hug me back If u get 3 u r cute 6 u r luvd 9 u r so lucky None People hate u'\n 'And also Ive sorta blown him off a couple times recently so id rather not text him out of the blue looking for weed'\n 'Mmm thats better now i got a roast down me id b better if i had a few drinks down me 2 Good indian'\n ...\n 'Ok But they said ive got wisdom teeth hidden inside n mayb need 2 remove'\n 'Er yeah i will b there at 1526 sorry Just tell me which pubcafe to sit in and come wen u can'\n 'Aight can you text me the address'].\nReshape your data either using array.reshape(-1, 1) if your data has a single feature or array.reshape(1, -1) if it contains a single sample."
          ]
        }
      ]
    }
  ]
}