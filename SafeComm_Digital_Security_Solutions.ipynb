{
  "cells": [
    {
      "cell_type": "markdown",
      "metadata": {
        "id": "zLXNWWdwhgVd"
      },
      "source": [
        "# SafeComm-Digital-Security-Solutions\n",
        "\n",
        "Welcome to SafeComm Digital Security Solutions! In the modern digital age, people across the globe\n",
        "communicate largely through text messages. SMSs have become an integral part of our daily lives.\n",
        "However, with this ease of communication, there comes a dark side: SMS-based fraud. Unsuspecting\n",
        "individuals often receive malicious or scam texts intending to deceive or cause harm.\n",
        "SafeComm has recently partnered with a major telecom provider that has shared anonymized SMS\n",
        "data. This dataset comprises a mix of regular day-to-day messages and some potentially fraudulent\n",
        "ones. The objective is to design a mechanism that identifies and flags these fraudulent messages\n",
        "automatically. This way, we can warn users or even prevent these messages from being delivered\n",
        "altogether.\n",
        "\n",
        "# *Dataset features*\n",
        "\n",
        "• Fraudulent: Binary indicator if the SMS is fraudulent (1 for Yes, 0 for No)\n",
        "\n",
        "• SMS Text: The content of the SMS\n",
        "\n",
        "• ID: A unique identifier for each SMS\n",
        "\n",
        "• Date and Time: Timestamp indicating when the SMS was sent\n",
        "\n",
        "# *Assignment*\n",
        "\n",
        "• Perform an Explanatory data analysis (EDA) with visualization using the entire dataset..\n",
        "\n",
        "• Preprocess the dataset (impute missing values, encode categorical features with one-hot\n",
        "encoding). Your goal is to estimate whether an SMS is fraudulent\n",
        "\n",
        "• Define whether this is a regression, classification or clustering problem, explain why and\n",
        "choose your model design accordingly. Test at least 3 different models. First, create a\n",
        "validation set from the training set to analyze the behaviour with the default\n",
        "hyperparameters. Then use cross-validation to find the best set of hyperparameters. You\n",
        "must describe every hyperparameter tuned (the more, the better)\n",
        "\n",
        "• Select the best architecture using the right metric\n",
        "\n",
        "• Compute the performances of the test set\n",
        "\n",
        "• Explain your results"
      ]
    },
    {
      "cell_type": "code",
      "execution_count": 18,
      "metadata": {
        "id": "HJuWXEAVSoMp"
      },
      "outputs": [],
      "source": [
        "import numpy as np\n",
        "import sklearn as skl\n",
        "import pandas as pd\n",
        "import matplotlib.pyplot as plt\n",
        "import seaborn as sns\n",
        "from sklearn.preprocessing import OneHotEncoder\n",
        "from sklearn.preprocessing import StandardScaler\n",
        "import requests\n",
        "import zipfile\n",
        "import os"
      ]
    },
    {
      "cell_type": "markdown",
      "metadata": {
        "id": "jLmGXXJFqkrF"
      },
      "source": [
        "## EDA analysis ##\n",
        "\n",
        "* Understanding the Dataset: We use python libraries to scan the dataset and gain insight of its structure\n",
        "\n",
        "* Checking for Integrity: We scan the dataset to identify NaN values and check if the dataset is consistent\n",
        "\n",
        "* Visualize Distribution of Data: using sns and matplotlib we can see how the data is structured in the cartesian plane\n",
        "\n",
        "* Use pairplots to identify relationships: Apparently not necessary"
      ]
    },
    {
      "cell_type": "markdown",
      "metadata": {
        "id": "yEh2tBbc65bh"
      },
      "source": [
        "# Showing the dataframe\n",
        "\n",
        "* here we display the complete dataset in a dataframe with 4 columns:\n",
        "  - *Fraudolent*: a binary value, that acts like a boolean, that assumes the value of 0 when the sms is not spam; 1 when it is fraudolent.\n",
        "  - *SMS test*: a string of text, representing an sms.\n",
        "  - *ID*: a unique alphanumeric code of 7 digits that represents the sms message.\n",
        "  - *Date and Time*: time in which the message has been sent (it is formatted as date and time)"
      ]
    },
    {
      "cell_type": "code",
      "execution_count": 19,
      "metadata": {
        "colab": {
          "base_uri": "https://localhost:8080/",
          "height": 206
        },
        "id": "Qm9lUowvwMUc",
        "outputId": "a7e91cbb-8c97-4fd0-e027-e5e7c6e820e8"
      },
      "outputs": [
        {
          "data": {
            "text/html": [
              "<div>\n",
              "<style scoped>\n",
              "    .dataframe tbody tr th:only-of-type {\n",
              "        vertical-align: middle;\n",
              "    }\n",
              "\n",
              "    .dataframe tbody tr th {\n",
              "        vertical-align: top;\n",
              "    }\n",
              "\n",
              "    .dataframe thead th {\n",
              "        text-align: right;\n",
              "    }\n",
              "</style>\n",
              "<table border=\"1\" class=\"dataframe\">\n",
              "  <thead>\n",
              "    <tr style=\"text-align: right;\">\n",
              "      <th></th>\n",
              "      <th>Fraudolent</th>\n",
              "      <th>SMS test</th>\n",
              "      <th>ID</th>\n",
              "      <th>Date and Time</th>\n",
              "    </tr>\n",
              "  </thead>\n",
              "  <tbody>\n",
              "    <tr>\n",
              "      <th>0</th>\n",
              "      <td>0</td>\n",
              "      <td>Squeeeeeze!! This is christmas hug.. If u lik ...</td>\n",
              "      <td>1EWYRBL</td>\n",
              "      <td>2017-12-02</td>\n",
              "    </tr>\n",
              "    <tr>\n",
              "      <th>1</th>\n",
              "      <td>0</td>\n",
              "      <td>And also I've sorta blown him off a couple tim...</td>\n",
              "      <td>ZY4PDK7</td>\n",
              "      <td>2018-03-23</td>\n",
              "    </tr>\n",
              "    <tr>\n",
              "      <th>2</th>\n",
              "      <td>0</td>\n",
              "      <td>Mmm thats better now i got a roast down me! i...</td>\n",
              "      <td>KLUX2C6</td>\n",
              "      <td>2016-10-29</td>\n",
              "    </tr>\n",
              "    <tr>\n",
              "      <th>3</th>\n",
              "      <td>0</td>\n",
              "      <td>Mm have some kanji dont eat anything heavy ok</td>\n",
              "      <td>955HXJ0</td>\n",
              "      <td>2018-04-12</td>\n",
              "    </tr>\n",
              "    <tr>\n",
              "      <th>4</th>\n",
              "      <td>0</td>\n",
              "      <td>So there's a ring that comes with the guys cos...</td>\n",
              "      <td>00Q6EUC</td>\n",
              "      <td>2016-08-01</td>\n",
              "    </tr>\n",
              "  </tbody>\n",
              "</table>\n",
              "</div>"
            ],
            "text/plain": [
              "   Fraudolent                                           SMS test       ID  \\\n",
              "0           0  Squeeeeeze!! This is christmas hug.. If u lik ...  1EWYRBL   \n",
              "1           0  And also I've sorta blown him off a couple tim...  ZY4PDK7   \n",
              "2           0  Mmm thats better now i got a roast down me! i...  KLUX2C6   \n",
              "3           0      Mm have some kanji dont eat anything heavy ok  955HXJ0   \n",
              "4           0  So there's a ring that comes with the guys cos...  00Q6EUC   \n",
              "\n",
              "  Date and Time  \n",
              "0    2017-12-02  \n",
              "1    2018-03-23  \n",
              "2    2016-10-29  \n",
              "3    2018-04-12  \n",
              "4    2016-08-01  "
            ]
          },
          "execution_count": 19,
          "metadata": {},
          "output_type": "execute_result"
        }
      ],
      "source": [
        "#This allows us to visualise the structure of our dataaset and how to information is layed out in the corresponding csv file.\n",
        "sms_df = pd.read_csv(\"sms.csv\")\n",
        "sms_df.head()"
      ]
    },
    {
      "cell_type": "code",
      "execution_count": 20,
      "metadata": {
        "colab": {
          "base_uri": "https://localhost:8080/"
        },
        "id": "jy6wNauLxN0r",
        "outputId": "fbf30f3e-1b1d-4b21-8adb-f7d7dce0567e"
      },
      "outputs": [
        {
          "name": "stdout",
          "output_type": "stream",
          "text": [
            "Rows: 5572\n"
          ]
        }
      ],
      "source": [
        "print(\"Rows:\",sms_df.shape[0]) # In this way we gain knowledge about the real dimensions of the dataset"
      ]
    },
    {
      "cell_type": "code",
      "execution_count": 21,
      "metadata": {
        "colab": {
          "base_uri": "https://localhost:8080/"
        },
        "id": "6noBNCcVxLq0",
        "outputId": "65a5ad6e-a796-4ac1-b05c-e398709bc519"
      },
      "outputs": [
        {
          "name": "stdout",
          "output_type": "stream",
          "text": [
            "NaN values in each column:\n",
            "Fraudolent       0\n",
            "SMS test         0\n",
            "ID               0\n",
            "Date and Time    0\n",
            "dtype: int64\n"
          ]
        }
      ],
      "source": [
        "# Count NaN values in the dataset\n",
        "nan_count = sms_df.isna().sum()\n",
        "\n",
        "# Display the count of NaN values for each column\n",
        "print(\"NaN values in each column:\")\n",
        "print(nan_count)\n",
        "#considering we do not have any NaN values in our dataset, we can move on to the next step and there is no need to impute missing values."
      ]
    },
    {
      "cell_type": "code",
      "execution_count": 22,
      "metadata": {},
      "outputs": [
        {
          "data": {
            "text/plain": [
              "array(['Fraudolent', 'SMS test', 'ID', 'Date and Time'], dtype=object)"
            ]
          },
          "execution_count": 22,
          "metadata": {},
          "output_type": "execute_result"
        }
      ],
      "source": [
        "sms_df.columns.values\n",
        "#This allows us to view each column name individually and to see if there are any columns that we do not need for our analysis."
      ]
    },
    {
      "cell_type": "code",
      "execution_count": 23,
      "metadata": {},
      "outputs": [
        {
          "name": "stdout",
          "output_type": "stream",
          "text": [
            "\n",
            "Fraudolent column summary:\n",
            "0    4825\n",
            "1     747\n",
            "Name: Fraudolent, dtype: int64\n",
            "Percentage of fraudolent messages: 13.406317300789663\n",
            "Percentage of non-fraudolent messages: 86.59368269921033\n"
          ]
        }
      ],
      "source": [
        "print(\"\\nFraudolent column summary:\")\n",
        "print(sms_df['Fraudolent'].value_counts())\n",
        "#Here we can clearly see that there are 4825 Non-Fraudolent messages and 747 Fraudolent messages.\n",
        "fraudolent_count = sms_df['Fraudolent'].value_counts()[1]\n",
        "non_fraudolent_count = sms_df['Fraudolent'].value_counts()[0]\n",
        "\n",
        "percentage_fraudolent = (fraudolent_count / (fraudolent_count + non_fraudolent_count)) * 100\n",
        "percentage_non_fraudolent = (non_fraudolent_count / (fraudolent_count + non_fraudolent_count)) * 100\n",
        "\n",
        "print(\"Percentage of fraudolent messages:\", percentage_fraudolent)\n",
        "print(\"Percentage of non-fraudolent messages:\", percentage_non_fraudolent)\n",
        "#furthermore we have displayed the percentage of fraudolent and non-fraudolent messages in the dataset. We can see that the dataset is unbalanced, favouring non-fraudolent messages.\n",
        "#We can ssee that in our dataset the majority of SMS Messages that are sent are non-fraudolent"
      ]
    },
    {
      "cell_type": "code",
      "execution_count": 24,
      "metadata": {},
      "outputs": [
        {
          "name": "stdout",
          "output_type": "stream",
          "text": [
            "Earliest date of an SMS message sent: 2016-02-15\n",
            "Latest date of an SMS message sent: 2018-09-19\n"
          ]
        }
      ],
      "source": [
        "sms_df.columns\n",
        "#By splitting the date into its compoonents, we can analyze the temporal distributoion of the messages.\n",
        "earliest_date = sms_df['Date and Time'].min()\n",
        "latest_date = sms_df['Date and Time'].max()\n",
        "print(\"Earliest date of an SMS message sent:\", earliest_date)\n",
        "print(\"Latest date of an SMS message sent:\", latest_date)\n",
        "#this allows us to see that in our dataset the range of years for which we are viewing sent SMS Messages is from 2016 to 2018"
      ]
    },
    {
      "cell_type": "code",
      "execution_count": 35,
      "metadata": {},
      "outputs": [
        {
          "data": {
            "text/html": [
              "<div>\n",
              "<style scoped>\n",
              "    .dataframe tbody tr th:only-of-type {\n",
              "        vertical-align: middle;\n",
              "    }\n",
              "\n",
              "    .dataframe tbody tr th {\n",
              "        vertical-align: top;\n",
              "    }\n",
              "\n",
              "    .dataframe thead th {\n",
              "        text-align: right;\n",
              "    }\n",
              "</style>\n",
              "<table border=\"1\" class=\"dataframe\">\n",
              "  <thead>\n",
              "    <tr style=\"text-align: right;\">\n",
              "      <th></th>\n",
              "      <th>Fraudolent</th>\n",
              "      <th>text_length</th>\n",
              "      <th>Year</th>\n",
              "      <th>Month</th>\n",
              "      <th>Day</th>\n",
              "    </tr>\n",
              "  </thead>\n",
              "  <tbody>\n",
              "    <tr>\n",
              "      <th>Fraudolent</th>\n",
              "      <td>1.000000</td>\n",
              "      <td>0.378359</td>\n",
              "      <td>0.004349</td>\n",
              "      <td>-0.004380</td>\n",
              "      <td>-0.004535</td>\n",
              "    </tr>\n",
              "    <tr>\n",
              "      <th>text_length</th>\n",
              "      <td>0.378359</td>\n",
              "      <td>1.000000</td>\n",
              "      <td>0.029498</td>\n",
              "      <td>-0.010077</td>\n",
              "      <td>0.014077</td>\n",
              "    </tr>\n",
              "    <tr>\n",
              "      <th>Year</th>\n",
              "      <td>0.004349</td>\n",
              "      <td>0.029498</td>\n",
              "      <td>1.000000</td>\n",
              "      <td>-0.304300</td>\n",
              "      <td>-0.054934</td>\n",
              "    </tr>\n",
              "    <tr>\n",
              "      <th>Month</th>\n",
              "      <td>-0.004380</td>\n",
              "      <td>-0.010077</td>\n",
              "      <td>-0.304300</td>\n",
              "      <td>1.000000</td>\n",
              "      <td>0.007355</td>\n",
              "    </tr>\n",
              "    <tr>\n",
              "      <th>Day</th>\n",
              "      <td>-0.004535</td>\n",
              "      <td>0.014077</td>\n",
              "      <td>-0.054934</td>\n",
              "      <td>0.007355</td>\n",
              "      <td>1.000000</td>\n",
              "    </tr>\n",
              "  </tbody>\n",
              "</table>\n",
              "</div>"
            ],
            "text/plain": [
              "             Fraudolent  text_length      Year     Month       Day\n",
              "Fraudolent     1.000000     0.378359  0.004349 -0.004380 -0.004535\n",
              "text_length    0.378359     1.000000  0.029498 -0.010077  0.014077\n",
              "Year           0.004349     0.029498  1.000000 -0.304300 -0.054934\n",
              "Month         -0.004380    -0.010077 -0.304300  1.000000  0.007355\n",
              "Day           -0.004535     0.014077 -0.054934  0.007355  1.000000"
            ]
          },
          "execution_count": 35,
          "metadata": {},
          "output_type": "execute_result"
        }
      ],
      "source": [
        "sms_df.corr()\n",
        "#Given the correlations calculated, we can see that there is no strong correlation whatsoever between the variables. This means that we can use all of them for our analysis.\n",
        "#We can also see that the correlation between the variables is not strong enough to cause multicollinearity issues.\n",
        "#we can interpet the correlation between Fraudolent and text_length as as weak correlation at most.\n"
      ]
    },
    {
      "cell_type": "markdown",
      "metadata": {},
      "source": [
        "By analyzing the correlation matrix, we can determine the following:\n",
        "• The correlation coefficient ranges from -1 to 1. A value of 1 indicates a perfect positive correlation, -1 indicates a perfect negative correlation, and 0 indicates no correlation.\n",
        "• Positive correlation coefficients indicate that the variables tend to increase or decrease together.\n",
        "• Negative correlation coefficients indicate that as one variable increases, the other tends to decrease.\n",
        "• The closer the correlation coefficient is to 1 or -1, the stronger the correlation.\n",
        "• A correlation coefficient close to\n",
        "O indicates no or weak correlation.\n",
        "\n",
        "Based on the correlation matrix, we can conclude that there is no strong correlation between the variables in the dataset. This means that all variables can be used for analysis without causing multicollinearity issues."
      ]
    },
    {
      "cell_type": "markdown",
      "metadata": {
        "id": "K-LoLD7zxXJj"
      },
      "source": [
        "Fortunately we don't have NaN values in the dataset, so it is consistent and we do not need to impute missing values."
      ]
    },
    {
      "cell_type": "markdown",
      "metadata": {
        "id": "zeMleYnc59Vb"
      },
      "source": [
        "## Data Distribution and Correlations ##\n",
        "\n",
        "* In this section, we are analyzing the distribution of data in the cartesian plane utilizing sns and matplotlib tools.\n",
        "\n",
        "* In particular, it seems that the most interesting feature to study in the dataset (in terms of distribution analysis) is the *Fraudolent* column."
      ]
    },
    {
      "cell_type": "code",
      "execution_count": 26,
      "metadata": {
        "colab": {
          "base_uri": "https://localhost:8080/",
          "height": 564
        },
        "id": "59KwlqWh57pd",
        "outputId": "29018ea0-e43e-45a6-e11a-7d58b233fe10"
      },
      "outputs": [
        {
          "data": {
            "image/png": "[encoded data removed]",
            "text/plain": [
              "<Figure size 1000x600 with 1 Axes>"
            ]
          },
          "metadata": {},
          "output_type": "display_data"
        }
      ],
      "source": [
        "\n",
        "column_to_analyze = 'Fraudolent'\n",
        "\n",
        "# Create a distribution plot (histogram) to visualize the data\n",
        "plt.figure(figsize=(10, 6))\n",
        "sns.histplot(sms_df[column_to_analyze], kde=True, bins=20, color='skyblue')\n",
        "plt.title(f'Distribution of {column_to_analyze}')\n",
        "plt.xlabel(column_to_analyze)\n",
        "plt.ylabel('Frequency')\n",
        "plt.grid(True)\n",
        "\n",
        "# Show the plot\n",
        "plt.show()"
      ]
    },
    {
      "cell_type": "code",
      "execution_count": 27,
      "metadata": {
        "colab": {
          "base_uri": "https://localhost:8080/",
          "height": 472
        },
        "id": "NBsXYPk2IigI",
        "outputId": "1a6694df-70c4-4465-dfcf-99bf4c4a3b84"
      },
      "outputs": [
        {
          "data": {
            "image/png": "[encoded data removed]",
            "text/plain": [
              "<Figure size 640x480 with 1 Axes>"
            ]
          },
          "metadata": {},
          "output_type": "display_data"
        }
      ],
      "source": [
        "# Visualize the distribution of Fraudolent\n",
        "sns.countplot(data=sms_df, x='Fraudolent')\n",
        "plt.title('Distribution of Fraudolent')\n",
        "plt.xlabel('Fraudolent')\n",
        "plt.ylabel('Count')\n",
        "plt.show()"
      ]
    },
    {
      "cell_type": "code",
      "execution_count": 28,
      "metadata": {},
      "outputs": [
        {
          "data": {
            "image/png": "[encoded data removed]",
            "text/plain": [
              "<Figure size 1000x600 with 1 Axes>"
            ]
          },
          "metadata": {},
          "output_type": "display_data"
        }
      ],
      "source": [
        "# Assuming the SMS text column is named 'SMS text'\n",
        "sms_df['text_length'] = sms_df['SMS test'].apply(len)\n",
        "\n",
        "# Visualize text length distribution\n",
        "plt.figure(figsize=(10, 6))\n",
        "sns.histplot(data=sms_df, x='text_length', kde=True, bins=50, color='skyblue')\n",
        "plt.title('Distribution of SMS Text Length')\n",
        "plt.xlabel('Text Length')\n",
        "plt.ylabel('Count')\n",
        "plt.show()\n"
      ]
    },
    {
      "cell_type": "code",
      "execution_count": 29,
      "metadata": {},
      "outputs": [
        {
          "data": {
            "image/png": "[encoded data removed]",
            "text/plain": [
              "<Figure size 1200x600 with 1 Axes>"
            ]
          },
          "metadata": {},
          "output_type": "display_data"
        }
      ],
      "source": [
        "\n",
        "# Assuming the Date and Time column is named 'Date and Time'\n",
        "sms_df['Date and Time'] = pd.to_datetime(sms_df['Date and Time'])\n",
        "\n",
        "# Extract date and time components\n",
        "sms_df['Year'] = sms_df['Date and Time'].dt.year\n",
        "sms_df['Month'] = sms_df['Date and Time'].dt.month\n",
        "sms_df['Day'] = sms_df['Date and Time'].dt.day\n",
        "\n",
        "# Visualize temporal distribution\n",
        "plt.figure(figsize=(12, 6))\n",
        "sns.countplot(x='Year', hue='Fraudolent', data=sms_df)\n",
        "plt.title('Temporal Distribution of SMS')\n",
        "plt.xlabel('Year')\n",
        "plt.ylabel('Count')\n",
        "plt.show()\n"
      ]
    },
    {
      "cell_type": "code",
      "execution_count": 37,
      "metadata": {},
      "outputs": [
        {
          "data": {
            "image/png": "[encoded data removed]",
            "text/plain": [
              "<Figure size 640x480 with 2 Axes>"
            ]
          },
          "metadata": {},
          "output_type": "display_data"
        }
      ],
      "source": [
        "# Doing the correlation matrix we need only to correlate the Fraudolent feature with the text length, so we can drop the other columns (ID, Date_and_Time, Year, Month, Day)\n",
        "df_dropped = sms_df.drop(['Year', 'Month', 'Day', 'ID', 'Date and Time'], axis=1, inplace=False)\n",
        "correlation_matrix = df_dropped.corr()\n",
        "sns.heatmap(correlation_matrix, annot=True, cmap='coolwarm')\n",
        "plt.title('Correlation Matrix')\n",
        "plt.show()\n",
        "\n",
        "#Given the correlations calculated, we can see that there is no strong correlation whatsoever between text_length and Fraudolent values. This means that we can use all of them for our analysis.\n",
        "#We can also see that the correlation between the variables is not strong enough to cause multicollinearity issues.\n",
        "#we can interpet the correlation between Fraudolent and text_length as as weak correlation at most.\n"
      ]
    },
    {
      "cell_type": "code",
      "execution_count": 31,
      "metadata": {},
      "outputs": [
        {
          "name": "stdout",
          "output_type": "stream",
          "text": [
            "Missing Values:\n",
            " Fraudolent       0\n",
            "SMS test         0\n",
            "ID               0\n",
            "Date and Time    0\n",
            "text_length      0\n",
            "Year             0\n",
            "Month            0\n",
            "Day              0\n",
            "dtype: int64\n"
          ]
        }
      ],
      "source": [
        "# Check for missing values (another way to do this without having to find Nan values)\n",
        "missing_values = sms_df.isnull().sum()\n",
        "print(\"Missing Values:\\n\", missing_values)\n",
        "\n",
        "# Remove duplicates or irrelevant columns\n",
        "# Assuming you want to drop the 'text_length' column created for analysis\n",
        "df = sms_df.drop(['text_length'], axis=1)\n"
      ]
    },
    {
      "cell_type": "code",
      "execution_count": 38,
      "metadata": {},
      "outputs": [
        {
          "data": {
            "text/html": [
              "<div>\n",
              "<style scoped>\n",
              "    .dataframe tbody tr th:only-of-type {\n",
              "        vertical-align: middle;\n",
              "    }\n",
              "\n",
              "    .dataframe tbody tr th {\n",
              "        vertical-align: top;\n",
              "    }\n",
              "\n",
              "    .dataframe thead th {\n",
              "        text-align: right;\n",
              "    }\n",
              "</style>\n",
              "<table border=\"1\" class=\"dataframe\">\n",
              "  <thead>\n",
              "    <tr style=\"text-align: right;\">\n",
              "      <th></th>\n",
              "      <th>Fraudolent</th>\n",
              "      <th>SMS test</th>\n",
              "    </tr>\n",
              "  </thead>\n",
              "  <tbody>\n",
              "    <tr>\n",
              "      <th>0</th>\n",
              "      <td>0</td>\n",
              "      <td>Squeeeeeze!! This is christmas hug.. If u lik ...</td>\n",
              "    </tr>\n",
              "    <tr>\n",
              "      <th>1</th>\n",
              "      <td>0</td>\n",
              "      <td>And also I've sorta blown him off a couple tim...</td>\n",
              "    </tr>\n",
              "    <tr>\n",
              "      <th>2</th>\n",
              "      <td>0</td>\n",
              "      <td>Mmm thats better now i got a roast down me! i...</td>\n",
              "    </tr>\n",
              "    <tr>\n",
              "      <th>3</th>\n",
              "      <td>0</td>\n",
              "      <td>Mm have some kanji dont eat anything heavy ok</td>\n",
              "    </tr>\n",
              "    <tr>\n",
              "      <th>4</th>\n",
              "      <td>0</td>\n",
              "      <td>So there's a ring that comes with the guys cos...</td>\n",
              "    </tr>\n",
              "  </tbody>\n",
              "</table>\n",
              "</div>"
            ],
            "text/plain": [
              "   Fraudolent                                           SMS test\n",
              "0           0  Squeeeeeze!! This is christmas hug.. If u lik ...\n",
              "1           0  And also I've sorta blown him off a couple tim...\n",
              "2           0  Mmm thats better now i got a roast down me! i...\n",
              "3           0      Mm have some kanji dont eat anything heavy ok\n",
              "4           0  So there's a ring that comes with the guys cos..."
            ]
          },
          "execution_count": 38,
          "metadata": {},
          "output_type": "execute_result"
        }
      ],
      "source": [
        "# Remove duplicates or irrelevant columns\n",
        "# Assuming you want to drop the 'text_length' column created for analysis\n",
        "df_dropped1 = df_dropped.drop(['text_length'], axis=1)\n",
        "df_dropped1.head()"
      ]
    },
    {
      "cell_type": "markdown",
      "metadata": {
        "id": "IANKuBYtqmT4"
      },
      "source": [
        "# Preprocessing\n",
        "\n",
        "* In this section we will try to transform the data into a more suitable format for machine learning Algorithms, using various methods: cleaning data, encoding categorial features, scaling numerical features.\n",
        "\n",
        "* We will also have to encode categorical values using OneHotEncoding.\n"
      ]
    },
    {
      "cell_type": "code",
      "execution_count": 32,
      "metadata": {
        "colab": {
          "base_uri": "https://localhost:8080/"
        },
        "id": "KJeRZ0Gq2BOs",
        "outputId": "fc012105-1232-4921-e4c8-9f60246e5bba"
      },
      "outputs": [
        {
          "name": "stdout",
          "output_type": "stream",
          "text": [
            "  (0, 3732)\t1.0\n",
            "  (1, 260)\t1.0\n",
            "  (2, 2711)\t1.0\n",
            "  (3, 2701)\t1.0\n",
            "  (4, 3619)\t1.0\n",
            "  (5, 3494)\t1.0\n",
            "  (6, 2630)\t1.0\n",
            "  (7, 2771)\t1.0\n",
            "  (8, 683)\t1.0\n",
            "  (9, 2115)\t1.0\n",
            "  (10, 2589)\t1.0\n",
            "  (11, 2871)\t1.0\n",
            "  (12, 2166)\t1.0\n",
            "  (13, 903)\t1.0\n",
            "  (14, 936)\t1.0\n",
            "  (15, 3583)\t1.0\n",
            "  (16, 638)\t1.0\n",
            "  (17, 1432)\t1.0\n",
            "  (18, 958)\t1.0\n",
            "  (19, 3966)\t1.0\n",
            "  (20, 4718)\t1.0\n",
            "  (21, 641)\t1.0\n",
            "  (22, 907)\t1.0\n",
            "  (23, 1838)\t1.0\n",
            "  (24, 4025)\t1.0\n",
            "  :\t:\n",
            "  (5547, 3795)\t1.0\n",
            "  (5548, 386)\t1.0\n",
            "  (5549, 4496)\t1.0\n",
            "  (5550, 933)\t1.0\n",
            "  (5551, 4091)\t1.0\n",
            "  (5552, 241)\t1.0\n",
            "  (5553, 2038)\t1.0\n",
            "  (5554, 2500)\t1.0\n",
            "  (5555, 3411)\t1.0\n",
            "  (5556, 971)\t1.0\n",
            "  (5557, 1774)\t1.0\n",
            "  (5558, 784)\t1.0\n",
            "  (5559, 2487)\t1.0\n",
            "  (5560, 3833)\t1.0\n",
            "  (5561, 2649)\t1.0\n",
            "  (5562, 4936)\t1.0\n",
            "  (5563, 2415)\t1.0\n",
            "  (5564, 1051)\t1.0\n",
            "  (5565, 5023)\t1.0\n",
            "  (5566, 2535)\t1.0\n",
            "  (5567, 1543)\t1.0\n",
            "  (5568, 3697)\t1.0\n",
            "  (5569, 3363)\t1.0\n",
            "  (5570, 2992)\t1.0\n",
            "  (5571, 717)\t1.0\n"
          ]
        }
      ],
      "source": [
        "encoder = OneHotEncoder()   # not necessary\n",
        "\n",
        "cols= encoder.fit_transform(sms_df[['SMS test']])\n",
        "\n",
        "print(cols)"
      ]
    },
    {
      "cell_type": "code",
      "execution_count": 33,
      "metadata": {
        "colab": {
          "base_uri": "https://localhost:8080/",
          "height": 620
        },
        "id": "oQekyZXm3lpl",
        "outputId": "6e6ca5bf-55ef-4e53-a640-88d6d97e6272"
      },
      "outputs": [
        {
          "data": {
            "text/html": [
              "<div>\n",
              "<style scoped>\n",
              "    .dataframe tbody tr th:only-of-type {\n",
              "        vertical-align: middle;\n",
              "    }\n",
              "\n",
              "    .dataframe tbody tr th {\n",
              "        vertical-align: top;\n",
              "    }\n",
              "\n",
              "    .dataframe thead th {\n",
              "        text-align: right;\n",
              "    }\n",
              "</style>\n",
              "<table border=\"1\" class=\"dataframe\">\n",
              "  <thead>\n",
              "    <tr style=\"text-align: right;\">\n",
              "      <th></th>\n",
              "      <th>Fraudolent</th>\n",
              "      <th>SMS test</th>\n",
              "      <th>ID</th>\n",
              "      <th>text_length</th>\n",
              "      <th>Year</th>\n",
              "      <th>Month</th>\n",
              "      <th>Day</th>\n",
              "      <th>Date and Time_2016-02-15 00:00:00</th>\n",
              "      <th>Date and Time_2016-02-16 00:00:00</th>\n",
              "      <th>Date and Time_2016-02-17 00:00:00</th>\n",
              "      <th>...</th>\n",
              "      <th>Date and Time_2018-09-10 00:00:00</th>\n",
              "      <th>Date and Time_2018-09-11 00:00:00</th>\n",
              "      <th>Date and Time_2018-09-12 00:00:00</th>\n",
              "      <th>Date and Time_2018-09-13 00:00:00</th>\n",
              "      <th>Date and Time_2018-09-14 00:00:00</th>\n",
              "      <th>Date and Time_2018-09-15 00:00:00</th>\n",
              "      <th>Date and Time_2018-09-16 00:00:00</th>\n",
              "      <th>Date and Time_2018-09-17 00:00:00</th>\n",
              "      <th>Date and Time_2018-09-18 00:00:00</th>\n",
              "      <th>Date and Time_2018-09-19 00:00:00</th>\n",
              "    </tr>\n",
              "  </thead>\n",
              "  <tbody>\n",
              "    <tr>\n",
              "      <th>0</th>\n",
              "      <td>0</td>\n",
              "      <td>Squeeeeeze!! This is christmas hug.. If u lik ...</td>\n",
              "      <td>1EWYRBL</td>\n",
              "      <td>147</td>\n",
              "      <td>2017</td>\n",
              "      <td>12</td>\n",
              "      <td>2</td>\n",
              "      <td>0</td>\n",
              "      <td>0</td>\n",
              "      <td>0</td>\n",
              "      <td>...</td>\n",
              "      <td>0</td>\n",
              "      <td>0</td>\n",
              "      <td>0</td>\n",
              "      <td>0</td>\n",
              "      <td>0</td>\n",
              "      <td>0</td>\n",
              "      <td>0</td>\n",
              "      <td>0</td>\n",
              "      <td>0</td>\n",
              "      <td>0</td>\n",
              "    </tr>\n",
              "    <tr>\n",
              "      <th>1</th>\n",
              "      <td>0</td>\n",
              "      <td>And also I've sorta blown him off a couple tim...</td>\n",
              "      <td>ZY4PDK7</td>\n",
              "      <td>116</td>\n",
              "      <td>2018</td>\n",
              "      <td>3</td>\n",
              "      <td>23</td>\n",
              "      <td>0</td>\n",
              "      <td>0</td>\n",
              "      <td>0</td>\n",
              "      <td>...</td>\n",
              "      <td>0</td>\n",
              "      <td>0</td>\n",
              "      <td>0</td>\n",
              "      <td>0</td>\n",
              "      <td>0</td>\n",
              "      <td>0</td>\n",
              "      <td>0</td>\n",
              "      <td>0</td>\n",
              "      <td>0</td>\n",
              "      <td>0</td>\n",
              "    </tr>\n",
              "    <tr>\n",
              "      <th>2</th>\n",
              "      <td>0</td>\n",
              "      <td>Mmm thats better now i got a roast down me! i...</td>\n",
              "      <td>KLUX2C6</td>\n",
              "      <td>102</td>\n",
              "      <td>2016</td>\n",
              "      <td>10</td>\n",
              "      <td>29</td>\n",
              "      <td>0</td>\n",
              "      <td>0</td>\n",
              "      <td>0</td>\n",
              "      <td>...</td>\n",
              "      <td>0</td>\n",
              "      <td>0</td>\n",
              "      <td>0</td>\n",
              "      <td>0</td>\n",
              "      <td>0</td>\n",
              "      <td>0</td>\n",
              "      <td>0</td>\n",
              "      <td>0</td>\n",
              "      <td>0</td>\n",
              "      <td>0</td>\n",
              "    </tr>\n",
              "    <tr>\n",
              "      <th>3</th>\n",
              "      <td>0</td>\n",
              "      <td>Mm have some kanji dont eat anything heavy ok</td>\n",
              "      <td>955HXJ0</td>\n",
              "      <td>45</td>\n",
              "      <td>2018</td>\n",
              "      <td>4</td>\n",
              "      <td>12</td>\n",
              "      <td>0</td>\n",
              "      <td>0</td>\n",
              "      <td>0</td>\n",
              "      <td>...</td>\n",
              "      <td>0</td>\n",
              "      <td>0</td>\n",
              "      <td>0</td>\n",
              "      <td>0</td>\n",
              "      <td>0</td>\n",
              "      <td>0</td>\n",
              "      <td>0</td>\n",
              "      <td>0</td>\n",
              "      <td>0</td>\n",
              "      <td>0</td>\n",
              "    </tr>\n",
              "    <tr>\n",
              "      <th>4</th>\n",
              "      <td>0</td>\n",
              "      <td>So there's a ring that comes with the guys cos...</td>\n",
              "      <td>00Q6EUC</td>\n",
              "      <td>112</td>\n",
              "      <td>2016</td>\n",
              "      <td>8</td>\n",
              "      <td>1</td>\n",
              "      <td>0</td>\n",
              "      <td>0</td>\n",
              "      <td>0</td>\n",
              "      <td>...</td>\n",
              "      <td>0</td>\n",
              "      <td>0</td>\n",
              "      <td>0</td>\n",
              "      <td>0</td>\n",
              "      <td>0</td>\n",
              "      <td>0</td>\n",
              "      <td>0</td>\n",
              "      <td>0</td>\n",
              "      <td>0</td>\n",
              "      <td>0</td>\n",
              "    </tr>\n",
              "  </tbody>\n",
              "</table>\n",
              "<p>5 rows × 953 columns</p>\n",
              "</div>"
            ],
            "text/plain": [
              "   Fraudolent                                           SMS test       ID  \\\n",
              "0           0  Squeeeeeze!! This is christmas hug.. If u lik ...  1EWYRBL   \n",
              "1           0  And also I've sorta blown him off a couple tim...  ZY4PDK7   \n",
              "2           0  Mmm thats better now i got a roast down me! i...  KLUX2C6   \n",
              "3           0      Mm have some kanji dont eat anything heavy ok  955HXJ0   \n",
              "4           0  So there's a ring that comes with the guys cos...  00Q6EUC   \n",
              "\n",
              "   text_length  Year  Month  Day  Date and Time_2016-02-15 00:00:00  \\\n",
              "0          147  2017     12    2                                  0   \n",
              "1          116  2018      3   23                                  0   \n",
              "2          102  2016     10   29                                  0   \n",
              "3           45  2018      4   12                                  0   \n",
              "4          112  2016      8    1                                  0   \n",
              "\n",
              "   Date and Time_2016-02-16 00:00:00  Date and Time_2016-02-17 00:00:00  ...  \\\n",
              "0                                  0                                  0  ...   \n",
              "1                                  0                                  0  ...   \n",
              "2                                  0                                  0  ...   \n",
              "3                                  0                                  0  ...   \n",
              "4                                  0                                  0  ...   \n",
              "\n",
              "   Date and Time_2018-09-10 00:00:00  Date and Time_2018-09-11 00:00:00  \\\n",
              "0                                  0                                  0   \n",
              "1                                  0                                  0   \n",
              "2                                  0                                  0   \n",
              "3                                  0                                  0   \n",
              "4                                  0                                  0   \n",
              "\n",
              "   Date and Time_2018-09-12 00:00:00  Date and Time_2018-09-13 00:00:00  \\\n",
              "0                                  0                                  0   \n",
              "1                                  0                                  0   \n",
              "2                                  0                                  0   \n",
              "3                                  0                                  0   \n",
              "4                                  0                                  0   \n",
              "\n",
              "   Date and Time_2018-09-14 00:00:00  Date and Time_2018-09-15 00:00:00  \\\n",
              "0                                  0                                  0   \n",
              "1                                  0                                  0   \n",
              "2                                  0                                  0   \n",
              "3                                  0                                  0   \n",
              "4                                  0                                  0   \n",
              "\n",
              "   Date and Time_2018-09-16 00:00:00  Date and Time_2018-09-17 00:00:00  \\\n",
              "0                                  0                                  0   \n",
              "1                                  0                                  0   \n",
              "2                                  0                                  0   \n",
              "3                                  0                                  0   \n",
              "4                                  0                                  0   \n",
              "\n",
              "   Date and Time_2018-09-18 00:00:00  Date and Time_2018-09-19 00:00:00  \n",
              "0                                  0                                  0  \n",
              "1                                  0                                  0  \n",
              "2                                  0                                  0  \n",
              "3                                  0                                  0  \n",
              "4                                  0                                  0  \n",
              "\n",
              "[5 rows x 953 columns]"
            ]
          },
          "execution_count": 33,
          "metadata": {},
          "output_type": "execute_result"
        }
      ],
      "source": [
        "pd.get_dummies(sms_df, columns = ['Date and Time']).head() # a pandas built-in function to encode categorical values"
      ]
    },
    {
      "cell_type": "code",
      "execution_count": 34,
      "metadata": {
        "colab": {
          "base_uri": "https://localhost:8080/"
        },
        "id": "Kpn1wZD5WkDB",
        "outputId": "95ffbe67-af62-49f9-e21f-280ecca710ce"
      },
      "outputs": [
        {
          "name": "stdout",
          "output_type": "stream",
          "text": [
            "\n",
            "[[-0.39347002  1.11197044  0.07558843  1.74517427 -1.56722169]\n",
            " [-0.39347002  0.5946275   1.34419902 -1.0181423   0.80465146]\n",
            " [-0.39347002  0.36098876 -1.19302217  1.13110392  1.4823295 ]\n",
            " [-0.39347002 -0.59025471  1.34419902 -0.71110713 -0.43775829]\n",
            " [-0.39347002  0.52787357 -1.19302217  0.51703357 -1.68016803]]\n"
          ]
        }
      ],
      "source": [
        "from sklearn.preprocessing import StandardScaler\n",
        "\n",
        "X = sms_df.drop(['SMS test', 'ID', 'Date and Time'], axis=1).values # We discard the categorical values\n",
        "\n",
        "# Scale the dataset\n",
        "scaler = StandardScaler()\n",
        "X = scaler.fit_transform(X)\n",
        "\n",
        "print()\n",
        "print(X[:5, :])  # Displaying the first 5 rows (axis 0) and all columns (axis 1) of the numpy.ndarray"
      ]
    }
  ],
  "metadata": {
    "colab": {
      "authorship_tag": "ABX9TyOxlxZHKyqGVh1d+ZBeIcfD",
      "provenance": []
    },
    "kernelspec": {
      "display_name": "Python 3",
      "name": "python3"
    },
    "language_info": {
      "codemirror_mode": {
        "name": "ipython",
        "version": 3
      },
      "file_extension": ".py",
      "mimetype": "text/x-python",
      "name": "python",
      "nbconvert_exporter": "python",
      "pygments_lexer": "ipython3",
      "version": "3.9.12"
    }
  },
  "nbformat": 4,
  "nbformat_minor": 0
}
