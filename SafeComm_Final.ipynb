{
  "cells": [
    {
      "cell_type": "markdown",
      "metadata": {
        "id": "zLXNWWdwhgVd"
      },
      "source": [
        "# SafeComm-Digital-Security-Solutions\n",
        "\n",
        "Welcome to SafeComm Digital Security Solutions! In the modern digital age, people across the globe\n",
        "communicate largely through text messages. SMSs have become an integral part of our daily lives.\n",
        "However, with this ease of communication, there comes a dark side: SMS-based fraud. Unsuspecting\n",
        "individuals often receive malicious or scam texts intending to deceive or cause harm.\n",
        "SafeComm has recently partnered with a major telecom provider that has shared anonymized SMS\n",
        "data. This dataset comprises a mix of regular day-to-day messages and some potentially fraudulent\n",
        "ones. The objective is to design a mechanism that identifies and flags these fraudulent messages\n",
        "automatically. This way, we can warn users or even prevent these messages from being delivered\n",
        "altogether.\n",
        "\n",
        "# *Dataset features*\n",
        "\n",
        "• Fraudulent: Binary indicator if the SMS is fraudulent (1 for Yes, 0 for No)\n",
        "\n",
        "• SMS Text: The content of the SMS\n",
        "\n",
        "• ID: A unique identifier for each SMS\n",
        "\n",
        "• Date and Time: Timestamp indicating when the SMS was sent\n",
        "\n",
        "# *Assignment*\n",
        "\n",
        "• Perform an Explanatory data analysis (EDA) with visualization using the entire dataset..\n",
        "\n",
        "• Preprocess the dataset (impute missing values, encode categorical features with one-hot\n",
        "encoding). Your goal is to estimate whether an SMS is fraudulent\n",
        "\n",
        "• Define whether this is a regression, classification or clustering problem, explain why and\n",
        "choose your model design accordingly. Test at least 3 different models. First, create a\n",
        "validation set from the training set to analyze the behaviour with the default\n",
        "hyperparameters. Then use cross-validation to find the best set of hyperparameters. You\n",
        "must describe every hyperparameter tuned (the more, the better)\n",
        "\n",
        "• Select the best architecture using the right metric\n",
        "\n",
        "• Compute the performances of the test set\n",
        "\n",
        "• Explain your results"
      ]
    },
    {
      "cell_type": "code",
      "execution_count": 1,
      "metadata": {
        "id": "HJuWXEAVSoMp"
      },
      "outputs": [],
      "source": [
        "import numpy as np\n",
        "import sklearn as skl\n",
        "import pandas as pd\n",
        "import matplotlib.pyplot as plt\n",
        "import seaborn as sns\n",
        "from sklearn.preprocessing import OneHotEncoder\n",
        "from sklearn.preprocessing import StandardScaler\n",
        "import requests\n",
        "import zipfile\n",
        "import os\n",
        "\n",
        "import nltk, spacy\n",
        "import re, string, unicodedata\n",
        "from bs4 import BeautifulSoup\n",
        "from sklearn.linear_model import LogisticRegression, SGDClassifier\n",
        "from sklearn.model_selection import train_test_split\n",
        "from sklearn.svm import SVC\n",
        "from sklearn.metrics import classification_report,confusion_matrix,accuracy_score\n",
        "from sklearn.feature_extraction.text import CountVectorizer\n",
        "from sklearn.feature_extraction.text import TfidfVectorizer\n",
        "from sklearn.preprocessing import LabelBinarizer\n",
        "from nltk.corpus import stopwords\n",
        "from nltk.stem.porter import PorterStemmer\n",
        "from nltk.stem import WordNetLemmatizer\n",
        "from nltk.tokenize.toktok import ToktokTokenizer\n",
        "from nltk.stem import LancasterStemmer,WordNetLemmatizer\n",
        "from wordcloud import WordCloud,STOPWORDS\n",
        "from sklearn import svm\n",
        "from sklearn.naive_bayes import MultinomialNB\n",
        "\n",
        "from imblearn.over_sampling import RandomOverSampler\n"
      ]
    },
    {
      "cell_type": "markdown",
      "metadata": {
        "id": "jLmGXXJFqkrF"
      },
      "source": [
        "## EDA analysis ##\n",
        "\n",
        "* Understanding the Dataset: We use python libraries to scan the dataset and gain insight of its structure\n",
        "\n",
        "* Checking for Integrity: We scan the dataset to identify NaN values and check if the dataset is consistent\n",
        "\n",
        "* Visualize Distribution of Data: using sns and matplotlib we can see how the data is structured in the cartesian plane\n",
        "\n",
        "* Use pairplots for identify relationships: Apparently not necessary"
      ]
    },
    {
      "cell_type": "markdown",
      "metadata": {
        "id": "yEh2tBbc65bh"
      },
      "source": [
        "# Showing the dataframe\n",
        "\n",
        "* here we display the complete dataset in a dataframe with 4 columns:\n",
        "  - *Fraudolent*: a binary value, that acts like a boolean, that assumes the value of 0 when the sms is not spam; 1 when it is fraudolent.\n",
        "  - *SMS test*: a string of text, representing an sms.\n",
        "  - *ID*: a unique alphanumeric code of 7 digits that represents the sms message.\n",
        "  - *Date and Time*: time in which the message has been sent (it is formatted as date and time)\n",
        "\n",
        "* Plus, for operational purposes, we needed to reformat the name of the *SMS test* and *Date and Time* columns."
      ]
    },
    {
      "cell_type": "code",
      "execution_count": 2,
      "metadata": {
        "colab": {
          "base_uri": "https://localhost:8080/",
          "height": 206
        },
        "id": "Qm9lUowvwMUc",
        "outputId": "7ec23d48-e175-4f58-ef0b-d37841415f81"
      },
      "outputs": [
        {
          "output_type": "execute_result",
          "data": {
            "text/plain": [
              "   Fraudolent                                           SMS_test       ID  \\\n",
              "0           0  Squeeeeeze!! This is christmas hug.. If u lik ...  1EWYRBL   \n",
              "1           0  And also I've sorta blown him off a couple tim...  ZY4PDK7   \n",
              "2           0  Mmm thats better now i got a roast down me! i...  KLUX2C6   \n",
              "3           0      Mm have some kanji dont eat anything heavy ok  955HXJ0   \n",
              "4           0  So there's a ring that comes with the guys cos...  00Q6EUC   \n",
              "\n",
              "  Date_and_Time  \n",
              "0    2017-12-02  \n",
              "1    2018-03-23  \n",
              "2    2016-10-29  \n",
              "3    2018-04-12  \n",
              "4    2016-08-01  "
            ],
            "text/html": [
              "\n",
              "  <div id=\"df-4bbb67ab-3c63-44fd-8330-0fa805e14fb7\" class=\"colab-df-container\">\n",
              "    <div>\n",
              "<style scoped>\n",
              "    .dataframe tbody tr th:only-of-type {\n",
              "        vertical-align: middle;\n",
              "    }\n",
              "\n",
              "    .dataframe tbody tr th {\n",
              "        vertical-align: top;\n",
              "    }\n",
              "\n",
              "    .dataframe thead th {\n",
              "        text-align: right;\n",
              "    }\n",
              "</style>\n",
              "<table border=\"1\" class=\"dataframe\">\n",
              "  <thead>\n",
              "    <tr style=\"text-align: right;\">\n",
              "      <th></th>\n",
              "      <th>Fraudolent</th>\n",
              "      <th>SMS_test</th>\n",
              "      <th>ID</th>\n",
              "      <th>Date_and_Time</th>\n",
              "    </tr>\n",
              "  </thead>\n",
              "  <tbody>\n",
              "    <tr>\n",
              "      <th>0</th>\n",
              "      <td>0</td>\n",
              "      <td>Squeeeeeze!! This is christmas hug.. If u lik ...</td>\n",
              "      <td>1EWYRBL</td>\n",
              "      <td>2017-12-02</td>\n",
              "    </tr>\n",
              "    <tr>\n",
              "      <th>1</th>\n",
              "      <td>0</td>\n",
              "      <td>And also I've sorta blown him off a couple tim...</td>\n",
              "      <td>ZY4PDK7</td>\n",
              "      <td>2018-03-23</td>\n",
              "    </tr>\n",
              "    <tr>\n",
              "      <th>2</th>\n",
              "      <td>0</td>\n",
              "      <td>Mmm thats better now i got a roast down me! i...</td>\n",
              "      <td>KLUX2C6</td>\n",
              "      <td>2016-10-29</td>\n",
              "    </tr>\n",
              "    <tr>\n",
              "      <th>3</th>\n",
              "      <td>0</td>\n",
              "      <td>Mm have some kanji dont eat anything heavy ok</td>\n",
              "      <td>955HXJ0</td>\n",
              "      <td>2018-04-12</td>\n",
              "    </tr>\n",
              "    <tr>\n",
              "      <th>4</th>\n",
              "      <td>0</td>\n",
              "      <td>So there's a ring that comes with the guys cos...</td>\n",
              "      <td>00Q6EUC</td>\n",
              "      <td>2016-08-01</td>\n",
              "    </tr>\n",
              "  </tbody>\n",
              "</table>\n",
              "</div>\n",
              "    <div class=\"colab-df-buttons\">\n",
              "\n",
              "  <div class=\"colab-df-container\">\n",
              "    <button class=\"colab-df-convert\" onclick=\"convertToInteractive('df-4bbb67ab-3c63-44fd-8330-0fa805e14fb7')\"\n",
              "            title=\"Convert this dataframe to an interactive table.\"\n",
              "            style=\"display:none;\">\n",
              "\n",
              "  <svg xmlns=\"http://www.w3.org/2000/svg\" height=\"24px\" viewBox=\"0 -960 960 960\">\n",
              "    <path d=\"M120-120v-720h720v720H120Zm60-500h600v-160H180v160Zm220 220h160v-160H400v160Zm0 220h160v-160H400v160ZM180-400h160v-160H180v160Zm440 0h160v-160H620v160ZM180-180h160v-160H180v160Zm440 0h160v-160H620v160Z\"/>\n",
              "  </svg>\n",
              "    </button>\n",
              "\n",
              "  <style>\n",
              "    .colab-df-container {\n",
              "      display:flex;\n",
              "      gap: 12px;\n",
              "    }\n",
              "\n",
              "    .colab-df-convert {\n",
              "      background-color: #E8F0FE;\n",
              "      border: none;\n",
              "      border-radius: 50%;\n",
              "      cursor: pointer;\n",
              "      display: none;\n",
              "      fill: #1967D2;\n",
              "      height: 32px;\n",
              "      padding: 0 0 0 0;\n",
              "      width: 32px;\n",
              "    }\n",
              "\n",
              "    .colab-df-convert:hover {\n",
              "      background-color: #E2EBFA;\n",
              "      box-shadow: 0px 1px 2px rgba(60, 64, 67, 0.3), 0px 1px 3px 1px rgba(60, 64, 67, 0.15);\n",
              "      fill: #174EA6;\n",
              "    }\n",
              "\n",
              "    .colab-df-buttons div {\n",
              "      margin-bottom: 4px;\n",
              "    }\n",
              "\n",
              "    [theme=dark] .colab-df-convert {\n",
              "      background-color: #3B4455;\n",
              "      fill: #D2E3FC;\n",
              "    }\n",
              "\n",
              "    [theme=dark] .colab-df-convert:hover {\n",
              "      background-color: #434B5C;\n",
              "      box-shadow: 0px 1px 3px 1px rgba(0, 0, 0, 0.15);\n",
              "      filter: drop-shadow(0px 1px 2px rgba(0, 0, 0, 0.3));\n",
              "      fill: #FFFFFF;\n",
              "    }\n",
              "  </style>\n",
              "\n",
              "    <script>\n",
              "      const buttonEl =\n",
              "        document.querySelector('#df-4bbb67ab-3c63-44fd-8330-0fa805e14fb7 button.colab-df-convert');\n",
              "      buttonEl.style.display =\n",
              "        google.colab.kernel.accessAllowed ? 'block' : 'none';\n",
              "\n",
              "      async function convertToInteractive(key) {\n",
              "        const element = document.querySelector('#df-4bbb67ab-3c63-44fd-8330-0fa805e14fb7');\n",
              "        const dataTable =\n",
              "          await google.colab.kernel.invokeFunction('convertToInteractive',\n",
              "                                                    [key], {});\n",
              "        if (!dataTable) return;\n",
              "\n",
              "        const docLinkHtml = 'Like what you see? Visit the ' +\n",
              "          '<a target=\"_blank\" href=https://colab.research.google.com/notebooks/data_table.ipynb>data table notebook</a>'\n",
              "          + ' to learn more about interactive tables.';\n",
              "        element.innerHTML = '';\n",
              "        dataTable['output_type'] = 'display_data';\n",
              "        await google.colab.output.renderOutput(dataTable, element);\n",
              "        const docLink = document.createElement('div');\n",
              "        docLink.innerHTML = docLinkHtml;\n",
              "        element.appendChild(docLink);\n",
              "      }\n",
              "    </script>\n",
              "  </div>\n",
              "\n",
              "\n",
              "<div id=\"df-1b25976d-6f4e-4ea8-9359-d66e7ba6f43f\">\n",
              "  <button class=\"colab-df-quickchart\" onclick=\"quickchart('df-1b25976d-6f4e-4ea8-9359-d66e7ba6f43f')\"\n",
              "            title=\"Suggest charts\"\n",
              "            style=\"display:none;\">\n",
              "\n",
              "<svg xmlns=\"http://www.w3.org/2000/svg\" height=\"24px\"viewBox=\"0 0 24 24\"\n",
              "     width=\"24px\">\n",
              "    <g>\n",
              "        <path d=\"M19 3H5c-1.1 0-2 .9-2 2v14c0 1.1.9 2 2 2h14c1.1 0 2-.9 2-2V5c0-1.1-.9-2-2-2zM9 17H7v-7h2v7zm4 0h-2V7h2v10zm4 0h-2v-4h2v4z\"/>\n",
              "    </g>\n",
              "</svg>\n",
              "  </button>\n",
              "\n",
              "<style>\n",
              "  .colab-df-quickchart {\n",
              "      --bg-color: #E8F0FE;\n",
              "      --fill-color: #1967D2;\n",
              "      --hover-bg-color: #E2EBFA;\n",
              "      --hover-fill-color: #174EA6;\n",
              "      --disabled-fill-color: #AAA;\n",
              "      --disabled-bg-color: #DDD;\n",
              "  }\n",
              "\n",
              "  [theme=dark] .colab-df-quickchart {\n",
              "      --bg-color: #3B4455;\n",
              "      --fill-color: #D2E3FC;\n",
              "      --hover-bg-color: #434B5C;\n",
              "      --hover-fill-color: #FFFFFF;\n",
              "      --disabled-bg-color: #3B4455;\n",
              "      --disabled-fill-color: #666;\n",
              "  }\n",
              "\n",
              "  .colab-df-quickchart {\n",
              "    background-color: var(--bg-color);\n",
              "    border: none;\n",
              "    border-radius: 50%;\n",
              "    cursor: pointer;\n",
              "    display: none;\n",
              "    fill: var(--fill-color);\n",
              "    height: 32px;\n",
              "    padding: 0;\n",
              "    width: 32px;\n",
              "  }\n",
              "\n",
              "  .colab-df-quickchart:hover {\n",
              "    background-color: var(--hover-bg-color);\n",
              "    box-shadow: 0 1px 2px rgba(60, 64, 67, 0.3), 0 1px 3px 1px rgba(60, 64, 67, 0.15);\n",
              "    fill: var(--button-hover-fill-color);\n",
              "  }\n",
              "\n",
              "  .colab-df-quickchart-complete:disabled,\n",
              "  .colab-df-quickchart-complete:disabled:hover {\n",
              "    background-color: var(--disabled-bg-color);\n",
              "    fill: var(--disabled-fill-color);\n",
              "    box-shadow: none;\n",
              "  }\n",
              "\n",
              "  .colab-df-spinner {\n",
              "    border: 2px solid var(--fill-color);\n",
              "    border-color: transparent;\n",
              "    border-bottom-color: var(--fill-color);\n",
              "    animation:\n",
              "      spin 1s steps(1) infinite;\n",
              "  }\n",
              "\n",
              "  @keyframes spin {\n",
              "    0% {\n",
              "      border-color: transparent;\n",
              "      border-bottom-color: var(--fill-color);\n",
              "      border-left-color: var(--fill-color);\n",
              "    }\n",
              "    20% {\n",
              "      border-color: transparent;\n",
              "      border-left-color: var(--fill-color);\n",
              "      border-top-color: var(--fill-color);\n",
              "    }\n",
              "    30% {\n",
              "      border-color: transparent;\n",
              "      border-left-color: var(--fill-color);\n",
              "      border-top-color: var(--fill-color);\n",
              "      border-right-color: var(--fill-color);\n",
              "    }\n",
              "    40% {\n",
              "      border-color: transparent;\n",
              "      border-right-color: var(--fill-color);\n",
              "      border-top-color: var(--fill-color);\n",
              "    }\n",
              "    60% {\n",
              "      border-color: transparent;\n",
              "      border-right-color: var(--fill-color);\n",
              "    }\n",
              "    80% {\n",
              "      border-color: transparent;\n",
              "      border-right-color: var(--fill-color);\n",
              "      border-bottom-color: var(--fill-color);\n",
              "    }\n",
              "    90% {\n",
              "      border-color: transparent;\n",
              "      border-bottom-color: var(--fill-color);\n",
              "    }\n",
              "  }\n",
              "</style>\n",
              "\n",
              "  <script>\n",
              "    async function quickchart(key) {\n",
              "      const quickchartButtonEl =\n",
              "        document.querySelector('#' + key + ' button');\n",
              "      quickchartButtonEl.disabled = true;  // To prevent multiple clicks.\n",
              "      quickchartButtonEl.classList.add('colab-df-spinner');\n",
              "      try {\n",
              "        const charts = await google.colab.kernel.invokeFunction(\n",
              "            'suggestCharts', [key], {});\n",
              "      } catch (error) {\n",
              "        console.error('Error during call to suggestCharts:', error);\n",
              "      }\n",
              "      quickchartButtonEl.classList.remove('colab-df-spinner');\n",
              "      quickchartButtonEl.classList.add('colab-df-quickchart-complete');\n",
              "    }\n",
              "    (() => {\n",
              "      let quickchartButtonEl =\n",
              "        document.querySelector('#df-1b25976d-6f4e-4ea8-9359-d66e7ba6f43f button');\n",
              "      quickchartButtonEl.style.display =\n",
              "        google.colab.kernel.accessAllowed ? 'block' : 'none';\n",
              "    })();\n",
              "  </script>\n",
              "</div>\n",
              "    </div>\n",
              "  </div>\n"
            ]
          },
          "metadata": {},
          "execution_count": 2
        }
      ],
      "source": [
        "sms_df = pd.read_csv(\"sms.csv\")\n",
        "sms_df.rename(columns={'SMS test': 'SMS_test'}, inplace=True)\n",
        "sms_df.rename(columns={'Date and Time': 'Date_and_Time'}, inplace=True)\n",
        "sms_df.head()"
      ]
    },
    {
      "cell_type": "code",
      "execution_count": 3,
      "metadata": {
        "colab": {
          "base_uri": "https://localhost:8080/"
        },
        "id": "jy6wNauLxN0r",
        "outputId": "a2cb7cfa-1481-4405-f95c-a313d13dbd47"
      },
      "outputs": [
        {
          "output_type": "stream",
          "name": "stdout",
          "text": [
            "Rows: 5572\n"
          ]
        }
      ],
      "source": [
        "print(\"Rows:\",sms_df.shape[0]) # In this way we gain knowledge about the real dimensions of the dataset in terms of rows"
      ]
    },
    {
      "cell_type": "code",
      "execution_count": 4,
      "metadata": {
        "colab": {
          "base_uri": "https://localhost:8080/"
        },
        "id": "6noBNCcVxLq0",
        "outputId": "8f2cca92-760c-4d63-89ec-3888a3b7d5b5"
      },
      "outputs": [
        {
          "output_type": "stream",
          "name": "stdout",
          "text": [
            "NaN values in each column:\n",
            "Fraudolent       0\n",
            "SMS_test         0\n",
            "ID               0\n",
            "Date_and_Time    0\n",
            "dtype: int64\n"
          ]
        }
      ],
      "source": [
        "# Count NaN values in the dataset\n",
        "nan_count = sms_df.isna().sum()\n",
        "\n",
        "# Display the count of NaN values for each column\n",
        "print(\"NaN values in each column:\")\n",
        "print(nan_count)"
      ]
    },
    {
      "cell_type": "markdown",
      "metadata": {
        "id": "K-LoLD7zxXJj"
      },
      "source": [
        "Fortunately we don't have NaN values in the dataset, so it is consistent and we do not need to impute missing values."
      ]
    },
    {
      "cell_type": "code",
      "execution_count": 5,
      "metadata": {
        "colab": {
          "base_uri": "https://localhost:8080/"
        },
        "id": "-euOcDyu2JVY",
        "outputId": "ce09f921-4c89-4a58-d05d-4ec04c9a061f"
      },
      "outputs": [
        {
          "output_type": "stream",
          "name": "stdout",
          "text": [
            "\n",
            "Fraudolent column summary:\n",
            "0    4825\n",
            "1     747\n",
            "Name: Fraudolent, dtype: int64\n",
            "Percentage of fraudolent messages: 13.406317300789663 %\n",
            "Percentage of non-fraudolent messages: 86.59368269921033 %\n"
          ]
        }
      ],
      "source": [
        "print(\"\\nFraudolent column summary:\")\n",
        "print(sms_df['Fraudolent'].value_counts())\n",
        "\n",
        "#Here we can clearly see that there are 4825 Non-Fraudolent messages and 747 Fraudolent messages.\n",
        "fraudolent_count = sms_df['Fraudolent'].value_counts()[1]\n",
        "non_fraudolent_count = sms_df['Fraudolent'].value_counts()[0]\n",
        "\n",
        "percentage_fraudolent = (fraudolent_count / (fraudolent_count + non_fraudolent_count)) * 100\n",
        "percentage_non_fraudolent = (non_fraudolent_count / (fraudolent_count + non_fraudolent_count)) * 100\n",
        "\n",
        "print(\"Percentage of fraudolent messages:\", percentage_fraudolent,'%')\n",
        "print(\"Percentage of non-fraudolent messages:\", percentage_non_fraudolent,'%')\n",
        "#furthermore we have displayed the percentage of fraudolent and non-fraudolent messages in the dataset. We can see that the dataset is unbalanced, favouring non-fraudolent messages."
      ]
    },
    {
      "cell_type": "markdown",
      "metadata": {
        "id": "1uP7aZYV3E2O"
      },
      "source": [
        "* Here we can clearly see that there are 4825 Non-Fraudolent messages and 747 Fraudolent messages.\n",
        "\n",
        "* Furthermore we have displayed the percentage of fraudolent and non-fraudolent messages in the dataset. We can see that the dataset is unbalanced, favouring non-fraudolent messages."
      ]
    },
    {
      "cell_type": "markdown",
      "metadata": {
        "id": "zeMleYnc59Vb"
      },
      "source": [
        "## Data Distribution and Correlations ##\n",
        "\n",
        "* In this section, we are analyzing the distribution of data in te cartesian plane utilizing sns and matplotlib tools.\n",
        "\n",
        "* In particular, it seems that the most interesting feature to study in the dataset (in terms of distribution analysis) is the *Fraudolent* column."
      ]
    },
    {
      "cell_type": "code",
      "execution_count": 6,
      "metadata": {
        "colab": {
          "base_uri": "https://localhost:8080/",
          "height": 564
        },
        "id": "59KwlqWh57pd",
        "outputId": "03b7fc94-7e1f-41a0-d70d-4723db8bb9ae"
      },
      "outputs": [
        {
          "output_type": "display_data",
          "data": {
            "text/plain": [
              "<Figure size 1000x600 with 1 Axes>"
            ],
            "image/png": "[encoded data removed]"
          },
          "metadata": {}
        }
      ],
      "source": [
        "\n",
        "column_to_analyze = 'Fraudolent'\n",
        "\n",
        "# Create a distribution plot (histogram) to visualize the data\n",
        "plt.figure(figsize=(10, 6))\n",
        "sns.histplot(sms_df[column_to_analyze], kde=True, bins=20, color='skyblue')\n",
        "plt.title(f'Distribution of {column_to_analyze}')\n",
        "plt.xlabel(column_to_analyze)\n",
        "plt.ylabel('Frequency')\n",
        "plt.grid(True)\n",
        "\n",
        "# Show the plot\n",
        "plt.show()"
      ]
    },
    {
      "cell_type": "code",
      "execution_count": 7,
      "metadata": {
        "colab": {
          "base_uri": "https://localhost:8080/",
          "height": 472
        },
        "id": "NBsXYPk2IigI",
        "outputId": "1b33ab73-836a-4cd1-bca0-221915d0c4fa"
      },
      "outputs": [
        {
          "output_type": "display_data",
          "data": {
            "text/plain": [
              "<Figure size 640x480 with 1 Axes>"
            ],
            "image/png": "[encoded data removed]"
          },
          "metadata": {}
        }
      ],
      "source": [
        "# Visualize the distribution of Fraudolent\n",
        "sns.countplot(data=sms_df, x='Fraudolent')\n",
        "plt.title('Distribution of Fraudolent')\n",
        "plt.xlabel('Fraudolent')\n",
        "plt.ylabel('Count')\n",
        "plt.show()"
      ]
    },
    {
      "cell_type": "code",
      "execution_count": 8,
      "metadata": {
        "colab": {
          "base_uri": "https://localhost:8080/",
          "height": 564
        },
        "id": "qRPtVeNS5F4d",
        "outputId": "6123ee9d-75cc-43b8-b152-731521c64b7d"
      },
      "outputs": [
        {
          "output_type": "display_data",
          "data": {
            "text/plain": [
              "<Figure size 1000x600 with 1 Axes>"
            ],
            "image/png": "[encoded data removed]"
          },
          "metadata": {}
        }
      ],
      "source": [
        "sms_df['text_length'] = sms_df['SMS_test'].apply(len)\n",
        "\n",
        "# Visualize text length distribution\n",
        "plt.figure(figsize=(10, 6))\n",
        "sns.histplot(data=sms_df, x='text_length', kde=True, bins=50, color='skyblue')\n",
        "plt.title('Distribution of SMS Text Length')\n",
        "plt.xlabel('Text Length')\n",
        "plt.ylabel('Count')\n",
        "plt.show()"
      ]
    },
    {
      "cell_type": "code",
      "execution_count": 9,
      "metadata": {
        "colab": {
          "base_uri": "https://localhost:8080/",
          "height": 503
        },
        "id": "cPhiAGKZ5M0z",
        "outputId": "308e5cde-d202-4f63-9fbf-7d9899fd0d51"
      },
      "outputs": [
        {
          "output_type": "display_data",
          "data": {
            "text/plain": [
              "<Figure size 1200x600 with 1 Axes>"
            ],
            "image/png": "[encoded data removed]"
          },
          "metadata": {}
        }
      ],
      "source": [
        "# Assuming the Date and Time column is named 'Date_and_Time'\n",
        "sms_df['Date_and_Time'] = pd.to_datetime(sms_df['Date_and_Time'])\n",
        "\n",
        "# Extract date and time components\n",
        "sms_df['Year'] = sms_df['Date_and_Time'].dt.year\n",
        "sms_df['Month'] = sms_df['Date_and_Time'].dt.month\n",
        "sms_df['Day'] = sms_df['Date_and_Time'].dt.day\n",
        "\n",
        "# Visualize temporal distribution\n",
        "plt.figure(figsize=(12, 6))\n",
        "sns.countplot(x='Year', hue='Fraudolent', data=sms_df)\n",
        "plt.title('Temporal Distribution of SMS')\n",
        "plt.xlabel('Year')\n",
        "plt.ylabel('Count')\n",
        "plt.show()"
      ]
    },
    {
      "cell_type": "code",
      "execution_count": 10,
      "metadata": {
        "colab": {
          "base_uri": "https://localhost:8080/",
          "height": 507
        },
        "id": "54UBJou85cWz",
        "outputId": "618db914-7f89-4003-fcce-7b9554cb3e47"
      },
      "outputs": [
        {
          "output_type": "stream",
          "name": "stderr",
          "text": [
            "<ipython-input-10-43d728a11383>:3: FutureWarning: The default value of numeric_only in DataFrame.corr is deprecated. In a future version, it will default to False. Select only valid columns or specify the value of numeric_only to silence this warning.\n",
            "  correlation_matrix = df_dropped.corr()\n"
          ]
        },
        {
          "output_type": "display_data",
          "data": {
            "text/plain": [
              "<Figure size 640x480 with 2 Axes>"
            ],
            "image/png": "[encoded data removed]"
          },
          "metadata": {}
        }
      ],
      "source": [
        "# Doing the correlation matrix we need only to correlate the Fraudolent feature with the text length, so we can drop the other columns (ID, Date_and_Time, Year, Month, Day)\n",
        "df_dropped = sms_df.drop(['Year', 'Month', 'Day', 'ID', 'Date_and_Time'], axis=1, inplace=False)\n",
        "correlation_matrix = df_dropped.corr()\n",
        "sns.heatmap(correlation_matrix, annot=True, cmap='coolwarm')\n",
        "plt.title('Correlation Matrix')\n",
        "plt.show()\n",
        "\n",
        "#Given the correlations calculated, we can see that there is no strong correlation whatsoever between text_length and Fraudolent values. This means that we can use all of them for our analysis.\n",
        "#We can also see that the correlation between the variables is not strong enough to cause multicollinearity issues.\n",
        "#we can interpet the correlation between Fraudolent and text_length as as weak correlation at most."
      ]
    },
    {
      "cell_type": "code",
      "execution_count": 11,
      "metadata": {
        "colab": {
          "base_uri": "https://localhost:8080/",
          "height": 296
        },
        "id": "ISJiUBf43j_l",
        "outputId": "1d7c0549-73af-4730-b190-e0d2433c83d8"
      },
      "outputs": [
        {
          "output_type": "stream",
          "name": "stdout",
          "text": [
            "Earliest date of an SMS message sent: 2016-02-15 00:00:00\n",
            "Latest date of an SMS message sent: 2018-09-19 00:00:00\n"
          ]
        },
        {
          "output_type": "stream",
          "name": "stderr",
          "text": [
            "<ipython-input-11-4f45f72fddba>:9: FutureWarning: The default value of numeric_only in DataFrame.corr is deprecated. In a future version, it will default to False. Select only valid columns or specify the value of numeric_only to silence this warning.\n",
            "  sms_df.corr()\n"
          ]
        },
        {
          "output_type": "execute_result",
          "data": {
            "text/plain": [
              "             Fraudolent  text_length      Year     Month       Day\n",
              "Fraudolent     1.000000     0.378359  0.004349 -0.004380 -0.004535\n",
              "text_length    0.378359     1.000000  0.029498 -0.010077  0.014077\n",
              "Year           0.004349     0.029498  1.000000 -0.304300 -0.054934\n",
              "Month         -0.004380    -0.010077 -0.304300  1.000000  0.007355\n",
              "Day           -0.004535     0.014077 -0.054934  0.007355  1.000000"
            ],
            "text/html": [
              "\n",
              "  <div id=\"df-48771b48-95f6-469a-9c4a-7b37ad7bce76\" class=\"colab-df-container\">\n",
              "    <div>\n",
              "<style scoped>\n",
              "    .dataframe tbody tr th:only-of-type {\n",
              "        vertical-align: middle;\n",
              "    }\n",
              "\n",
              "    .dataframe tbody tr th {\n",
              "        vertical-align: top;\n",
              "    }\n",
              "\n",
              "    .dataframe thead th {\n",
              "        text-align: right;\n",
              "    }\n",
              "</style>\n",
              "<table border=\"1\" class=\"dataframe\">\n",
              "  <thead>\n",
              "    <tr style=\"text-align: right;\">\n",
              "      <th></th>\n",
              "      <th>Fraudolent</th>\n",
              "      <th>text_length</th>\n",
              "      <th>Year</th>\n",
              "      <th>Month</th>\n",
              "      <th>Day</th>\n",
              "    </tr>\n",
              "  </thead>\n",
              "  <tbody>\n",
              "    <tr>\n",
              "      <th>Fraudolent</th>\n",
              "      <td>1.000000</td>\n",
              "      <td>0.378359</td>\n",
              "      <td>0.004349</td>\n",
              "      <td>-0.004380</td>\n",
              "      <td>-0.004535</td>\n",
              "    </tr>\n",
              "    <tr>\n",
              "      <th>text_length</th>\n",
              "      <td>0.378359</td>\n",
              "      <td>1.000000</td>\n",
              "      <td>0.029498</td>\n",
              "      <td>-0.010077</td>\n",
              "      <td>0.014077</td>\n",
              "    </tr>\n",
              "    <tr>\n",
              "      <th>Year</th>\n",
              "      <td>0.004349</td>\n",
              "      <td>0.029498</td>\n",
              "      <td>1.000000</td>\n",
              "      <td>-0.304300</td>\n",
              "      <td>-0.054934</td>\n",
              "    </tr>\n",
              "    <tr>\n",
              "      <th>Month</th>\n",
              "      <td>-0.004380</td>\n",
              "      <td>-0.010077</td>\n",
              "      <td>-0.304300</td>\n",
              "      <td>1.000000</td>\n",
              "      <td>0.007355</td>\n",
              "    </tr>\n",
              "    <tr>\n",
              "      <th>Day</th>\n",
              "      <td>-0.004535</td>\n",
              "      <td>0.014077</td>\n",
              "      <td>-0.054934</td>\n",
              "      <td>0.007355</td>\n",
              "      <td>1.000000</td>\n",
              "    </tr>\n",
              "  </tbody>\n",
              "</table>\n",
              "</div>\n",
              "    <div class=\"colab-df-buttons\">\n",
              "\n",
              "  <div class=\"colab-df-container\">\n",
              "    <button class=\"colab-df-convert\" onclick=\"convertToInteractive('df-48771b48-95f6-469a-9c4a-7b37ad7bce76')\"\n",
              "            title=\"Convert this dataframe to an interactive table.\"\n",
              "            style=\"display:none;\">\n",
              "\n",
              "  <svg xmlns=\"http://www.w3.org/2000/svg\" height=\"24px\" viewBox=\"0 -960 960 960\">\n",
              "    <path d=\"M120-120v-720h720v720H120Zm60-500h600v-160H180v160Zm220 220h160v-160H400v160Zm0 220h160v-160H400v160ZM180-400h160v-160H180v160Zm440 0h160v-160H620v160ZM180-180h160v-160H180v160Zm440 0h160v-160H620v160Z\"/>\n",
              "  </svg>\n",
              "    </button>\n",
              "\n",
              "  <style>\n",
              "    .colab-df-container {\n",
              "      display:flex;\n",
              "      gap: 12px;\n",
              "    }\n",
              "\n",
              "    .colab-df-convert {\n",
              "      background-color: #E8F0FE;\n",
              "      border: none;\n",
              "      border-radius: 50%;\n",
              "      cursor: pointer;\n",
              "      display: none;\n",
              "      fill: #1967D2;\n",
              "      height: 32px;\n",
              "      padding: 0 0 0 0;\n",
              "      width: 32px;\n",
              "    }\n",
              "\n",
              "    .colab-df-convert:hover {\n",
              "      background-color: #E2EBFA;\n",
              "      box-shadow: 0px 1px 2px rgba(60, 64, 67, 0.3), 0px 1px 3px 1px rgba(60, 64, 67, 0.15);\n",
              "      fill: #174EA6;\n",
              "    }\n",
              "\n",
              "    .colab-df-buttons div {\n",
              "      margin-bottom: 4px;\n",
              "    }\n",
              "\n",
              "    [theme=dark] .colab-df-convert {\n",
              "      background-color: #3B4455;\n",
              "      fill: #D2E3FC;\n",
              "    }\n",
              "\n",
              "    [theme=dark] .colab-df-convert:hover {\n",
              "      background-color: #434B5C;\n",
              "      box-shadow: 0px 1px 3px 1px rgba(0, 0, 0, 0.15);\n",
              "      filter: drop-shadow(0px 1px 2px rgba(0, 0, 0, 0.3));\n",
              "      fill: #FFFFFF;\n",
              "    }\n",
              "  </style>\n",
              "\n",
              "    <script>\n",
              "      const buttonEl =\n",
              "        document.querySelector('#df-48771b48-95f6-469a-9c4a-7b37ad7bce76 button.colab-df-convert');\n",
              "      buttonEl.style.display =\n",
              "        google.colab.kernel.accessAllowed ? 'block' : 'none';\n",
              "\n",
              "      async function convertToInteractive(key) {\n",
              "        const element = document.querySelector('#df-48771b48-95f6-469a-9c4a-7b37ad7bce76');\n",
              "        const dataTable =\n",
              "          await google.colab.kernel.invokeFunction('convertToInteractive',\n",
              "                                                    [key], {});\n",
              "        if (!dataTable) return;\n",
              "\n",
              "        const docLinkHtml = 'Like what you see? Visit the ' +\n",
              "          '<a target=\"_blank\" href=https://colab.research.google.com/notebooks/data_table.ipynb>data table notebook</a>'\n",
              "          + ' to learn more about interactive tables.';\n",
              "        element.innerHTML = '';\n",
              "        dataTable['output_type'] = 'display_data';\n",
              "        await google.colab.output.renderOutput(dataTable, element);\n",
              "        const docLink = document.createElement('div');\n",
              "        docLink.innerHTML = docLinkHtml;\n",
              "        element.appendChild(docLink);\n",
              "      }\n",
              "    </script>\n",
              "  </div>\n",
              "\n",
              "\n",
              "<div id=\"df-b8e64efa-2e39-42a7-9f06-380794706950\">\n",
              "  <button class=\"colab-df-quickchart\" onclick=\"quickchart('df-b8e64efa-2e39-42a7-9f06-380794706950')\"\n",
              "            title=\"Suggest charts\"\n",
              "            style=\"display:none;\">\n",
              "\n",
              "<svg xmlns=\"http://www.w3.org/2000/svg\" height=\"24px\"viewBox=\"0 0 24 24\"\n",
              "     width=\"24px\">\n",
              "    <g>\n",
              "        <path d=\"M19 3H5c-1.1 0-2 .9-2 2v14c0 1.1.9 2 2 2h14c1.1 0 2-.9 2-2V5c0-1.1-.9-2-2-2zM9 17H7v-7h2v7zm4 0h-2V7h2v10zm4 0h-2v-4h2v4z\"/>\n",
              "    </g>\n",
              "</svg>\n",
              "  </button>\n",
              "\n",
              "<style>\n",
              "  .colab-df-quickchart {\n",
              "      --bg-color: #E8F0FE;\n",
              "      --fill-color: #1967D2;\n",
              "      --hover-bg-color: #E2EBFA;\n",
              "      --hover-fill-color: #174EA6;\n",
              "      --disabled-fill-color: #AAA;\n",
              "      --disabled-bg-color: #DDD;\n",
              "  }\n",
              "\n",
              "  [theme=dark] .colab-df-quickchart {\n",
              "      --bg-color: #3B4455;\n",
              "      --fill-color: #D2E3FC;\n",
              "      --hover-bg-color: #434B5C;\n",
              "      --hover-fill-color: #FFFFFF;\n",
              "      --disabled-bg-color: #3B4455;\n",
              "      --disabled-fill-color: #666;\n",
              "  }\n",
              "\n",
              "  .colab-df-quickchart {\n",
              "    background-color: var(--bg-color);\n",
              "    border: none;\n",
              "    border-radius: 50%;\n",
              "    cursor: pointer;\n",
              "    display: none;\n",
              "    fill: var(--fill-color);\n",
              "    height: 32px;\n",
              "    padding: 0;\n",
              "    width: 32px;\n",
              "  }\n",
              "\n",
              "  .colab-df-quickchart:hover {\n",
              "    background-color: var(--hover-bg-color);\n",
              "    box-shadow: 0 1px 2px rgba(60, 64, 67, 0.3), 0 1px 3px 1px rgba(60, 64, 67, 0.15);\n",
              "    fill: var(--button-hover-fill-color);\n",
              "  }\n",
              "\n",
              "  .colab-df-quickchart-complete:disabled,\n",
              "  .colab-df-quickchart-complete:disabled:hover {\n",
              "    background-color: var(--disabled-bg-color);\n",
              "    fill: var(--disabled-fill-color);\n",
              "    box-shadow: none;\n",
              "  }\n",
              "\n",
              "  .colab-df-spinner {\n",
              "    border: 2px solid var(--fill-color);\n",
              "    border-color: transparent;\n",
              "    border-bottom-color: var(--fill-color);\n",
              "    animation:\n",
              "      spin 1s steps(1) infinite;\n",
              "  }\n",
              "\n",
              "  @keyframes spin {\n",
              "    0% {\n",
              "      border-color: transparent;\n",
              "      border-bottom-color: var(--fill-color);\n",
              "      border-left-color: var(--fill-color);\n",
              "    }\n",
              "    20% {\n",
              "      border-color: transparent;\n",
              "      border-left-color: var(--fill-color);\n",
              "      border-top-color: var(--fill-color);\n",
              "    }\n",
              "    30% {\n",
              "      border-color: transparent;\n",
              "      border-left-color: var(--fill-color);\n",
              "      border-top-color: var(--fill-color);\n",
              "      border-right-color: var(--fill-color);\n",
              "    }\n",
              "    40% {\n",
              "      border-color: transparent;\n",
              "      border-right-color: var(--fill-color);\n",
              "      border-top-color: var(--fill-color);\n",
              "    }\n",
              "    60% {\n",
              "      border-color: transparent;\n",
              "      border-right-color: var(--fill-color);\n",
              "    }\n",
              "    80% {\n",
              "      border-color: transparent;\n",
              "      border-right-color: var(--fill-color);\n",
              "      border-bottom-color: var(--fill-color);\n",
              "    }\n",
              "    90% {\n",
              "      border-color: transparent;\n",
              "      border-bottom-color: var(--fill-color);\n",
              "    }\n",
              "  }\n",
              "</style>\n",
              "\n",
              "  <script>\n",
              "    async function quickchart(key) {\n",
              "      const quickchartButtonEl =\n",
              "        document.querySelector('#' + key + ' button');\n",
              "      quickchartButtonEl.disabled = true;  // To prevent multiple clicks.\n",
              "      quickchartButtonEl.classList.add('colab-df-spinner');\n",
              "      try {\n",
              "        const charts = await google.colab.kernel.invokeFunction(\n",
              "            'suggestCharts', [key], {});\n",
              "      } catch (error) {\n",
              "        console.error('Error during call to suggestCharts:', error);\n",
              "      }\n",
              "      quickchartButtonEl.classList.remove('colab-df-spinner');\n",
              "      quickchartButtonEl.classList.add('colab-df-quickchart-complete');\n",
              "    }\n",
              "    (() => {\n",
              "      let quickchartButtonEl =\n",
              "        document.querySelector('#df-b8e64efa-2e39-42a7-9f06-380794706950 button');\n",
              "      quickchartButtonEl.style.display =\n",
              "        google.colab.kernel.accessAllowed ? 'block' : 'none';\n",
              "    })();\n",
              "  </script>\n",
              "</div>\n",
              "    </div>\n",
              "  </div>\n"
            ]
          },
          "metadata": {},
          "execution_count": 11
        }
      ],
      "source": [
        "sms_df.columns\n",
        "#By splitting the date into its compoonents, we can analyze the temporal distribution of the messages.\n",
        "earliest_date = sms_df['Date_and_Time'].min()\n",
        "latest_date = sms_df['Date_and_Time'].max()\n",
        "print(\"Earliest date of an SMS message sent:\", earliest_date)\n",
        "print(\"Latest date of an SMS message sent:\", latest_date)\n",
        "#this allows us to see that in our dataset the range of years for which we are viewing sent SMS Messages is from 2016 to 2018\n",
        "\n",
        "sms_df.corr()\n",
        "#Given the correlations calculated, we can see that there is no strong correlation whatsoever between the variables. This means that we can use all of them for our analysis.\n",
        "#We can also see that the correlation between the variables is not strong enough to cause multicollinearity issues.\n",
        "#we can interpet the correlation between Fraudolent and text_length as as weak correlation at most."
      ]
    },
    {
      "cell_type": "markdown",
      "metadata": {
        "id": "pPT7EasT4nRE"
      },
      "source": [
        "* By analyzing the correlation matrix, we can determine the following:\n",
        "    \n",
        "    • The correlation coefficient ranges from -1 to 1. A value of 1 indicates a perfect positive correlation, -1 indicates a perfect negative correlation, and 0 indicates no correlation.\n",
        "    \n",
        "    • Positive correlation coefficients indicate that the variables tend to increase or decrease together.\n",
        "    \n",
        "    • Negative correlation coefficients indicate that as one variable increases, the other tends to decrease.\n",
        "   \n",
        "    • The closer the correlation coefficient is to 1 or -1, the stronger the correlation.\n",
        "    \n",
        "    • A correlation coefficient close to O indicates no or weak correlation.\n",
        "\n",
        "* Based on the correlation matrix, we can conclude that there is no strong correlation between the two most importanto variables in the dataset. This means that all variables can be used for analysis without causing multicollinearity issues."
      ]
    },
    {
      "cell_type": "markdown",
      "metadata": {
        "id": "IANKuBYtqmT4"
      },
      "source": [
        "# Preprocessing\n",
        "\n",
        "* In this section we will try to transform the data into a more suitable format for machine learning Algorithms, using various methods: cleaning data, encoding categorial features, scaling numerical features.\n",
        "\n",
        "\n"
      ]
    },
    {
      "cell_type": "code",
      "execution_count": 23,
      "metadata": {
        "colab": {
          "base_uri": "https://localhost:8080/"
        },
        "id": "l85SoklC5Isa",
        "outputId": "d0ea93d5-522a-422b-d7b7-c1bbae76e55a"
      },
      "outputs": [
        {
          "output_type": "execute_result",
          "data": {
            "text/plain": [
              "0    4825\n",
              "1    4825\n",
              "Name: Fraudolent, dtype: int64"
            ]
          },
          "metadata": {},
          "execution_count": 23
        }
      ],
      "source": [
        "# We adjust the balance problem, just by oversampling the Fraudolent part of the X_train\n",
        "oversampler = RandomOverSampler(random_state=42)\n",
        "\n",
        "X=df_dropped\n",
        "y=df_dropped['Fraudolent']\n",
        "df_X, df_y = oversampler.fit_resample(X, y)\n",
        "df_X['Fraudolent'].value_counts()"
      ]
    },
    {
      "cell_type": "code",
      "execution_count": 26,
      "metadata": {
        "colab": {
          "base_uri": "https://localhost:8080/"
        },
        "id": "7ulcN5G1du1w",
        "outputId": "729cb730-680e-40ff-bbdd-25ceb2133b41"
      },
      "outputs": [
        {
          "output_type": "stream",
          "name": "stdout",
          "text": [
            "1    2433\n",
            "0    2392\n",
            "Name: Fraudolent, dtype: int64\n"
          ]
        }
      ],
      "source": [
        "df_X_halved, _, df_y_halved, _ = train_test_split(df_X, df_y, test_size=0.5, random_state=42)\n",
        "\n",
        "print(df_X_halved['Fraudolent'].value_counts())"
      ]
    },
    {
      "cell_type": "code",
      "execution_count": 29,
      "metadata": {
        "colab": {
          "base_uri": "https://localhost:8080/",
          "height": 464
        },
        "id": "B1cqeLJO5yIB",
        "outputId": "a4f78be1-aca0-4eba-eae6-bc86b73af4bd"
      },
      "outputs": [
        {
          "output_type": "display_data",
          "data": {
            "text/plain": [
              "<Figure size 1600x800 with 3 Axes>"
            ],
            "image/png": "[encoded data removed]"
          },
          "metadata": {}
        }
      ],
      "source": [
        "# Set up the figure with two subplots\n",
        "fig, axes = plt.subplots(nrows=1, ncols=3, figsize=(16, 8))\n",
        "\n",
        "# Original dataset histogram\n",
        "sns.countplot(x='Fraudolent', data=df_dropped, ax=axes[0])\n",
        "axes[0].set_title('Original Dataset - Distribution of Fraudulent Transactions')\n",
        "axes[0].set_xlabel('Fraudolent')\n",
        "axes[0].set_ylabel('Count')\n",
        "\n",
        "# balanced dataset histogram\n",
        "sns.countplot(x='Fraudolent', data=df_X, ax=axes[1])\n",
        "axes[1].set_title('Balanced Dataset - Distribution of Fraudulent Transactions')\n",
        "axes[1].set_xlabel('Fraudolent')\n",
        "axes[1].set_ylabel('Count')\n",
        "\n",
        "# Final dataset histogram\n",
        "sns.countplot(x='Fraudolent', data=df_X_halved, ax=axes[2])\n",
        "axes[2].set_title('Final Dataset - Distribution of Fraudulent Transactions')\n",
        "axes[2].set_xlabel('Fraudolent')\n",
        "axes[2].set_ylabel('Count')\n",
        "\n",
        "# Adjust layout for better spacing\n",
        "plt.tight_layout()\n",
        "plt.show()"
      ]
    },
    {
      "cell_type": "code",
      "execution_count": 30,
      "metadata": {
        "colab": {
          "base_uri": "https://localhost:8080/"
        },
        "id": "0rZs6EGHsX31",
        "outputId": "da016cf7-3977-4225-bc4b-35dc6870b4e9"
      },
      "outputs": [
        {
          "output_type": "stream",
          "name": "stderr",
          "text": [
            "[nltk_data] Downloading package stopwords to /root/nltk_data...\n",
            "[nltk_data]   Unzipping corpora/stopwords.zip.\n"
          ]
        }
      ],
      "source": [
        "#download the stopwords\n",
        "nltk.download('stopwords')\n",
        "\n",
        "#Tokenization of text\n",
        "tokenizer=ToktokTokenizer()\n",
        "\n",
        "#Setting English stopwords\n",
        "stopword_list=nltk.corpus.stopwords.words('english')\n"
      ]
    },
    {
      "cell_type": "code",
      "execution_count": 44,
      "metadata": {
        "colab": {
          "base_uri": "https://localhost:8080/"
        },
        "id": "jvuIOMoksecR",
        "outputId": "c36d7ed5-e61d-403c-b487-9cf3c689495f"
      },
      "outputs": [
        {
          "output_type": "stream",
          "name": "stderr",
          "text": [
            "<ipython-input-44-0128dc406a3b>:3: MarkupResemblesLocatorWarning: The input looks more like a filename than markup. You may want to open this file and pass the filehandle into Beautiful Soup.\n",
            "  soup = BeautifulSoup(text, \"html.parser\")\n"
          ]
        },
        {
          "output_type": "stream",
          "name": "stdout",
          "text": [
            "{'ours', 'the', 'he', 'will', 'did', 'i', 'was', 'nor', 'isn', 'our', 'there', 'that', \"you'd\", 'because', 'himself', 'now', 'through', 'off', 'just', 'them', 'm', 'is', 'aren', 'do', 'yourself', 'what', 'for', 'into', 'shan', 'herself', 'themselves', 'up', 'in', 'own', \"shouldn't\", 'its', 'with', 'they', 'it', 'yours', 'didn', 'same', 'were', 'we', 'wouldn', 'needn', \"hasn't\", \"that'll\", 'haven', 'between', 'more', 'once', 'before', 'ain', 'itself', 'on', 'during', 'me', 've', \"mustn't\", \"you've\", 'too', 'hadn', 'again', \"haven't\", 'my', 'about', 'shouldn', 'be', 'and', 'very', \"you'll\", 'her', \"weren't\", 'where', 'hers', 'these', 'to', 'when', 're', \"shan't\", 'this', 'wasn', 'won', 'some', 'how', 'll', 'below', 'or', 'at', \"isn't\", 'but', 'so', 'which', 'your', 'don', 'over', 'theirs', 'a', 'few', 'after', 'his', 'mightn', \"won't\", 'weren', \"it's\", 'against', \"she's\", 'each', 'until', 'such', \"wouldn't\", 'am', 'should', \"should've\", \"aren't\", 'hasn', 'of', 'can', 'mustn', \"mightn't\", 'you', 'above', 'than', 'she', 'had', 'are', 'if', 'having', 'doesn', \"don't\", 'no', \"doesn't\", \"hadn't\", 'those', 'ma', \"couldn't\", 'yourselves', 'from', 'have', 'then', 's', 'couldn', \"you're\", 'not', 'been', 'y', 'here', 'o', 'being', 'further', 'other', 'who', 'both', 'only', 'their', \"didn't\", 'him', 'ourselves', 'whom', 'out', 'doing', 'why', 'most', 'an', 'as', 'myself', 'does', 't', 'by', 'under', 'all', \"wasn't\", 'down', 'while', \"needn't\", 'has', 'any', 'd'}\n"
          ]
        }
      ],
      "source": [
        "#Removing the html strips\n",
        "def strip_html(text):\n",
        "    soup = BeautifulSoup(text, \"html.parser\")\n",
        "    return soup.get_text()\n",
        "\n",
        "#apply function on SMS_test column\n",
        "df_X_halved['SMS_test']=df_X_halved['SMS_test'].apply(strip_html)\n",
        "\n",
        "#Removing the square brackets\n",
        "def remove_between_square_brackets(text):\n",
        "    return re.sub('\\[[^]]*\\]', '', text)\n",
        "\n",
        "#apply function on SMS_test column\n",
        "df_X_halved['SMS_test']=df_X_halved['SMS_test'].apply(remove_between_square_brackets)\n",
        "\n",
        "#Removing the noisy text\n",
        "def denoise_text(text):\n",
        "    text = strip_html(text)\n",
        "    text = remove_between_square_brackets(text)\n",
        "    return text\n",
        "\n",
        "#apply function on SMS_test column\n",
        "df_X_halved['SMS_test']=df_X_halved['SMS_test'].apply(denoise_text)\n",
        "\n",
        "\n",
        "\n",
        "#Define function for removing special characters\n",
        "def remove_special_characters(text):\n",
        "    pattern=r'[^a-zA-z0-9\\s]'\n",
        "    text=re.sub(pattern,'',text)\n",
        "    return text\n",
        "\n",
        "#apply function on SMS_test column\n",
        "df_X_halved['SMS_test']=df_X_halved['SMS_test'].apply(remove_special_characters)\n",
        "\n",
        "\n",
        "#stemming the text\n",
        "def simple_stemmer(text):\n",
        "    ps=nltk.porter.PorterStemmer()\n",
        "    text= ' '.join([ps.stem(word) for word in text.split()])\n",
        "    return text\n",
        "\n",
        "#apply function on SMS_test column\n",
        "df_X_halved['SMS_test']=df_X_halved['SMS_test'].apply(simple_stemmer)\n",
        "\n",
        "\n",
        "#set stopwords to english\n",
        "stop=set(stopwords.words('english'))\n",
        "print(stop)\n",
        "\n",
        "#removing the stopwords\n",
        "def remove_stopwords(text, is_lower_case=False):\n",
        "    tokens = tokenizer.tokenize(text)\n",
        "    tokens = [token.strip() for token in tokens]\n",
        "    if is_lower_case:\n",
        "        filtered_tokens = [token for token in tokens if token not in stopword_list]\n",
        "    else:\n",
        "        filtered_tokens = [token for token in tokens if token.lower() not in stopword_list]\n",
        "    filtered_text = ' '.join(filtered_tokens)\n",
        "    return filtered_text\n",
        "\n",
        "#apply function on SMS_test column\n",
        "df_X_halved['SMS_test']=df_X_halved['SMS_test'].apply(remove_stopwords)"
      ]
    },
    {
      "cell_type": "markdown",
      "metadata": {
        "id": "SrF9dAoJv4Ef"
      },
      "source": [
        "# Bag of Words"
      ]
    },
    {
      "cell_type": "code",
      "execution_count": 45,
      "metadata": {
        "colab": {
          "base_uri": "https://localhost:8080/"
        },
        "id": "ze2e3jxuyRmx",
        "outputId": "24422c33-af4e-4b0b-b9fa-1502e4bc144d"
      },
      "outputs": [
        {
          "output_type": "stream",
          "name": "stdout",
          "text": [
            "BOW_cv_train: (4825, 28441)\n"
          ]
        }
      ],
      "source": [
        "#Count vectorizer for bag of words\n",
        "cv=CountVectorizer(min_df=0,max_df=1,binary=False,ngram_range=(1,3))\n",
        "\n",
        "#transformed dataset\n",
        "BoW_X=cv.fit_transform(df_X_halved['SMS_test'])\n",
        "\n",
        "print('BOW_cv_train:', BoW_X.shape)\n",
        "\n"
      ]
    },
    {
      "cell_type": "code",
      "source": [
        "if True:\n",
        "  # rebalance\n",
        "else:\n",
        "  # sample as many legit as the amount of fraudolent\n",
        "\n",
        "# output: df"
      ],
      "metadata": {
        "id": "0kDNV3MfdckY"
      },
      "execution_count": null,
      "outputs": []
    },
    {
      "cell_type": "markdown",
      "source": [
        "ora train test split"
      ],
      "metadata": {
        "id": "RcKqSJRwdsSz"
      }
    },
    {
      "cell_type": "markdown",
      "metadata": {
        "id": "f0JSHRD1NypT"
      },
      "source": [
        "# Models"
      ]
    },
    {
      "cell_type": "code",
      "execution_count": 41,
      "metadata": {
        "colab": {
          "base_uri": "https://localhost:8080/"
        },
        "id": "MMwIXPt1rB1l",
        "outputId": "6219b637-a4d1-435e-b01c-1fa686f0c463"
      },
      "outputs": [
        {
          "output_type": "stream",
          "name": "stdout",
          "text": [
            "X_train shape: (3860, 28452), y_train_tmp shape: (3860,)\n",
            "X_test shape: (965, 28452), y_test shape: (965,)\n"
          ]
        }
      ],
      "source": [
        "from sklearn.model_selection import train_test_split\n",
        "\n",
        "X = BoW_X\n",
        "y = df_X_halved['Fraudolent']\n",
        "\n",
        "# Split the dataset into train and test sets\n",
        "# Adding the \"stratify\" parameter seems not changing at all the distribution of values, that anyway seems very well distributed in the training set\n",
        "X_train, X_test, y_train, y_test = train_test_split(X, y, test_size=0.2, random_state=42, stratify=y)\n",
        "print(f\"X_train shape: {X_train.shape}, y_train_tmp shape: {y_train.shape}\")\n",
        "print(f\"X_test shape: {X_test.shape}, y_test shape: {y_test.shape}\")"
      ]
    },
    {
      "cell_type": "code",
      "execution_count": 55,
      "metadata": {
        "colab": {
          "base_uri": "https://localhost:8080/"
        },
        "id": "tFqWXCbVN9Vq",
        "outputId": "1b7ff514-3efb-4a9c-80f8-49d4e0e3bd47"
      },
      "outputs": [
        {
          "output_type": "stream",
          "name": "stdout",
          "text": [
            "Fitting 3 folds for each of 10 candidates, totalling 30 fits\n",
            "{'C': 0.0001}\n",
            "0.5461139896373057\n",
            "0.5046632124352332\n"
          ]
        }
      ],
      "source": [
        "# logistic regression has a pretty good accuracy on train set, but a very bad score in test set\n",
        "model = LogisticRegression(penalty='l2', solver='liblinear', C=0.0001)\n",
        "\n",
        "from sklearn.model_selection import GridSearchCV\n",
        "from sklearn.model_selection import RandomizedSearchCV\n",
        "\n",
        "param_distributions = {\n",
        "    'C': np.logspace(-4, 4, 20),\n",
        "    #'penalty': ['l1', 'l2'],\n",
        "    #'solver': ['liblinear', 'saga']\n",
        "}\n",
        "\n",
        "random_search = RandomizedSearchCV(estimator=model, param_distributions=param_distributions, n_iter=10, cv=3, scoring='accuracy', verbose=1, n_jobs=-1, random_state=42)\n",
        "\n",
        "random_search.fit(X_train, y_train)\n",
        "\n",
        "best_params = random_search.best_params_\n",
        "print(best_params)\n",
        "\n",
        "\n",
        "# we found some hyperparameters: \"penalty\" and \"solver\"... with random we found out that \"liblinear\" and \"l2\" are nice\n",
        "\n",
        "from sklearn.linear_model import LogisticRegression\n",
        "from sklearn.model_selection import GridSearchCV\n",
        "\n",
        "def grid_search(X_train, y_train, cv_folds=5):\n",
        "\n",
        "    # Define the model\n",
        "    model = LogisticRegression()\n",
        "\n",
        "    # Define the hyperparameters grid to search\n",
        "    param_grid = {\n",
        "        'C': [0.01, 0.1, 1, 10, 100],\n",
        "        'penalty': ['l2'],\n",
        "        'solver': ['liblinear']\n",
        "        }\n",
        "\n",
        "    # Create the GridSearchCV object\n",
        "    grid_search = GridSearchCV(estimator=model, param_grid=param_grid, cv=cv_folds, scoring='accuracy', verbose=1, n_jobs=-1)\n",
        "\n",
        "    grid_search.fit(X_train, y_train)\n",
        "\n",
        "\n",
        "    return grid_search.best_params_\n",
        "\n",
        "best_params = grid_search(X_train, y_train)\n",
        "print(\"Best parameters:\", best_params)\n",
        "\n",
        "model.fit(X_train, y_train)\n",
        "print(model.score(X_train, y_train))\n",
        "\n",
        "y_pred = model.predict(X_test)\n",
        "\n",
        "print(model.score(X_test, y_test))"
      ]
    },
    {
      "cell_type": "code",
      "execution_count": null,
      "metadata": {
        "colab": {
          "base_uri": "https://localhost:8080/"
        },
        "id": "iYuKPoc0ttMO",
        "outputId": "e65c054f-b8ba-4950-afb8-333c2a6fda5e"
      },
      "outputs": [
        {
          "name": "stdout",
          "output_type": "stream",
          "text": [
            "              precision    recall  f1-score   support\n",
            "\n",
            "    Positive       1.00      0.88      0.94       461\n",
            "    Negative       0.90      1.00      0.95       503\n",
            "\n",
            "    accuracy                           0.94       964\n",
            "   macro avg       0.95      0.94      0.94       964\n",
            "weighted avg       0.95      0.94      0.94       964\n",
            "\n"
          ]
        }
      ],
      "source": [
        "#Classification report for bag of words\n",
        "report=classification_report(y_validation,y_pred,target_names=['Positive','Negative'])\n",
        "print(report)"
      ]
    },
    {
      "cell_type": "code",
      "execution_count": null,
      "metadata": {
        "colab": {
          "base_uri": "https://localhost:8080/",
          "height": 472
        },
        "id": "eDWyuYUyuGOo",
        "outputId": "aac87a42-6047-47c1-e616-f152af3cad3d"
      },
      "outputs": [
        {
          "data": {
            "image/png": "[encoded data removed]",
            "text/plain": [
              "<Figure size 640x480 with 2 Axes>"
            ]
          },
          "metadata": {},
          "output_type": "display_data"
        }
      ],
      "source": [
        "cm = confusion_matrix(y_validation, y_pred)\n",
        "\n",
        "# Display the confusion matrix using a heatmap\n",
        "sns.heatmap(cm, annot=True, fmt=\"d\", cmap=\"Blues\", annot_kws={\"size\": 16})\n",
        "plt.title(\"Confusion Matrix\")\n",
        "plt.xlabel(\"Predicted Label\")\n",
        "plt.ylabel(\"True Label\")\n",
        "plt.show()"
      ]
    },
    {
      "cell_type": "code",
      "execution_count": null,
      "metadata": {
        "colab": {
          "base_uri": "https://localhost:8080/"
        },
        "id": "HoSvLUfjZCRp",
        "outputId": "ad985d1a-f01c-486d-b806-1c16471b55e1"
      },
      "outputs": [
        {
          "name": "stdout",
          "output_type": "stream",
          "text": [
            "0.5141228297486395\n",
            "0.4927385892116183\n"
          ]
        }
      ],
      "source": [
        "# using a naive bayes classifiers (MultinomialNB, very popular for text classification) the train score diminishes while the test's increases\n",
        "model = MultinomialNB()\n",
        "model.fit(cv_train_sms, y_train_half)\n",
        "print(model.score(cv_train_sms, y_train_half))\n",
        "\n",
        "y_pred = model.predict(cv_validation_sms)\n",
        "\n",
        "print(model.score(cv_validation_sms, y_validation))"
      ]
    },
    {
      "cell_type": "code",
      "execution_count": null,
      "metadata": {
        "colab": {
          "base_uri": "https://localhost:8080/"
        },
        "id": "V1HDLPyjZ8vB",
        "outputId": "2f756883-077a-455e-c16c-1b2adc444b0b"
      },
      "outputs": [
        {
          "name": "stdout",
          "output_type": "stream",
          "text": [
            "0.9367711842446229\n",
            "0.9336099585062241\n"
          ]
        }
      ],
      "source": [
        "# evaluation quite similar, if not identical, to the LogReg implementation\n",
        "model = SVC(kernel='linear')  # also try with kernel='rbf' and gives a lil bit better results\n",
        "model.fit(cv_train_sms, y_train_half)\n",
        "print(model.score(cv_train_sms, y_train_half))\n",
        "\n",
        "y_pred = model.predict(cv_validation_sms)\n",
        "\n",
        "print(model.score(cv_validation_sms, y_validation))"
      ]
    },
    {
      "cell_type": "code",
      "execution_count": null,
      "metadata": {
        "colab": {
          "base_uri": "https://localhost:8080/"
        },
        "id": "x-F6y_-Eawb8",
        "outputId": "41b5ff1d-a154-4a7c-d891-9012b7cd3a0d"
      },
      "outputs": [
        {
          "name": "stdout",
          "output_type": "stream",
          "text": [
            "Cross-validation results: [0.48704663 0.47020725 0.53626943 0.46891192 0.53437095]\n",
            "Mean accuracy: 0.49936123599658605\n"
          ]
        }
      ],
      "source": [
        "from sklearn.ensemble import RandomForestClassifier\n",
        "from sklearn.model_selection import cross_val_score, KFold\n",
        "\n",
        "model = RandomForestClassifier()\n",
        "\n",
        "kfold = KFold(n_splits=5, shuffle=True, random_state=42)  # You can choose the number of splits\n",
        "\n",
        "# Perform k-fold cross-validation\n",
        "cross_val_results = cross_val_score(model, cv_train_sms, y_train_half, cv=kfold, scoring='accuracy')\n",
        "\n",
        "# Print the cross-validation results\n",
        "print(\"Cross-validation results:\", cross_val_results)\n",
        "print(\"Mean accuracy:\", cross_val_results.mean())"
      ]
    },
    {
      "cell_type": "code",
      "execution_count": null,
      "metadata": {
        "colab": {
          "base_uri": "https://localhost:8080/"
        },
        "id": "apUOA5_pbNY_",
        "outputId": "d2e2838b-a9bb-4860-eaea-12858c85d0d4"
      },
      "outputs": [
        {
          "name": "stdout",
          "output_type": "stream",
          "text": [
            "0.5006478362270018\n",
            "0.8663677130044843\n"
          ]
        }
      ],
      "source": [
        "from xgboost import XGBClassifier # quite similar to the Multinomial implementation\n",
        "\n",
        "model = XGBClassifier()\n",
        "model.fit(tv_train_sms, y_train_half)\n",
        "print(model.score(tv_train_sms, y_train_half))\n",
        "\n",
        "y_pred = model.predict(tv_test_sms)\n",
        "\n",
        "print(model.score(tv_test_sms, y_test))"
      ]
    }
  ],
  "metadata": {
    "colab": {
      "provenance": [],
      "authorship_tag": "ABX9TyMcKy+KEwISTOvaOgwHJ0KT"
    },
    "kernelspec": {
      "display_name": "Python 3",
      "name": "python3"
    },
    "language_info": {
      "name": "python"
    }
  },
  "nbformat": 4,
  "nbformat_minor": 0
}