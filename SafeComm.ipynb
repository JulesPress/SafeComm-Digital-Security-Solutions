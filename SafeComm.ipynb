{
  "nbformat": 4,
  "nbformat_minor": 0,
  "metadata": {
    "colab": {
      "provenance": [],
      "authorship_tag": "ABX9TyNxD/OFUlJpJFiDQANDisbR"
    },
    "kernelspec": {
      "name": "python3",
      "display_name": "Python 3"
    },
    "language_info": {
      "name": "python"
    }
  },
  "cells": [
    {
      "cell_type": "markdown",
      "source": [
        "# SafeComm-Digital-Security-Solutions\n",
        "\n",
        "Welcome to SafeComm Digital Security Solutions! In the modern digital age, people across the globe\n",
        "communicate largely through text messages. SMSs have become an integral part of our daily lives.\n",
        "However, with this ease of communication, there comes a dark side: SMS-based fraud. Unsuspecting\n",
        "individuals often receive malicious or scam texts intending to deceive or cause harm.\n",
        "SafeComm has recently partnered with a major telecom provider that has shared anonymized SMS\n",
        "data. This dataset comprises a mix of regular day-to-day messages and some potentially fraudulent\n",
        "ones. The objective is to design a mechanism that identifies and flags these fraudulent messages\n",
        "automatically. This way, we can warn users or even prevent these messages from being delivered\n",
        "altogether.\n",
        "\n",
        "# *Dataset features*\n",
        "\n",
        "• Fraudulent: Binary indicator if the SMS is fraudulent (1 for Yes, 0 for No)\n",
        "\n",
        "• SMS Text: The content of the SMS\n",
        "\n",
        "• ID: A unique identifier for each SMS\n",
        "\n",
        "• Date and Time: Timestamp indicating when the SMS was sent\n",
        "\n",
        "# *Assignment*\n",
        "\n",
        "• Perform an Explanatory data analysis (EDA) with visualization using the entire dataset..\n",
        "\n",
        "• Preprocess the dataset (impute missing values, encode categorical features with one-hot\n",
        "encoding). Your goal is to estimate whether an SMS is fraudulent\n",
        "\n",
        "• Define whether this is a regression, classification or clustering problem, explain why and\n",
        "choose your model design accordingly. Test at least 3 different models. First, create a\n",
        "validation set from the training set to analyze the behaviour with the default\n",
        "hyperparameters. Then use cross-validation to find the best set of hyperparameters. You\n",
        "must describe every hyperparameter tuned (the more, the better)\n",
        "\n",
        "• Select the best architecture using the right metric\n",
        "\n",
        "• Compute the performances of the test set\n",
        "\n",
        "• Explain your results"
      ],
      "metadata": {
        "id": "zLXNWWdwhgVd"
      }
    },
    {
      "cell_type": "code",
      "execution_count": 77,
      "metadata": {
        "id": "HJuWXEAVSoMp"
      },
      "outputs": [],
      "source": [
        "import numpy as np\n",
        "import sklearn as skl\n",
        "import pandas as pd\n",
        "import matplotlib.pyplot as plt\n",
        "import seaborn as sns\n",
        "from sklearn.preprocessing import OneHotEncoder\n",
        "from sklearn.preprocessing import StandardScaler\n",
        "import requests\n",
        "import zipfile\n",
        "import os\n",
        "\n",
        "import nltk, spacy\n",
        "import re, string, unicodedata\n",
        "from bs4 import BeautifulSoup\n",
        "from sklearn.linear_model import LogisticRegression, SGDClassifier\n",
        "from sklearn.model_selection import train_test_split\n",
        "from sklearn.svm import SVC\n",
        "from sklearn.metrics import classification_report,confusion_matrix,accuracy_score\n",
        "from sklearn.feature_extraction.text import CountVectorizer\n",
        "from sklearn.feature_extraction.text import TfidfVectorizer\n",
        "from sklearn.preprocessing import LabelBinarizer\n",
        "from nltk.corpus import stopwords\n",
        "from nltk.stem.porter import PorterStemmer\n",
        "from nltk.stem import WordNetLemmatizer\n",
        "from nltk.tokenize import word_tokenize,sent_tokenize\n",
        "from nltk.tokenize.toktok import ToktokTokenizer\n",
        "from nltk.stem import LancasterStemmer,WordNetLemmatizer\n",
        "from wordcloud import WordCloud,STOPWORDS\n",
        "from sklearn import svm\n",
        "from sklearn.naive_bayes import MultinomialNB\n",
        "\n",
        "from imblearn.over_sampling import RandomOverSampler\n"
      ]
    },
    {
      "cell_type": "markdown",
      "source": [
        "## EDA analysis ##\n",
        "\n",
        "* Understanding the Dataset: We use python libraries to scan the dataset and gain insight of its structure\n",
        "\n",
        "* Checking for Integrity: We scan the dataset to identify NaN values and check if the dataset is consistent\n",
        "\n",
        "* Visualize Distribution of Data: using sns and matplotlib we can see how the data is structured in the cartesian plane\n",
        "\n",
        "* Use pairplots for identify relationships: Apparently not necessary"
      ],
      "metadata": {
        "id": "jLmGXXJFqkrF"
      }
    },
    {
      "cell_type": "markdown",
      "source": [
        "# Showing the dataframe\n",
        "\n",
        "* here we display the complete dataset in a dataframe with 4 columns:\n",
        "  - *Fraudolent*: a binary value, that acts like a boolean, that assumes the value of 0 when the sms is not spam; 1 when it is fraudolent.\n",
        "  - *SMS test*: a string of text, representing an sms.\n",
        "  - *ID*: a unique alphanumeric code of 7 digits that represents the sms message.\n",
        "  - *Date and Time*: time in which the message has been sent (it is formatted as date and time)\n",
        "\n",
        "* Plus, for operational purposes, we needed to reformat the name of the *SMS test* and *Date and Time* columns."
      ],
      "metadata": {
        "id": "yEh2tBbc65bh"
      }
    },
    {
      "cell_type": "code",
      "source": [
        "sms_df = pd.read_csv(\"sms.csv\")\n",
        "sms_df.rename(columns={'SMS test': 'SMS_test'}, inplace=True)\n",
        "sms_df.rename(columns={'Date and Time': 'Date_and_Time'}, inplace=True)\n",
        "sms_df.head()"
      ],
      "metadata": {
        "colab": {
          "base_uri": "https://localhost:8080/",
          "height": 206
        },
        "id": "Qm9lUowvwMUc",
        "outputId": "c3fb1bd3-5365-42fa-9077-51a1b0ee9bcc"
      },
      "execution_count": 3,
      "outputs": [
        {
          "output_type": "execute_result",
          "data": {
            "text/plain": [
              "   Fraudolent                                           SMS_test       ID  \\\n",
              "0           0  Squeeeeeze!! This is christmas hug.. If u lik ...  1EWYRBL   \n",
              "1           0  And also I've sorta blown him off a couple tim...  ZY4PDK7   \n",
              "2           0  Mmm thats better now i got a roast down me! i...  KLUX2C6   \n",
              "3           0      Mm have some kanji dont eat anything heavy ok  955HXJ0   \n",
              "4           0  So there's a ring that comes with the guys cos...  00Q6EUC   \n",
              "\n",
              "  Date_and_Time  \n",
              "0    2017-12-02  \n",
              "1    2018-03-23  \n",
              "2    2016-10-29  \n",
              "3    2018-04-12  \n",
              "4    2016-08-01  "
            ],
            "text/html": [
              "\n",
              "  <div id=\"df-14de5aa8-704e-4e99-983e-5d871eaed7dc\" class=\"colab-df-container\">\n",
              "    <div>\n",
              "<style scoped>\n",
              "    .dataframe tbody tr th:only-of-type {\n",
              "        vertical-align: middle;\n",
              "    }\n",
              "\n",
              "    .dataframe tbody tr th {\n",
              "        vertical-align: top;\n",
              "    }\n",
              "\n",
              "    .dataframe thead th {\n",
              "        text-align: right;\n",
              "    }\n",
              "</style>\n",
              "<table border=\"1\" class=\"dataframe\">\n",
              "  <thead>\n",
              "    <tr style=\"text-align: right;\">\n",
              "      <th></th>\n",
              "      <th>Fraudolent</th>\n",
              "      <th>SMS_test</th>\n",
              "      <th>ID</th>\n",
              "      <th>Date_and_Time</th>\n",
              "    </tr>\n",
              "  </thead>\n",
              "  <tbody>\n",
              "    <tr>\n",
              "      <th>0</th>\n",
              "      <td>0</td>\n",
              "      <td>Squeeeeeze!! This is christmas hug.. If u lik ...</td>\n",
              "      <td>1EWYRBL</td>\n",
              "      <td>2017-12-02</td>\n",
              "    </tr>\n",
              "    <tr>\n",
              "      <th>1</th>\n",
              "      <td>0</td>\n",
              "      <td>And also I've sorta blown him off a couple tim...</td>\n",
              "      <td>ZY4PDK7</td>\n",
              "      <td>2018-03-23</td>\n",
              "    </tr>\n",
              "    <tr>\n",
              "      <th>2</th>\n",
              "      <td>0</td>\n",
              "      <td>Mmm thats better now i got a roast down me! i...</td>\n",
              "      <td>KLUX2C6</td>\n",
              "      <td>2016-10-29</td>\n",
              "    </tr>\n",
              "    <tr>\n",
              "      <th>3</th>\n",
              "      <td>0</td>\n",
              "      <td>Mm have some kanji dont eat anything heavy ok</td>\n",
              "      <td>955HXJ0</td>\n",
              "      <td>2018-04-12</td>\n",
              "    </tr>\n",
              "    <tr>\n",
              "      <th>4</th>\n",
              "      <td>0</td>\n",
              "      <td>So there's a ring that comes with the guys cos...</td>\n",
              "      <td>00Q6EUC</td>\n",
              "      <td>2016-08-01</td>\n",
              "    </tr>\n",
              "  </tbody>\n",
              "</table>\n",
              "</div>\n",
              "    <div class=\"colab-df-buttons\">\n",
              "\n",
              "  <div class=\"colab-df-container\">\n",
              "    <button class=\"colab-df-convert\" onclick=\"convertToInteractive('df-14de5aa8-704e-4e99-983e-5d871eaed7dc')\"\n",
              "            title=\"Convert this dataframe to an interactive table.\"\n",
              "            style=\"display:none;\">\n",
              "\n",
              "  <svg xmlns=\"http://www.w3.org/2000/svg\" height=\"24px\" viewBox=\"0 -960 960 960\">\n",
              "    <path d=\"M120-120v-720h720v720H120Zm60-500h600v-160H180v160Zm220 220h160v-160H400v160Zm0 220h160v-160H400v160ZM180-400h160v-160H180v160Zm440 0h160v-160H620v160ZM180-180h160v-160H180v160Zm440 0h160v-160H620v160Z\"/>\n",
              "  </svg>\n",
              "    </button>\n",
              "\n",
              "  <style>\n",
              "    .colab-df-container {\n",
              "      display:flex;\n",
              "      gap: 12px;\n",
              "    }\n",
              "\n",
              "    .colab-df-convert {\n",
              "      background-color: #E8F0FE;\n",
              "      border: none;\n",
              "      border-radius: 50%;\n",
              "      cursor: pointer;\n",
              "      display: none;\n",
              "      fill: #1967D2;\n",
              "      height: 32px;\n",
              "      padding: 0 0 0 0;\n",
              "      width: 32px;\n",
              "    }\n",
              "\n",
              "    .colab-df-convert:hover {\n",
              "      background-color: #E2EBFA;\n",
              "      box-shadow: 0px 1px 2px rgba(60, 64, 67, 0.3), 0px 1px 3px 1px rgba(60, 64, 67, 0.15);\n",
              "      fill: #174EA6;\n",
              "    }\n",
              "\n",
              "    .colab-df-buttons div {\n",
              "      margin-bottom: 4px;\n",
              "    }\n",
              "\n",
              "    [theme=dark] .colab-df-convert {\n",
              "      background-color: #3B4455;\n",
              "      fill: #D2E3FC;\n",
              "    }\n",
              "\n",
              "    [theme=dark] .colab-df-convert:hover {\n",
              "      background-color: #434B5C;\n",
              "      box-shadow: 0px 1px 3px 1px rgba(0, 0, 0, 0.15);\n",
              "      filter: drop-shadow(0px 1px 2px rgba(0, 0, 0, 0.3));\n",
              "      fill: #FFFFFF;\n",
              "    }\n",
              "  </style>\n",
              "\n",
              "    <script>\n",
              "      const buttonEl =\n",
              "        document.querySelector('#df-14de5aa8-704e-4e99-983e-5d871eaed7dc button.colab-df-convert');\n",
              "      buttonEl.style.display =\n",
              "        google.colab.kernel.accessAllowed ? 'block' : 'none';\n",
              "\n",
              "      async function convertToInteractive(key) {\n",
              "        const element = document.querySelector('#df-14de5aa8-704e-4e99-983e-5d871eaed7dc');\n",
              "        const dataTable =\n",
              "          await google.colab.kernel.invokeFunction('convertToInteractive',\n",
              "                                                    [key], {});\n",
              "        if (!dataTable) return;\n",
              "\n",
              "        const docLinkHtml = 'Like what you see? Visit the ' +\n",
              "          '<a target=\"_blank\" href=https://colab.research.google.com/notebooks/data_table.ipynb>data table notebook</a>'\n",
              "          + ' to learn more about interactive tables.';\n",
              "        element.innerHTML = '';\n",
              "        dataTable['output_type'] = 'display_data';\n",
              "        await google.colab.output.renderOutput(dataTable, element);\n",
              "        const docLink = document.createElement('div');\n",
              "        docLink.innerHTML = docLinkHtml;\n",
              "        element.appendChild(docLink);\n",
              "      }\n",
              "    </script>\n",
              "  </div>\n",
              "\n",
              "\n",
              "<div id=\"df-d561dadd-1ca3-4828-b349-7c319607ecad\">\n",
              "  <button class=\"colab-df-quickchart\" onclick=\"quickchart('df-d561dadd-1ca3-4828-b349-7c319607ecad')\"\n",
              "            title=\"Suggest charts\"\n",
              "            style=\"display:none;\">\n",
              "\n",
              "<svg xmlns=\"http://www.w3.org/2000/svg\" height=\"24px\"viewBox=\"0 0 24 24\"\n",
              "     width=\"24px\">\n",
              "    <g>\n",
              "        <path d=\"M19 3H5c-1.1 0-2 .9-2 2v14c0 1.1.9 2 2 2h14c1.1 0 2-.9 2-2V5c0-1.1-.9-2-2-2zM9 17H7v-7h2v7zm4 0h-2V7h2v10zm4 0h-2v-4h2v4z\"/>\n",
              "    </g>\n",
              "</svg>\n",
              "  </button>\n",
              "\n",
              "<style>\n",
              "  .colab-df-quickchart {\n",
              "      --bg-color: #E8F0FE;\n",
              "      --fill-color: #1967D2;\n",
              "      --hover-bg-color: #E2EBFA;\n",
              "      --hover-fill-color: #174EA6;\n",
              "      --disabled-fill-color: #AAA;\n",
              "      --disabled-bg-color: #DDD;\n",
              "  }\n",
              "\n",
              "  [theme=dark] .colab-df-quickchart {\n",
              "      --bg-color: #3B4455;\n",
              "      --fill-color: #D2E3FC;\n",
              "      --hover-bg-color: #434B5C;\n",
              "      --hover-fill-color: #FFFFFF;\n",
              "      --disabled-bg-color: #3B4455;\n",
              "      --disabled-fill-color: #666;\n",
              "  }\n",
              "\n",
              "  .colab-df-quickchart {\n",
              "    background-color: var(--bg-color);\n",
              "    border: none;\n",
              "    border-radius: 50%;\n",
              "    cursor: pointer;\n",
              "    display: none;\n",
              "    fill: var(--fill-color);\n",
              "    height: 32px;\n",
              "    padding: 0;\n",
              "    width: 32px;\n",
              "  }\n",
              "\n",
              "  .colab-df-quickchart:hover {\n",
              "    background-color: var(--hover-bg-color);\n",
              "    box-shadow: 0 1px 2px rgba(60, 64, 67, 0.3), 0 1px 3px 1px rgba(60, 64, 67, 0.15);\n",
              "    fill: var(--button-hover-fill-color);\n",
              "  }\n",
              "\n",
              "  .colab-df-quickchart-complete:disabled,\n",
              "  .colab-df-quickchart-complete:disabled:hover {\n",
              "    background-color: var(--disabled-bg-color);\n",
              "    fill: var(--disabled-fill-color);\n",
              "    box-shadow: none;\n",
              "  }\n",
              "\n",
              "  .colab-df-spinner {\n",
              "    border: 2px solid var(--fill-color);\n",
              "    border-color: transparent;\n",
              "    border-bottom-color: var(--fill-color);\n",
              "    animation:\n",
              "      spin 1s steps(1) infinite;\n",
              "  }\n",
              "\n",
              "  @keyframes spin {\n",
              "    0% {\n",
              "      border-color: transparent;\n",
              "      border-bottom-color: var(--fill-color);\n",
              "      border-left-color: var(--fill-color);\n",
              "    }\n",
              "    20% {\n",
              "      border-color: transparent;\n",
              "      border-left-color: var(--fill-color);\n",
              "      border-top-color: var(--fill-color);\n",
              "    }\n",
              "    30% {\n",
              "      border-color: transparent;\n",
              "      border-left-color: var(--fill-color);\n",
              "      border-top-color: var(--fill-color);\n",
              "      border-right-color: var(--fill-color);\n",
              "    }\n",
              "    40% {\n",
              "      border-color: transparent;\n",
              "      border-right-color: var(--fill-color);\n",
              "      border-top-color: var(--fill-color);\n",
              "    }\n",
              "    60% {\n",
              "      border-color: transparent;\n",
              "      border-right-color: var(--fill-color);\n",
              "    }\n",
              "    80% {\n",
              "      border-color: transparent;\n",
              "      border-right-color: var(--fill-color);\n",
              "      border-bottom-color: var(--fill-color);\n",
              "    }\n",
              "    90% {\n",
              "      border-color: transparent;\n",
              "      border-bottom-color: var(--fill-color);\n",
              "    }\n",
              "  }\n",
              "</style>\n",
              "\n",
              "  <script>\n",
              "    async function quickchart(key) {\n",
              "      const quickchartButtonEl =\n",
              "        document.querySelector('#' + key + ' button');\n",
              "      quickchartButtonEl.disabled = true;  // To prevent multiple clicks.\n",
              "      quickchartButtonEl.classList.add('colab-df-spinner');\n",
              "      try {\n",
              "        const charts = await google.colab.kernel.invokeFunction(\n",
              "            'suggestCharts', [key], {});\n",
              "      } catch (error) {\n",
              "        console.error('Error during call to suggestCharts:', error);\n",
              "      }\n",
              "      quickchartButtonEl.classList.remove('colab-df-spinner');\n",
              "      quickchartButtonEl.classList.add('colab-df-quickchart-complete');\n",
              "    }\n",
              "    (() => {\n",
              "      let quickchartButtonEl =\n",
              "        document.querySelector('#df-d561dadd-1ca3-4828-b349-7c319607ecad button');\n",
              "      quickchartButtonEl.style.display =\n",
              "        google.colab.kernel.accessAllowed ? 'block' : 'none';\n",
              "    })();\n",
              "  </script>\n",
              "</div>\n",
              "    </div>\n",
              "  </div>\n"
            ]
          },
          "metadata": {},
          "execution_count": 3
        }
      ]
    },
    {
      "cell_type": "code",
      "source": [
        "print(\"Rows:\",sms_df.shape[0]) # In this way we gain knowledge about the real dimensions of the dataset in terms of rows"
      ],
      "metadata": {
        "colab": {
          "base_uri": "https://localhost:8080/"
        },
        "id": "jy6wNauLxN0r",
        "outputId": "229f4caa-328e-4ccc-a25b-8559df64517f"
      },
      "execution_count": 4,
      "outputs": [
        {
          "output_type": "stream",
          "name": "stdout",
          "text": [
            "Rows: 5572\n"
          ]
        }
      ]
    },
    {
      "cell_type": "code",
      "source": [
        "# Count NaN values in the dataset\n",
        "nan_count = sms_df.isna().sum()\n",
        "\n",
        "# Display the count of NaN values for each column\n",
        "print(\"NaN values in each column:\")\n",
        "print(nan_count)"
      ],
      "metadata": {
        "colab": {
          "base_uri": "https://localhost:8080/"
        },
        "id": "6noBNCcVxLq0",
        "outputId": "922b6759-bb58-4d9e-b0c3-c2e3c8a41cbb"
      },
      "execution_count": 5,
      "outputs": [
        {
          "output_type": "stream",
          "name": "stdout",
          "text": [
            "NaN values in each column:\n",
            "Fraudolent       0\n",
            "SMS_test         0\n",
            "ID               0\n",
            "Date_and_Time    0\n",
            "dtype: int64\n"
          ]
        }
      ]
    },
    {
      "cell_type": "markdown",
      "source": [
        "Fortunately we don't have NaN values in the dataset, so it is consistent and we do not need to impute missing values."
      ],
      "metadata": {
        "id": "K-LoLD7zxXJj"
      }
    },
    {
      "cell_type": "code",
      "source": [
        "print(\"\\nFraudolent column summary:\")\n",
        "print(sms_df['Fraudolent'].value_counts())\n",
        "#Here we can clearly see that there are 4825 Non-Fraudolent messages and 747 Fraudolent messages.\n",
        "fraudolent_count = sms_df['Fraudolent'].value_counts()[1]\n",
        "non_fraudolent_count = sms_df['Fraudolent'].value_counts()[0]\n",
        "\n",
        "percentage_fraudolent = (fraudolent_count / (fraudolent_count + non_fraudolent_count)) * 100\n",
        "percentage_non_fraudolent = (non_fraudolent_count / (fraudolent_count + non_fraudolent_count)) * 100\n",
        "\n",
        "print(\"Percentage of fraudolent messages:\", percentage_fraudolent,'%')\n",
        "print(\"Percentage of non-fraudolent messages:\", percentage_non_fraudolent,'%')\n",
        "#furthermore we have displayed the percentage of fraudolent and non-fraudolent messages in the dataset. We can see that the dataset is unbalanced, favouring non-fraudolent messages."
      ],
      "metadata": {
        "colab": {
          "base_uri": "https://localhost:8080/"
        },
        "id": "-euOcDyu2JVY",
        "outputId": "2224a3b0-b39a-4d6c-f190-85f64379e91d"
      },
      "execution_count": 6,
      "outputs": [
        {
          "output_type": "stream",
          "name": "stdout",
          "text": [
            "\n",
            "Fraudolent column summary:\n",
            "0    4825\n",
            "1     747\n",
            "Name: Fraudolent, dtype: int64\n",
            "Percentage of fraudolent messages: 13.406317300789663 %\n",
            "Percentage of non-fraudolent messages: 86.59368269921033 %\n"
          ]
        }
      ]
    },
    {
      "cell_type": "markdown",
      "source": [
        "* Here we can clearly see that there are 4825 Non-Fraudolent messages and 747 Fraudolent messages.\n",
        "\n",
        "* Furthermore we have displayed the percentage of fraudolent and non-fraudolent messages in the dataset. We can see that the dataset is unbalanced, favouring non-fraudolent messages."
      ],
      "metadata": {
        "id": "1uP7aZYV3E2O"
      }
    },
    {
      "cell_type": "markdown",
      "source": [
        "## Data Distribution and Correlations ##\n",
        "\n",
        "* In this section, we are analyzing the distribution of data in te cartesian plane utilizing sns and matplotlib tools.\n",
        "\n",
        "* In particular, it seems that the most interesting feature to study in the dataset (in terms of distribution analysis) is the *Fraudolent* column."
      ],
      "metadata": {
        "id": "zeMleYnc59Vb"
      }
    },
    {
      "cell_type": "code",
      "source": [
        "\n",
        "column_to_analyze = 'Fraudolent'\n",
        "\n",
        "# Create a distribution plot (histogram) to visualize the data\n",
        "plt.figure(figsize=(10, 6))\n",
        "sns.histplot(sms_df[column_to_analyze], kde=True, bins=20, color='skyblue')\n",
        "plt.title(f'Distribution of {column_to_analyze}')\n",
        "plt.xlabel(column_to_analyze)\n",
        "plt.ylabel('Frequency')\n",
        "plt.grid(True)\n",
        "\n",
        "# Show the plot\n",
        "plt.show()"
      ],
      "metadata": {
        "colab": {
          "base_uri": "https://localhost:8080/",
          "height": 564
        },
        "id": "59KwlqWh57pd",
        "outputId": "da4e7f7d-223c-4d89-a4b6-d75396486bad"
      },
      "execution_count": 7,
      "outputs": [
        {
          "output_type": "display_data",
          "data": {
            "text/plain": [
              "<Figure size 1000x600 with 1 Axes>"
            ],
            "image/png": "[encoded data removed]"
          },
          "metadata": {}
        }
      ]
    },
    {
      "cell_type": "code",
      "source": [
        "# Visualize the distribution of Fraudolent\n",
        "sns.countplot(data=sms_df, x='Fraudolent')\n",
        "plt.title('Distribution of Fraudolent')\n",
        "plt.xlabel('Fraudolent')\n",
        "plt.ylabel('Count')\n",
        "plt.show()"
      ],
      "metadata": {
        "colab": {
          "base_uri": "https://localhost:8080/",
          "height": 472
        },
        "id": "NBsXYPk2IigI",
        "outputId": "fe943519-b975-4ada-fabb-319d994c91c7"
      },
      "execution_count": 8,
      "outputs": [
        {
          "output_type": "display_data",
          "data": {
            "text/plain": [
              "<Figure size 640x480 with 1 Axes>"
            ],
            "image/png": "[encoded data removed]"
          },
          "metadata": {}
        }
      ]
    },
    {
      "cell_type": "code",
      "source": [
        "sms_df['text_length'] = sms_df['SMS_test'].apply(len)\n",
        "\n",
        "# Visualize text length distribution\n",
        "plt.figure(figsize=(10, 6))\n",
        "sns.histplot(data=sms_df, x='text_length', kde=True, bins=50, color='skyblue')\n",
        "plt.title('Distribution of SMS Text Length')\n",
        "plt.xlabel('Text Length')\n",
        "plt.ylabel('Count')\n",
        "plt.show()"
      ],
      "metadata": {
        "colab": {
          "base_uri": "https://localhost:8080/",
          "height": 564
        },
        "id": "qRPtVeNS5F4d",
        "outputId": "5679c2ee-e55e-45c2-8271-be18afb2e035"
      },
      "execution_count": 10,
      "outputs": [
        {
          "output_type": "display_data",
          "data": {
            "text/plain": [
              "<Figure size 1000x600 with 1 Axes>"
            ],
            "image/png": "[encoded data removed]"
          },
          "metadata": {}
        }
      ]
    },
    {
      "cell_type": "code",
      "source": [
        "# Assuming the Date and Time column is named 'Date_and_Time'\n",
        "sms_df['Date_and_Time'] = pd.to_datetime(sms_df['Date_and_Time'])\n",
        "\n",
        "# Extract date and time components\n",
        "sms_df['Year'] = sms_df['Date_and_Time'].dt.year\n",
        "sms_df['Month'] = sms_df['Date_and_Time'].dt.month\n",
        "sms_df['Day'] = sms_df['Date_and_Time'].dt.day\n",
        "\n",
        "# Visualize temporal distribution\n",
        "plt.figure(figsize=(12, 6))\n",
        "sns.countplot(x='Year', hue='Fraudolent', data=sms_df)\n",
        "plt.title('Temporal Distribution of SMS')\n",
        "plt.xlabel('Year')\n",
        "plt.ylabel('Count')\n",
        "plt.show()"
      ],
      "metadata": {
        "colab": {
          "base_uri": "https://localhost:8080/",
          "height": 564
        },
        "id": "cPhiAGKZ5M0z",
        "outputId": "8392c794-a2fc-4b3f-e61c-5fafa40ec0c8"
      },
      "execution_count": 12,
      "outputs": [
        {
          "output_type": "display_data",
          "data": {
            "text/plain": [
              "<Figure size 1200x600 with 1 Axes>"
            ],
            "image/png": "[encoded data removed]"
          },
          "metadata": {}
        }
      ]
    },
    {
      "cell_type": "code",
      "source": [
        "# Doing the correlation matrix we need only to correlate the Fraudolent feature with the text length, so we can drop the other columns (ID, Date_and_Time, Year, Month, Day)\n",
        "df_dropped = sms_df.drop(['Year', 'Month', 'Day', 'ID', 'Date_and_Time'], axis=1, inplace=False)\n",
        "correlation_matrix = df_dropped.corr()\n",
        "sns.heatmap(correlation_matrix, annot=True, cmap='coolwarm')\n",
        "plt.title('Correlation Matrix')\n",
        "plt.show()\n",
        "\n",
        "#Given the correlations calculated, we can see that there is no strong correlation whatsoever between text_length and Fraudolent values. This means that we can use all of them for our analysis.\n",
        "#We can also see that the correlation between the variables is not strong enough to cause multicollinearity issues.\n",
        "#we can interpet the correlation between Fraudolent and text_length as as weak correlation at most."
      ],
      "metadata": {
        "colab": {
          "base_uri": "https://localhost:8080/",
          "height": 507
        },
        "id": "54UBJou85cWz",
        "outputId": "393b5a6b-fa4b-4e95-e9f3-73293f837103"
      },
      "execution_count": 13,
      "outputs": [
        {
          "output_type": "stream",
          "name": "stderr",
          "text": [
            "<ipython-input-13-43d728a11383>:3: FutureWarning: The default value of numeric_only in DataFrame.corr is deprecated. In a future version, it will default to False. Select only valid columns or specify the value of numeric_only to silence this warning.\n",
            "  correlation_matrix = df_dropped.corr()\n"
          ]
        },
        {
          "output_type": "display_data",
          "data": {
            "text/plain": [
              "<Figure size 640x480 with 2 Axes>"
            ],
            "image/png": "[encoded data removed]"
          },
          "metadata": {}
        }
      ]
    },
    {
      "cell_type": "code",
      "source": [
        "sms_df.columns\n",
        "#By splitting the date into its compoonents, we can analyze the temporal distribution of the messages.\n",
        "earliest_date = sms_df['Date_and_Time'].min()\n",
        "latest_date = sms_df['Date_and_Time'].max()\n",
        "print(\"Earliest date of an SMS message sent:\", earliest_date)\n",
        "print(\"Latest date of an SMS message sent:\", latest_date)\n",
        "#this allows us to see that in our dataset the range of years for which we are viewing sent SMS Messages is from 2016 to 2018"
      ],
      "metadata": {
        "colab": {
          "base_uri": "https://localhost:8080/"
        },
        "id": "ISJiUBf43j_l",
        "outputId": "150eaa2f-f492-4bd5-b879-ccb14a9f8d55"
      },
      "execution_count": 14,
      "outputs": [
        {
          "output_type": "stream",
          "name": "stdout",
          "text": [
            "Earliest date of an SMS message sent: 2016-02-15 00:00:00\n",
            "Latest date of an SMS message sent: 2018-09-19 00:00:00\n"
          ]
        }
      ]
    },
    {
      "cell_type": "markdown",
      "source": [
        "* By analyzing the correlation matrix, we can determine the following:\n",
        "    \n",
        "    • The correlation coefficient ranges from -1 to 1. A value of 1 indicates a perfect positive correlation, -1 indicates a perfect negative correlation, and 0 indicates no correlation.\n",
        "    \n",
        "    • Positive correlation coefficients indicate that the variables tend to increase or decrease together.\n",
        "    \n",
        "    • Negative correlation coefficients indicate that as one variable increases, the other tends to decrease.\n",
        "   \n",
        "    • The closer the correlation coefficient is to 1 or -1, the stronger the correlation.\n",
        "    \n",
        "    • A correlation coefficient close to O indicates no or weak correlation.\n",
        "\n",
        "* Based on the correlation matrix, we can conclude that there is no strong correlation between the two most importanto variables in the dataset. This means that all variables can be used for analysis without causing multicollinearity issues."
      ],
      "metadata": {
        "id": "pPT7EasT4nRE"
      }
    },
    {
      "cell_type": "code",
      "source": [
        "# Remove irrelevant columns\n",
        "df_dropped1 = df_dropped.drop(['text_length'], axis=1)\n",
        "df_dropped1.head()"
      ],
      "metadata": {
        "colab": {
          "base_uri": "https://localhost:8080/",
          "height": 206
        },
        "id": "eoJmgrsA5qAO",
        "outputId": "0f3289d9-da93-418e-e69a-edc60b3a1201"
      },
      "execution_count": 16,
      "outputs": [
        {
          "output_type": "execute_result",
          "data": {
            "text/plain": [
              "   Fraudolent                                           SMS_test\n",
              "0           0  Squeeeeeze!! This is christmas hug.. If u lik ...\n",
              "1           0  And also I've sorta blown him off a couple tim...\n",
              "2           0  Mmm thats better now i got a roast down me! i...\n",
              "3           0      Mm have some kanji dont eat anything heavy ok\n",
              "4           0  So there's a ring that comes with the guys cos..."
            ],
            "text/html": [
              "\n",
              "  <div id=\"df-a71a2ff8-9aaa-4a0c-b9fb-12c4795da5cb\" class=\"colab-df-container\">\n",
              "    <div>\n",
              "<style scoped>\n",
              "    .dataframe tbody tr th:only-of-type {\n",
              "        vertical-align: middle;\n",
              "    }\n",
              "\n",
              "    .dataframe tbody tr th {\n",
              "        vertical-align: top;\n",
              "    }\n",
              "\n",
              "    .dataframe thead th {\n",
              "        text-align: right;\n",
              "    }\n",
              "</style>\n",
              "<table border=\"1\" class=\"dataframe\">\n",
              "  <thead>\n",
              "    <tr style=\"text-align: right;\">\n",
              "      <th></th>\n",
              "      <th>Fraudolent</th>\n",
              "      <th>SMS_test</th>\n",
              "    </tr>\n",
              "  </thead>\n",
              "  <tbody>\n",
              "    <tr>\n",
              "      <th>0</th>\n",
              "      <td>0</td>\n",
              "      <td>Squeeeeeze!! This is christmas hug.. If u lik ...</td>\n",
              "    </tr>\n",
              "    <tr>\n",
              "      <th>1</th>\n",
              "      <td>0</td>\n",
              "      <td>And also I've sorta blown him off a couple tim...</td>\n",
              "    </tr>\n",
              "    <tr>\n",
              "      <th>2</th>\n",
              "      <td>0</td>\n",
              "      <td>Mmm thats better now i got a roast down me! i...</td>\n",
              "    </tr>\n",
              "    <tr>\n",
              "      <th>3</th>\n",
              "      <td>0</td>\n",
              "      <td>Mm have some kanji dont eat anything heavy ok</td>\n",
              "    </tr>\n",
              "    <tr>\n",
              "      <th>4</th>\n",
              "      <td>0</td>\n",
              "      <td>So there's a ring that comes with the guys cos...</td>\n",
              "    </tr>\n",
              "  </tbody>\n",
              "</table>\n",
              "</div>\n",
              "    <div class=\"colab-df-buttons\">\n",
              "\n",
              "  <div class=\"colab-df-container\">\n",
              "    <button class=\"colab-df-convert\" onclick=\"convertToInteractive('df-a71a2ff8-9aaa-4a0c-b9fb-12c4795da5cb')\"\n",
              "            title=\"Convert this dataframe to an interactive table.\"\n",
              "            style=\"display:none;\">\n",
              "\n",
              "  <svg xmlns=\"http://www.w3.org/2000/svg\" height=\"24px\" viewBox=\"0 -960 960 960\">\n",
              "    <path d=\"M120-120v-720h720v720H120Zm60-500h600v-160H180v160Zm220 220h160v-160H400v160Zm0 220h160v-160H400v160ZM180-400h160v-160H180v160Zm440 0h160v-160H620v160ZM180-180h160v-160H180v160Zm440 0h160v-160H620v160Z\"/>\n",
              "  </svg>\n",
              "    </button>\n",
              "\n",
              "  <style>\n",
              "    .colab-df-container {\n",
              "      display:flex;\n",
              "      gap: 12px;\n",
              "    }\n",
              "\n",
              "    .colab-df-convert {\n",
              "      background-color: #E8F0FE;\n",
              "      border: none;\n",
              "      border-radius: 50%;\n",
              "      cursor: pointer;\n",
              "      display: none;\n",
              "      fill: #1967D2;\n",
              "      height: 32px;\n",
              "      padding: 0 0 0 0;\n",
              "      width: 32px;\n",
              "    }\n",
              "\n",
              "    .colab-df-convert:hover {\n",
              "      background-color: #E2EBFA;\n",
              "      box-shadow: 0px 1px 2px rgba(60, 64, 67, 0.3), 0px 1px 3px 1px rgba(60, 64, 67, 0.15);\n",
              "      fill: #174EA6;\n",
              "    }\n",
              "\n",
              "    .colab-df-buttons div {\n",
              "      margin-bottom: 4px;\n",
              "    }\n",
              "\n",
              "    [theme=dark] .colab-df-convert {\n",
              "      background-color: #3B4455;\n",
              "      fill: #D2E3FC;\n",
              "    }\n",
              "\n",
              "    [theme=dark] .colab-df-convert:hover {\n",
              "      background-color: #434B5C;\n",
              "      box-shadow: 0px 1px 3px 1px rgba(0, 0, 0, 0.15);\n",
              "      filter: drop-shadow(0px 1px 2px rgba(0, 0, 0, 0.3));\n",
              "      fill: #FFFFFF;\n",
              "    }\n",
              "  </style>\n",
              "\n",
              "    <script>\n",
              "      const buttonEl =\n",
              "        document.querySelector('#df-a71a2ff8-9aaa-4a0c-b9fb-12c4795da5cb button.colab-df-convert');\n",
              "      buttonEl.style.display =\n",
              "        google.colab.kernel.accessAllowed ? 'block' : 'none';\n",
              "\n",
              "      async function convertToInteractive(key) {\n",
              "        const element = document.querySelector('#df-a71a2ff8-9aaa-4a0c-b9fb-12c4795da5cb');\n",
              "        const dataTable =\n",
              "          await google.colab.kernel.invokeFunction('convertToInteractive',\n",
              "                                                    [key], {});\n",
              "        if (!dataTable) return;\n",
              "\n",
              "        const docLinkHtml = 'Like what you see? Visit the ' +\n",
              "          '<a target=\"_blank\" href=https://colab.research.google.com/notebooks/data_table.ipynb>data table notebook</a>'\n",
              "          + ' to learn more about interactive tables.';\n",
              "        element.innerHTML = '';\n",
              "        dataTable['output_type'] = 'display_data';\n",
              "        await google.colab.output.renderOutput(dataTable, element);\n",
              "        const docLink = document.createElement('div');\n",
              "        docLink.innerHTML = docLinkHtml;\n",
              "        element.appendChild(docLink);\n",
              "      }\n",
              "    </script>\n",
              "  </div>\n",
              "\n",
              "\n",
              "<div id=\"df-f2f5f9ea-0414-4aa4-9bc4-be861d0d23fe\">\n",
              "  <button class=\"colab-df-quickchart\" onclick=\"quickchart('df-f2f5f9ea-0414-4aa4-9bc4-be861d0d23fe')\"\n",
              "            title=\"Suggest charts\"\n",
              "            style=\"display:none;\">\n",
              "\n",
              "<svg xmlns=\"http://www.w3.org/2000/svg\" height=\"24px\"viewBox=\"0 0 24 24\"\n",
              "     width=\"24px\">\n",
              "    <g>\n",
              "        <path d=\"M19 3H5c-1.1 0-2 .9-2 2v14c0 1.1.9 2 2 2h14c1.1 0 2-.9 2-2V5c0-1.1-.9-2-2-2zM9 17H7v-7h2v7zm4 0h-2V7h2v10zm4 0h-2v-4h2v4z\"/>\n",
              "    </g>\n",
              "</svg>\n",
              "  </button>\n",
              "\n",
              "<style>\n",
              "  .colab-df-quickchart {\n",
              "      --bg-color: #E8F0FE;\n",
              "      --fill-color: #1967D2;\n",
              "      --hover-bg-color: #E2EBFA;\n",
              "      --hover-fill-color: #174EA6;\n",
              "      --disabled-fill-color: #AAA;\n",
              "      --disabled-bg-color: #DDD;\n",
              "  }\n",
              "\n",
              "  [theme=dark] .colab-df-quickchart {\n",
              "      --bg-color: #3B4455;\n",
              "      --fill-color: #D2E3FC;\n",
              "      --hover-bg-color: #434B5C;\n",
              "      --hover-fill-color: #FFFFFF;\n",
              "      --disabled-bg-color: #3B4455;\n",
              "      --disabled-fill-color: #666;\n",
              "  }\n",
              "\n",
              "  .colab-df-quickchart {\n",
              "    background-color: var(--bg-color);\n",
              "    border: none;\n",
              "    border-radius: 50%;\n",
              "    cursor: pointer;\n",
              "    display: none;\n",
              "    fill: var(--fill-color);\n",
              "    height: 32px;\n",
              "    padding: 0;\n",
              "    width: 32px;\n",
              "  }\n",
              "\n",
              "  .colab-df-quickchart:hover {\n",
              "    background-color: var(--hover-bg-color);\n",
              "    box-shadow: 0 1px 2px rgba(60, 64, 67, 0.3), 0 1px 3px 1px rgba(60, 64, 67, 0.15);\n",
              "    fill: var(--button-hover-fill-color);\n",
              "  }\n",
              "\n",
              "  .colab-df-quickchart-complete:disabled,\n",
              "  .colab-df-quickchart-complete:disabled:hover {\n",
              "    background-color: var(--disabled-bg-color);\n",
              "    fill: var(--disabled-fill-color);\n",
              "    box-shadow: none;\n",
              "  }\n",
              "\n",
              "  .colab-df-spinner {\n",
              "    border: 2px solid var(--fill-color);\n",
              "    border-color: transparent;\n",
              "    border-bottom-color: var(--fill-color);\n",
              "    animation:\n",
              "      spin 1s steps(1) infinite;\n",
              "  }\n",
              "\n",
              "  @keyframes spin {\n",
              "    0% {\n",
              "      border-color: transparent;\n",
              "      border-bottom-color: var(--fill-color);\n",
              "      border-left-color: var(--fill-color);\n",
              "    }\n",
              "    20% {\n",
              "      border-color: transparent;\n",
              "      border-left-color: var(--fill-color);\n",
              "      border-top-color: var(--fill-color);\n",
              "    }\n",
              "    30% {\n",
              "      border-color: transparent;\n",
              "      border-left-color: var(--fill-color);\n",
              "      border-top-color: var(--fill-color);\n",
              "      border-right-color: var(--fill-color);\n",
              "    }\n",
              "    40% {\n",
              "      border-color: transparent;\n",
              "      border-right-color: var(--fill-color);\n",
              "      border-top-color: var(--fill-color);\n",
              "    }\n",
              "    60% {\n",
              "      border-color: transparent;\n",
              "      border-right-color: var(--fill-color);\n",
              "    }\n",
              "    80% {\n",
              "      border-color: transparent;\n",
              "      border-right-color: var(--fill-color);\n",
              "      border-bottom-color: var(--fill-color);\n",
              "    }\n",
              "    90% {\n",
              "      border-color: transparent;\n",
              "      border-bottom-color: var(--fill-color);\n",
              "    }\n",
              "  }\n",
              "</style>\n",
              "\n",
              "  <script>\n",
              "    async function quickchart(key) {\n",
              "      const quickchartButtonEl =\n",
              "        document.querySelector('#' + key + ' button');\n",
              "      quickchartButtonEl.disabled = true;  // To prevent multiple clicks.\n",
              "      quickchartButtonEl.classList.add('colab-df-spinner');\n",
              "      try {\n",
              "        const charts = await google.colab.kernel.invokeFunction(\n",
              "            'suggestCharts', [key], {});\n",
              "      } catch (error) {\n",
              "        console.error('Error during call to suggestCharts:', error);\n",
              "      }\n",
              "      quickchartButtonEl.classList.remove('colab-df-spinner');\n",
              "      quickchartButtonEl.classList.add('colab-df-quickchart-complete');\n",
              "    }\n",
              "    (() => {\n",
              "      let quickchartButtonEl =\n",
              "        document.querySelector('#df-f2f5f9ea-0414-4aa4-9bc4-be861d0d23fe button');\n",
              "      quickchartButtonEl.style.display =\n",
              "        google.colab.kernel.accessAllowed ? 'block' : 'none';\n",
              "    })();\n",
              "  </script>\n",
              "</div>\n",
              "    </div>\n",
              "  </div>\n"
            ]
          },
          "metadata": {},
          "execution_count": 16
        }
      ]
    },
    {
      "cell_type": "markdown",
      "source": [
        "# Preprocessing\n",
        "\n",
        "* In this section we will try to transform the data into a more suitable format for machine learning Algorithms, using various methods: cleaning data, encoding categorial features, scaling numerical features.\n",
        "\n",
        "\n"
      ],
      "metadata": {
        "id": "IANKuBYtqmT4"
      }
    },
    {
      "cell_type": "code",
      "source": [
        "#sentiment count\n",
        "df_dropped1['Fraudolent'].value_counts()"
      ],
      "metadata": {
        "colab": {
          "base_uri": "https://localhost:8080/"
        },
        "id": "IGVP6xt0qp0K",
        "outputId": "6779c7be-8758-438b-fcb4-9647f72be555"
      },
      "execution_count": 17,
      "outputs": [
        {
          "output_type": "execute_result",
          "data": {
            "text/plain": [
              "0    4825\n",
              "1     747\n",
              "Name: Fraudolent, dtype: int64"
            ]
          },
          "metadata": {},
          "execution_count": 17
        }
      ]
    },
    {
      "cell_type": "code",
      "source": [
        "from sklearn.model_selection import train_test_split\n",
        "\n",
        "X = df_dropped1\n",
        "y = df_dropped1['Fraudolent']\n",
        "\n",
        "# Split the dataset into train and test sets\n",
        "# Adding the \"stratify\" parameter seems not changing at all the distribution of values, that anyway seems very well distributed in the training set\n",
        "X_train, X_test, y_train, y_test = train_test_split(X, y, test_size=0.2, random_state=42, stratify=y)\n",
        "print(f\"X_train shape: {X_train.shape}, y_train shape: {y_train.shape}\")\n",
        "print(f\"X_test shape: {X_test.shape}, y_test shape: {y_test.shape}\")"
      ],
      "metadata": {
        "id": "MMwIXPt1rB1l",
        "colab": {
          "base_uri": "https://localhost:8080/"
        },
        "outputId": "dffc32da-b31f-4b15-da33-123ea6a79892"
      },
      "execution_count": 18,
      "outputs": [
        {
          "output_type": "stream",
          "name": "stdout",
          "text": [
            "X_train shape: (4457, 2), y_train shape: (4457,)\n",
            "X_test shape: (1115, 2), y_test shape: (1115,)\n"
          ]
        }
      ]
    },
    {
      "cell_type": "code",
      "source": [
        "X_train['Fraudolent'].value_counts() # We can clearly see that the train_split is still unbalanced"
      ],
      "metadata": {
        "colab": {
          "base_uri": "https://localhost:8080/"
        },
        "id": "08Z1feyeMdZw",
        "outputId": "1d4d75b6-e297-4140-92d4-c439d652d96e"
      },
      "execution_count": 22,
      "outputs": [
        {
          "output_type": "execute_result",
          "data": {
            "text/plain": [
              "0    3859\n",
              "1     598\n",
              "Name: Fraudolent, dtype: int64"
            ]
          },
          "metadata": {},
          "execution_count": 22
        }
      ]
    },
    {
      "cell_type": "code",
      "source": [
        "# We adjust the balance problem, just by oversampling the Fraudolent part of the X_train\n",
        "oversampler = RandomOverSampler(random_state=42)\n",
        "X_train_resampled, y_train_resampled = oversampler.fit_resample(X_train, y_train)\n",
        "X_train_resampled.head()\n",
        "print(X_train_resampled.value_counts())"
      ],
      "metadata": {
        "colab": {
          "base_uri": "https://localhost:8080/"
        },
        "id": "l85SoklC5Isa",
        "outputId": "dfdb764a-873e-4c0a-d071-49fb28415d78"
      },
      "execution_count": 23,
      "outputs": [
        {
          "output_type": "stream",
          "name": "stdout",
          "text": [
            "Fraudolent  SMS_test                                                                                                                                                          \n",
            "0           Sorry, I'll call later                                                                                                                                                28\n",
            "1           December only! Had your mobile 11mths+? You are entitled to update to the latest colour camera mobile for Free! Call The Mobile Update Co FREE on 08002986906         24\n",
            "            FREE for 1st week! No1 Nokia tone 4 ur mobile every week just txt NOKIA to 8077 Get txting and tell ur mates. www.getzed.co.uk POBox 36504 W45WQ 16+ norm150p/tone    22\n",
            "            For ur chance to win a £250 wkly shopping spree TXT: SHOP to 80878. T's&C's www.txt-2-shop.com custcare 08715705022, 1x150p/wk                                        21\n",
            "            If you don't, your prize will go to another customer. T&C at www.t-c.biz 18+ 150p/min Polo Ltd Suite 373 London W1J 6HL Please call back if busy                      18\n",
            "                                                                                                                                                                                  ..\n",
            "0           I wasn't well babe, i have swollen glands at my throat ... What did you end up doing ?                                                                                 1\n",
            "            I went to project centre                                                                                                                                               1\n",
            "            I went to ur hon lab but no one is there.                                                                                                                              1\n",
            "            I will be gentle baby! Soon you will be taking all  &lt;#&gt;  inches deep inside your tight pussy...                                                                  1\n",
            "            No one interested. May be some business plan.                                                                                                                          1\n",
            "Length: 4189, dtype: int64\n"
          ]
        }
      ]
    },
    {
      "cell_type": "code",
      "source": [
        "X_train_half, _, y_train_half, _ = train_test_split(X_train_resampled, y_train_resampled, test_size=0.5, random_state=42)\n",
        "\n",
        "# Display the shape of the new training set\n",
        "print(\"New Training Set Shape:\")\n",
        "print(X_train_half.shape, y_train_half.shape)\n"
      ],
      "metadata": {
        "colab": {
          "base_uri": "https://localhost:8080/"
        },
        "id": "-cuvE3Am1N5J",
        "outputId": "e58653a2-2e73-4c9e-ac3c-79e946875adc"
      },
      "execution_count": 26,
      "outputs": [
        {
          "output_type": "stream",
          "name": "stdout",
          "text": [
            "New Training Set Shape:\n",
            "(3859, 2) (3859,)\n"
          ]
        }
      ]
    },
    {
      "cell_type": "code",
      "source": [
        "# Set up the figure with two subplots\n",
        "fig, axes = plt.subplots(nrows=1, ncols=3, figsize=(16, 8))\n",
        "\n",
        "# Original dataset histogram\n",
        "sns.countplot(x='Fraudolent', data=X_train, ax=axes[0])\n",
        "axes[0].set_title('Original Dataset - Distribution of Fraudulent Transactions')\n",
        "axes[0].set_xlabel('Fraudolent')\n",
        "axes[0].set_ylabel('Count')\n",
        "\n",
        "# Resampled dataset histogram\n",
        "sns.countplot(x='Fraudolent', data=X_train_resampled, ax=axes[1])\n",
        "axes[1].set_title('Resampled Dataset - Distribution of Fraudulent Transactions')\n",
        "axes[1].set_xlabel('Fraudolent')\n",
        "axes[1].set_ylabel('Count')\n",
        "\n",
        "# Halved dataset histogram\n",
        "sns.countplot(x='Fraudolent', data=X_train_half, ax=axes[2])\n",
        "axes[2].set_title('Halved Dataset - Distribution of Fraudulent Transactions')\n",
        "axes[2].set_xlabel('Fraudolent')\n",
        "axes[2].set_ylabel('Count')\n",
        "\n",
        "# Adjust layout for better spacing\n",
        "plt.tight_layout()\n",
        "plt.show()"
      ],
      "metadata": {
        "colab": {
          "base_uri": "https://localhost:8080/",
          "height": 611
        },
        "id": "B1cqeLJO5yIB",
        "outputId": "aab66b03-230c-49cf-b6fc-28bc673de2ed"
      },
      "execution_count": 27,
      "outputs": [
        {
          "output_type": "display_data",
          "data": {
            "text/plain": [
              "<Figure size 1600x800 with 3 Axes>"
            ],
            "image/png": "[encoded data removed]"
          },
          "metadata": {}
        }
      ]
    },
    {
      "cell_type": "code",
      "source": [
        "#download the stopwords\n",
        "nltk.download('stopwords')\n",
        "\n",
        "#Tokenization of text\n",
        "tokenizer=ToktokTokenizer()\n",
        "\n",
        "#Setting English stopwords\n",
        "stopword_list=nltk.corpus.stopwords.words('english')\n"
      ],
      "metadata": {
        "colab": {
          "base_uri": "https://localhost:8080/"
        },
        "id": "0rZs6EGHsX31",
        "outputId": "1b6653ee-191d-40c9-9e2c-9479571811f3"
      },
      "execution_count": 28,
      "outputs": [
        {
          "output_type": "stream",
          "name": "stderr",
          "text": [
            "[nltk_data] Downloading package stopwords to /root/nltk_data...\n",
            "[nltk_data]   Unzipping corpora/stopwords.zip.\n"
          ]
        }
      ]
    },
    {
      "cell_type": "code",
      "source": [
        "#Removing the html strips\n",
        "def strip_html(text):\n",
        "    soup = BeautifulSoup(text, \"html.parser\")\n",
        "    return soup.get_text()\n",
        "\n",
        "#apply function on SMS_test column (X_train_half)\n",
        "X_train_half['SMS_test']=X_train_half['SMS_test'].apply(strip_html)\n",
        "\n",
        "#apply function on SMS_test column (X_test_half)\n",
        "X_test['SMS_test']=X_test['SMS_test'].apply(strip_html)\n",
        "\n",
        "#Removing the square brackets\n",
        "def remove_between_square_brackets(text):\n",
        "    return re.sub('\\[[^]]*\\]', '', text)\n",
        "\n",
        "#apply function on SMS_test column (X_train_half)\n",
        "X_train_half['SMS_test']=X_train_half['SMS_test'].apply(remove_between_square_brackets)\n",
        "\n",
        "#apply function on SMS_test column (X_test_half)\n",
        "X_test['SMS_test']=X_test['SMS_test'].apply(remove_between_square_brackets)\n",
        "\n",
        "#Removing the noisy text\n",
        "def denoise_text(text):\n",
        "    text = strip_html(text)\n",
        "    text = remove_between_square_brackets(text)\n",
        "    return text\n",
        "\n",
        "#apply function on SMS_test column (X_train_half)\n",
        "X_train_half['SMS_test']=X_train_half['SMS_test'].apply(denoise_text)\n",
        "\n",
        "#apply function on SMS_test column (X_test_half)\n",
        "X_test['SMS_test']=X_test['SMS_test'].apply(denoise_text)\n",
        "\n",
        "\n",
        "#Define function for removing special characters\n",
        "def remove_special_characters(text):\n",
        "    pattern=r'[^a-zA-z0-9\\s]'\n",
        "    text=re.sub(pattern,'',text)\n",
        "    return text\n",
        "\n",
        "#apply function on SMS_test column (X_train_half)\n",
        "X_train_half['SMS_test']=X_train_half['SMS_test'].apply(remove_special_characters)\n",
        "\n",
        "#apply function on SMS_test column (X_test_half)\n",
        "X_test['SMS_test']=X_test['SMS_test'].apply(remove_special_characters)\n",
        "\n",
        "\n",
        "#stemming the text\n",
        "def simple_stemmer(text):\n",
        "    ps=nltk.porter.PorterStemmer()\n",
        "    text= ' '.join([ps.stem(word) for word in text.split()])\n",
        "    return text\n",
        "\n",
        "#apply function on SMS_test column (X_train_half)\n",
        "X_train_half['SMS_test']=X_train_half['SMS_test'].apply(simple_stemmer)\n",
        "\n",
        "#apply function on SMS_test column (X_test_half)\n",
        "X_test['SMS_test']=X_test['SMS_test'].apply(simple_stemmer)\n",
        "\n",
        "#set stopwords to english\n",
        "stop=set(stopwords.words('english'))\n",
        "print(stop)\n",
        "\n",
        "#removing the stopwords\n",
        "def remove_stopwords(text, is_lower_case=False):\n",
        "    tokens = tokenizer.tokenize(text)\n",
        "    tokens = [token.strip() for token in tokens]\n",
        "    if is_lower_case:\n",
        "        filtered_tokens = [token for token in tokens if token not in stopword_list]\n",
        "    else:\n",
        "        filtered_tokens = [token for token in tokens if token.lower() not in stopword_list]\n",
        "    filtered_text = ' '.join(filtered_tokens)\n",
        "    return filtered_text\n",
        "\n",
        "#apply function on SMS_test column (X_train_half)\n",
        "X_train_half['SMS_test']=X_train_half['SMS_test'].apply(remove_stopwords)\n",
        "\n",
        "#apply function on SMS_test column (X_test_half)\n",
        "X_test['SMS_test']=X_test['SMS_test'].apply(remove_stopwords)"
      ],
      "metadata": {
        "colab": {
          "base_uri": "https://localhost:8080/"
        },
        "id": "jvuIOMoksecR",
        "outputId": "1253dba8-12ba-4e41-9411-f9da9dff283b"
      },
      "execution_count": 41,
      "outputs": [
        {
          "output_type": "stream",
          "name": "stderr",
          "text": [
            "<ipython-input-41-9807bfad80d2>:3: MarkupResemblesLocatorWarning: The input looks more like a filename than markup. You may want to open this file and pass the filehandle into Beautiful Soup.\n",
            "  soup = BeautifulSoup(text, \"html.parser\")\n"
          ]
        },
        {
          "output_type": "stream",
          "name": "stdout",
          "text": [
            "{'we', 'did', 'own', 'hadn', 've', 'now', 'don', 'she', \"didn't\", 'while', 'do', 'out', 'for', 'until', 'does', \"she's\", 'ma', 'will', 'under', 'again', 'didn', 'm', 'i', 'being', 'below', 'about', 'so', 'ain', 'wasn', 'himself', 'this', 'you', 'before', \"shan't\", 'between', 'whom', 'am', \"won't\", 'those', 'too', 'shouldn', 'down', 'doing', 'yours', 'they', 'once', 'off', 'won', 'it', 'itself', 'yourself', 'here', 'same', 'their', 'hasn', 'ours', 'further', 'nor', 'some', 'him', 'having', 'themselves', 'y', 'by', 'an', \"needn't\", 'against', 'just', \"you've\", 'which', 'were', \"wasn't\", 'couldn', 'my', \"isn't\", 'over', 'more', \"doesn't\", 'how', 'll', 'only', 'o', 'he', \"mustn't\", 'who', 'theirs', 'few', 'with', 'why', \"you'd\", \"hadn't\", 'to', 'through', 'from', 'was', 'what', 'each', 'in', 'the', 'most', \"couldn't\", 'yourselves', 'there', 'very', 'such', 'me', 'where', 'doesn', 'but', 'your', 'weren', 'can', 'these', 're', \"weren't\", 'as', 'any', \"you're\", 'be', 'shan', 'when', \"don't\", 't', 'during', 'are', 'then', 'of', 'haven', 'at', 'mustn', 'his', 'its', 'into', 'both', 'no', 'have', 'wouldn', \"shouldn't\", 'isn', 'than', 'other', 's', 'and', 'd', 'herself', 'is', 'that', 'our', 'on', 'hers', 'aren', 'a', \"should've\", 'if', 'because', 'them', \"you'll\", 'myself', 'all', 'above', \"mightn't\", 'mightn', \"hasn't\", 'her', \"aren't\", 'had', 'should', 'been', 'or', \"it's\", \"haven't\", \"wouldn't\", 'has', 'up', 'ourselves', \"that'll\", 'not', 'after', 'needn'}\n"
          ]
        }
      ]
    },
    {
      "cell_type": "markdown",
      "source": [
        "# Bag of Words"
      ],
      "metadata": {
        "id": "SrF9dAoJv4Ef"
      }
    },
    {
      "cell_type": "code",
      "source": [
        "#Count vectorizer for bag of words\n",
        "cv=CountVectorizer(min_df=0,max_df=1,binary=False,ngram_range=(1,3))\n",
        "\n",
        "#transformed train\n",
        "cv_train_sms=cv.fit_transform(X_train_half['SMS_test'])\n",
        "\n",
        "#transformed test\n",
        "cv_test_sms=cv.transform(X_test['SMS_test'])\n",
        "\n",
        "print('BOW_cv_train:', cv_train_sms.shape)\n",
        "print('BOW_cv_train:', cv_test_sms.shape)"
      ],
      "metadata": {
        "colab": {
          "base_uri": "https://localhost:8080/"
        },
        "id": "ze2e3jxuyRmx",
        "outputId": "5fa53a07-21cb-4f83-f20e-1de63299f6d1"
      },
      "execution_count": 56,
      "outputs": [
        {
          "output_type": "stream",
          "name": "stdout",
          "text": [
            "BOW_cv_train: (3859, 24066)\n",
            "BOW_cv_train: (1115, 24066)\n"
          ]
        }
      ]
    },
    {
      "cell_type": "markdown",
      "source": [
        "# TF-IDF"
      ],
      "metadata": {
        "id": "ThqQqJbpv7B0"
      }
    },
    {
      "cell_type": "code",
      "source": [
        "#Tfidf vectorizer\n",
        "tv=TfidfVectorizer(min_df=0,max_df=1,use_idf=True,ngram_range=(1,3))\n",
        "\n",
        "#transformed train reviews\n",
        "tv_train_sms=tv.fit_transform(X_train_half['SMS_test'])\n",
        "\n",
        "#transformed test reviews\n",
        "tv_test_sms=tv.transform(X_test['SMS_test'])\n",
        "\n",
        "print('Tfidf_train:', tv_train_sms.shape)\n",
        "print('Tfidf_test:', tv_test_sms.shape)"
      ],
      "metadata": {
        "colab": {
          "base_uri": "https://localhost:8080/"
        },
        "id": "Pj4PpTy2wE63",
        "outputId": "29690bf4-778f-4a1b-e30d-e3a59c77564e"
      },
      "execution_count": 46,
      "outputs": [
        {
          "output_type": "stream",
          "name": "stdout",
          "text": [
            "Tfidf_train: (3859, 24066)\n",
            "Tfidf_test: (1115, 24066)\n"
          ]
        }
      ]
    },
    {
      "cell_type": "markdown",
      "source": [
        "# Labeling Sentiment analysis"
      ],
      "metadata": {
        "id": "jhYpWMPOwkpp"
      }
    },
    {
      "cell_type": "code",
      "source": [
        "#labeling the sentiment data\n",
        "lb=LabelBinarizer()\n",
        "\n",
        "#transformed sentiment data\n",
        "sentiment_data=lb.fit_transform(sms_df['SMS_test'])\n",
        "print(sentiment_data.shape)"
      ],
      "metadata": {
        "colab": {
          "base_uri": "https://localhost:8080/"
        },
        "id": "62pvOEP-wjnW",
        "outputId": "46729a0e-cbe5-4b06-8688-228f2a88f3e1"
      },
      "execution_count": 78,
      "outputs": [
        {
          "output_type": "stream",
          "name": "stdout",
          "text": [
            "(5572, 5157)\n"
          ]
        }
      ]
    },
    {
      "cell_type": "markdown",
      "source": [
        "# Models"
      ],
      "metadata": {
        "id": "f0JSHRD1NypT"
      }
    },
    {
      "cell_type": "code",
      "source": [
        "# logistic regression has a pretty good accuracy on train set, but a very bad score in test set\n",
        "model = LogisticRegression()\n",
        "model.fit(tv_train_sms, y_train_half)\n",
        "print(model.score(tv_train_sms, y_train_half))\n",
        "\n",
        "y_pred = model.predict(tv_test_sms)\n",
        "\n",
        "print(model.score(tv_test_sms, y_test))"
      ],
      "metadata": {
        "colab": {
          "base_uri": "https://localhost:8080/"
        },
        "id": "tFqWXCbVN9Vq",
        "outputId": "2b48613a-bbba-43a0-93e0-b24b269cf29e"
      },
      "execution_count": 90,
      "outputs": [
        {
          "output_type": "stream",
          "name": "stdout",
          "text": [
            "0.9582793469810832\n",
            "0.2914798206278027\n"
          ]
        }
      ]
    },
    {
      "cell_type": "code",
      "source": [
        "# using a naive bayes classifiers (MultinomialNB, very popular for text classification) the train score diminishes while the test's increases\n",
        "model = MultinomialNB()\n",
        "model.fit(tv_train_sms, y_train_half)\n",
        "print(model.score(tv_train_sms, y_train_half))\n",
        "\n",
        "y_pred = model.predict(tv_test_sms)\n",
        "\n",
        "print(model.score(tv_test_sms, y_test))"
      ],
      "metadata": {
        "colab": {
          "base_uri": "https://localhost:8080/"
        },
        "id": "HoSvLUfjZCRp",
        "outputId": "4041849a-81f4-4a7d-bc5d-c5a5190af572"
      },
      "execution_count": 91,
      "outputs": [
        {
          "output_type": "stream",
          "name": "stdout",
          "text": [
            "0.39958538481471884\n",
            "0.6968609865470852\n"
          ]
        }
      ]
    },
    {
      "cell_type": "code",
      "source": [
        "# evaluation quite similar, if not identical, to the LogReg implementation\n",
        "model = SVC(kernel='linear')  # also try with kernel='rbf' and gives a lil bit better results\n",
        "model.fit(tv_train_sms, y_train_half)\n",
        "print(model.score(tv_train_sms, y_train_half))\n",
        "\n",
        "y_pred = model.predict(tv_test_sms)\n",
        "\n",
        "print(model.score(tv_test_sms, y_test))"
      ],
      "metadata": {
        "colab": {
          "base_uri": "https://localhost:8080/"
        },
        "id": "V1HDLPyjZ8vB",
        "outputId": "676f0a83-b9aa-41d9-fcc8-52dd0330ed1e"
      },
      "execution_count": 92,
      "outputs": [
        {
          "output_type": "stream",
          "name": "stdout",
          "text": [
            "0.5141228297486395\n",
            "0.8762331838565023\n"
          ]
        }
      ]
    },
    {
      "cell_type": "code",
      "source": [
        "from sklearn.ensemble import RandomForestClassifier\n",
        "\n",
        "model = RandomForestClassifier()\n",
        "model.fit(tv_train_sms, y_train_half)\n",
        "print(model.score(tv_train_sms, y_train_half))\n",
        "\n",
        "y_pred = model.predict(tv_test_sms)\n",
        "\n",
        "print(model.score(tv_test_sms, y_test))"
      ],
      "metadata": {
        "colab": {
          "base_uri": "https://localhost:8080/"
        },
        "id": "x-F6y_-Eawb8",
        "outputId": "742675c6-1aec-4e5b-b69c-5446ed99ccfe"
      },
      "execution_count": 94,
      "outputs": [
        {
          "output_type": "stream",
          "name": "stdout",
          "text": [
            "0.9582793469810832\n",
            "0.18295964125560538\n"
          ]
        }
      ]
    },
    {
      "cell_type": "code",
      "source": [
        "from xgboost import XGBClassifier # quite similar to the Multinomial implementation\n",
        "\n",
        "model = XGBClassifier()\n",
        "model.fit(tv_train_sms, y_train_half)\n",
        "print(model.score(tv_train_sms, y_train_half))\n",
        "\n",
        "y_pred = model.predict(tv_test_sms)\n",
        "\n",
        "print(model.score(tv_test_sms, y_test))"
      ],
      "metadata": {
        "colab": {
          "base_uri": "https://localhost:8080/"
        },
        "id": "apUOA5_pbNY_",
        "outputId": "d2e2838b-a9bb-4860-eaea-12858c85d0d4"
      },
      "execution_count": 95,
      "outputs": [
        {
          "output_type": "stream",
          "name": "stdout",
          "text": [
            "0.5006478362270018\n",
            "0.8663677130044843\n"
          ]
        }
      ]
    }
  ]
}